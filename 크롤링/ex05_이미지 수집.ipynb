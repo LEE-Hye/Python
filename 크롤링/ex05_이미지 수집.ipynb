{
 "cells": [
  {
   "cell_type": "code",
   "execution_count": 2,
   "id": "fe5c6351",
   "metadata": {},
   "outputs": [],
   "source": [
    "from bs4 import BeautifulSoup as bs\n",
    "\n",
    "from selenium import webdriver as wb # 웹을 통제하기 위한 라이브러리\n",
    "from selenium.webdriver.common.keys import Keys # 웹에 키 값을 전달하기 위한 라이브러리\n",
    "from selenium.webdriver.common.by import By\n",
    "import time"
   ]
  },
  {
   "cell_type": "markdown",
   "id": "7a559ff5",
   "metadata": {},
   "source": [
    "### 이미지 크롤링"
   ]
  },
  {
   "cell_type": "markdown",
   "id": "3d4cc184",
   "metadata": {},
   "source": [
    "### 네이버 검색"
   ]
  },
  {
   "cell_type": "code",
   "execution_count": 10,
   "id": "2318f9c2",
   "metadata": {},
   "outputs": [],
   "source": [
    "url = 'https://search.naver.com/search.naver?where=image&sm=tab_jum&query=%EA%B0%95%EC%95%84%EC%A7%80'\n",
    "driver = wb.Chrome()\n",
    "driver.get(url)"
   ]
  },
  {
   "cell_type": "code",
   "execution_count": 11,
   "id": "268fad8e",
   "metadata": {},
   "outputs": [],
   "source": [
    "body = driver.find_element(By.CSS_SELECTOR, 'body')"
   ]
  },
  {
   "cell_type": "code",
   "execution_count": 12,
   "id": "a248d68b",
   "metadata": {},
   "outputs": [],
   "source": [
    "for i in range(50):\n",
    "    body.send_keys(Keys.PAGE_DOWN)\n",
    "    time.sleep(1)"
   ]
  },
  {
   "cell_type": "code",
   "execution_count": null,
   "id": "6501151b",
   "metadata": {},
   "outputs": [],
   "source": []
  },
  {
   "cell_type": "code",
   "execution_count": 13,
   "id": "4513bf1f",
   "metadata": {},
   "outputs": [],
   "source": [
    "import os # 파일 시스템을 위한 라이브러리\n",
    "                 # ex) 파일, 폴더 생성, 삭제, 존재 여부 파악\n",
    "                 # \n",
    "from urllib.request import urlretrieve\n",
    "# 이미지 경로를 파일로 저장"
   ]
  },
  {
   "cell_type": "code",
   "execution_count": 21,
   "id": "2c3df681",
   "metadata": {},
   "outputs": [],
   "source": [
    "if not os.path.isdir('./이미지'): # 존재 여부 파악\n",
    "    os.mkdir('./이미지') # 폴더 생성 ./ : 현재 폴더 ../ : 상위폴더\n",
    "    print('폴더 생성')"
   ]
  },
  {
   "cell_type": "code",
   "execution_count": 22,
   "id": "4b930b1f",
   "metadata": {},
   "outputs": [],
   "source": [
    "# 파싱\n",
    "soup = bs(driver.page_source)"
   ]
  },
  {
   "cell_type": "code",
   "execution_count": 26,
   "id": "b2a01d7e",
   "metadata": {},
   "outputs": [],
   "source": [
    "img = soup.select('img._image._listImage')"
   ]
  },
  {
   "cell_type": "code",
   "execution_count": 55,
   "id": "d8085714",
   "metadata": {},
   "outputs": [],
   "source": [
    "img_src = []\n",
    "\n",
    "for i in img:\n",
    "    try:\n",
    "        img_src.append(i['data-lazy-src'])\n",
    "    except:\n",
    "        img_src.append(i['src'])"
   ]
  },
  {
   "cell_type": "code",
   "execution_count": 56,
   "id": "31cb2700",
   "metadata": {},
   "outputs": [
    {
     "data": {
      "text/plain": [
       "144"
      ]
     },
     "execution_count": 56,
     "metadata": {},
     "output_type": "execute_result"
    }
   ],
   "source": [
    "len(img_src)"
   ]
  },
  {
   "cell_type": "code",
   "execution_count": 57,
   "id": "67423e57",
   "metadata": {},
   "outputs": [
    {
     "data": {
      "text/plain": [
       "('./이미지/1.jpg', <http.client.HTTPMessage at 0x28775fb5b20>)"
      ]
     },
     "execution_count": 57,
     "metadata": {},
     "output_type": "execute_result"
    }
   ],
   "source": [
    "# 저장할 이미지 경로, 저장할 위치 및 파일명\n",
    "urlretrieve(img_src[0], './이미지/1.jpg')"
   ]
  },
  {
   "cell_type": "code",
   "execution_count": 58,
   "id": "0869d366",
   "metadata": {},
   "outputs": [
    {
     "data": {
      "text/plain": [
       "'https://search.pstatic.net/common/?src=http%3A%2F%2Fblogfiles.naver.net%2FMjAyMjA5MTBfMjQ4%2FMDAxNjYyNzk2NTcxODQ5.6mgr_J7hxdO522x2PolgIfk94j1_WtPY0Mf5QH_oSm0g.m1FUkVi4WYrWsZ1Q9kRVWhfuVcFHmtcqV9m0i1vyBBwg.JPEG.craanlddoganst%2FKakaoTalk_20220910_160519798_02.jpg&type=a340'"
      ]
     },
     "execution_count": 58,
     "metadata": {},
     "output_type": "execute_result"
    }
   ],
   "source": [
    "img_src[0]"
   ]
  },
  {
   "cell_type": "code",
   "execution_count": 59,
   "id": "38bd4ecd",
   "metadata": {},
   "outputs": [],
   "source": [
    "# 저장할 이미지 경루, 저장할 위치 및 파일명\n",
    "\n",
    "for i in range(len(img_src)):\n",
    "    urlretrieve(img_src[i], './이미지/'+str(i)+'.jpg')\n",
    "    time.sleep(0.3)"
   ]
  },
  {
   "cell_type": "code",
   "execution_count": 51,
   "id": "f5fe2ea3",
   "metadata": {},
   "outputs": [],
   "source": []
  },
  {
   "cell_type": "code",
   "execution_count": 46,
   "id": "5e91adf2",
   "metadata": {},
   "outputs": [
    {
     "data": {
      "text/plain": [
       "<img alt=\"동탄강아지분양 꽉 찬 마음\" class=\"_image _listImage\" data-lazy-src=\"https://search.pstatic.net/common/?src=http%3A%2F%2Fblogfiles.naver.net%2FMjAyMjA5MDVfMTg4%2FMDAxNjYyMzcyMTc1MzQy.7rUTeioTlpoiCd2il5EJD3clgnQFPegwOaaA093CnJMg.C6pCdsohCNbSxQ42AFY4HQpf3Jn_SeMFQZ-P_B62ankg.JPEG.binyunicokr%2F11.jpg&amp;type=a340\" data-org-height=\"255\" data-org-width=\"340\" src=\"data:image/gif;base64,R0lGODlhAQABAIAAAAAAAP///yH5BAEAAAAALAAAAAABAAEAAAIBRAA7\" style=\"height: 164px;\"/>"
      ]
     },
     "execution_count": 46,
     "metadata": {},
     "output_type": "execute_result"
    }
   ],
   "source": [
    "img[4]"
   ]
  },
  {
   "cell_type": "code",
   "execution_count": null,
   "id": "6e6c8a26",
   "metadata": {},
   "outputs": [],
   "source": []
  },
  {
   "cell_type": "markdown",
   "id": "73b647c0",
   "metadata": {},
   "source": [
    "### 한솥"
   ]
  },
  {
   "cell_type": "code",
   "execution_count": 77,
   "id": "1de461e9",
   "metadata": {},
   "outputs": [],
   "source": [
    "url = 'https://www.hsd.co.kr/menu/menu_list'\n",
    "\n",
    "driver = wb.Chrome()\n",
    "driver.get(url)"
   ]
  },
  {
   "cell_type": "code",
   "execution_count": 78,
   "id": "b667960b",
   "metadata": {},
   "outputs": [
    {
     "name": "stdout",
     "output_type": "stream",
     "text": [
      "끝\n"
     ]
    }
   ],
   "source": [
    "for i in range(6):\n",
    "    try:\n",
    "        btn = driver.find_element(By.CSS_SELECTOR, 'a.c_05')\n",
    "        btn.click()\n",
    "        time.sleep(1) # 1초 기다리겠다\n",
    "    except:\n",
    "        print(\"끝\")\n",
    "        break"
   ]
  },
  {
   "cell_type": "code",
   "execution_count": 79,
   "id": "dd37f9c8",
   "metadata": {},
   "outputs": [],
   "source": [
    "# 컨텐츠, src속성 등 가져오려면 파싱해야함\n",
    "# 제어 관련된건 드라이버 파인드\n",
    "# 값 수정 하고 싶으면 파싱\n",
    "soup = bs(driver.page_source, 'lxml')"
   ]
  },
  {
   "cell_type": "code",
   "execution_count": 80,
   "id": "ba7c37f3",
   "metadata": {},
   "outputs": [
    {
     "data": {
      "text/plain": [
       "[<img alt=\"데미햄버그 불고기 파스타\" src=\"https://www.hsd.co.kr/images/b07e2716af0c4ceba2c17ba7f160ce1120220908090458.jpg\"/>,\n",
       " <img alt=\"데미햄버그 불고기 덮밥\" src=\"https://www.hsd.co.kr/images/dcf9bf2a7e00493fb4c1f68ee7440d4020220907081551.jpg\"/>,\n",
       " <img alt=\"아보카도 게맛살 명란비빔밥\" src=\"https://www.hsd.co.kr/images/437e00c4d4084cbd9ddb23876b841c0020220831040321.jpg\"/>,\n",
       " <img alt=\"아보카도 소고기 명란비빔밥\" src=\"https://www.hsd.co.kr/images/f29d5c83358d42129ee137ae2c45a6e920220831035555.jpg\"/>,\n",
       " <img alt=\"핫 치즈 닭갈비덮밥\" src=\"https://www.hsd.co.kr/images/87e19d0a3c27492db1affc62e5eb60f120220831040940.jpg\"/>,\n",
       " <img alt=\"오리지널 치즈 닭갈비덮밥\" src=\"https://www.hsd.co.kr/images/5c75b23a1f684691b1e17acbc4666c2420220831041106.jpg\"/>,\n",
       " <img alt=\"매화(순살 고등어 간장구이)\" src=\"https://www.hsd.co.kr/images/b9d45261871a4d21993fa46f032d3d8e20220131093830.jpg\"/>,\n",
       " <img alt=\"진달래\" src=\"https://www.hsd.co.kr/images/c6ea345112d1413fa0d2f59ba4f04e2c20220131093728.jpg\"/>,\n",
       " <img alt=\"개나리(순살 고등어 간장구이)\" src=\"https://www.hsd.co.kr/images/2360f74610964bc4a3d5363d3ac8a3b920220131093956.jpg\"/>,\n",
       " <img alt=\"돈까스도련님고기고기\" src=\"https://www.hsd.co.kr/images/83bfa7bfe33944b697c108ae5dc9901d20220131094712.jpg\"/>,\n",
       " <img alt=\"탕수육도련님고기고기\" src=\"https://www.hsd.co.kr/images/629a5788d03749a1a2551029a04cfced20220131094742.jpg\"/>,\n",
       " <img alt=\"새치 고기고기\" src=\"https://www.hsd.co.kr/images/4b47a4163a994725930822f2666e1eec20220131094812.jpg\"/>,\n",
       " <img alt=\"돈치 고기고기\" src=\"https://www.hsd.co.kr/images/833228eb979f4e5d91209a7d7e74860d20220131094842.jpg\"/>,\n",
       " <img alt=\"오븐구이 오리도시락\" src=\"https://www.hsd.co.kr/images/4bd6ccd69e7b4f5e9bd3c1d6c34ee48520220630035231.jpg\"/>,\n",
       " <img alt=\"숯불직화구이\" src=\"https://www.hsd.co.kr/images/66e2e3b20b084b89908c55d7e3927dc120220131095214.jpg\"/>,\n",
       " <img alt=\"소불고기\" src=\"https://www.hsd.co.kr/images/8aa154079b6347c284dcb827f3d8bc0f20220131095241.jpg\"/>,\n",
       " <img alt=\"메가치킨제육\" src=\"https://www.hsd.co.kr/images/e72d0b631cd547569f9adc8f12dc3c5620220131095320.jpg\"/>,\n",
       " <img alt=\"칠리 찹쌀탕수육도련님\" src=\"https://www.hsd.co.kr/images/662aac84a0594ceaa0f58b85305961d020220131095411.jpg\"/>,\n",
       " <img alt=\"동백\" src=\"https://www.hsd.co.kr/images/861430676147400db69b114851911b0920220131095439.jpg\"/>,\n",
       " <img alt=\"치킨제육\" src=\"https://www.hsd.co.kr/images/a8592580db2c4fa58e05088a335dd73a20220131095500.jpg\"/>,\n",
       " <img alt=\"돈까스도련님\" src=\"https://www.hsd.co.kr/images/4289ccdd5f084703b09e00d79f92495f20220131095523.jpg\"/>,\n",
       " <img alt=\"제육볶음\" src=\"https://www.hsd.co.kr/images/e5d6c35af326470783f6303aea8e3dc920220131095544.jpg\"/>,\n",
       " <img alt=\"돈치스팸 도시락\" src=\"https://www.hsd.co.kr/images/7303e908a2ee4eb3bd7b10b6fb5e50d620220131095605.jpg\"/>,\n",
       " <img alt=\"제육 김치찌개 정식\" src=\"https://www.hsd.co.kr/images/c7c141d69a7643298e10bdfaf5c344dc20220127074753.jpg\"/>,\n",
       " <img alt=\"제육 김치 부대찌개 정식\" src=\"https://www.hsd.co.kr/images/dac5889568db4362ace1acd2c6a004de20211130065041.jpg\"/>,\n",
       " <img alt=\"돈치스팸 김치 부대찌개 정식\" src=\"https://www.hsd.co.kr/images/12d0f4e3adc74be69614b7aa50d430ee20211130065011.jpg\"/>,\n",
       " <img alt=\"빅치킨마요 김치 부대찌개 정식\" src=\"https://www.hsd.co.kr/images/561be74d089340258e64e77b98ef196920220127074925.jpg\"/>,\n",
       " <img alt=\"치킨마요 김치 부대찌개 정식\" src=\"https://www.hsd.co.kr/images/0ca7d002f7fd495dbe15f9cc330fde6f20220127075018.jpg\"/>,\n",
       " <img alt=\"빅치킨마요 김치찌개 정식\" src=\"https://www.hsd.co.kr/images/489276be1fee43de97671f62cad1698220220131095915.jpg\"/>,\n",
       " <img alt=\"치킨마요 김치찌개 정식\" src=\"https://www.hsd.co.kr/images/3c45ed93b2854ecd9976245b16d0716e20220131095943.jpg\"/>,\n",
       " <img alt=\"메가스팸마요\" src=\"https://www.hsd.co.kr/images/19a2b65f6a464757bc36404b4edb3a5820220127075626.jpg\"/>,\n",
       " <img alt=\"스팸마요\" src=\"https://www.hsd.co.kr/images/4d82aaca2c954a498786dba8d8b7097920220127075646.jpg\"/>,\n",
       " <img alt=\"메가치킨마요\" src=\"https://www.hsd.co.kr/images/7dfad1e4006b4ee584c707dd45c1984620220127081219.jpg\"/>,\n",
       " <img alt=\"왕치킨마요\" src=\"https://www.hsd.co.kr/images/63ecc71201424b139caf40986028f91f20220127081244.jpg\"/>,\n",
       " <img alt=\"빅치킨마요\" src=\"https://www.hsd.co.kr/images/3182c01777d04bdeb96abd9423c92fc520220127081319.jpg\"/>,\n",
       " <img alt=\"치킨마요\" src=\"https://www.hsd.co.kr/images/e36c04b219ff41ad82f32208585e41cf20220127081455.jpg\"/>,\n",
       " <img alt=\"참치마요\" src=\"https://www.hsd.co.kr/images/40f8e1985f804226bf7c7cc783ae091420220324025555.jpg\"/>,\n",
       " <img alt=\"돈치마요\" src=\"https://www.hsd.co.kr/images/32fbc49a258b42e9b90cf1101da45f5920171012082726.jpg\"/>,\n",
       " <img alt=\"돈까스 카레\" src=\"https://www.hsd.co.kr/images/038ba8c460f84de4be24cf4380f9983f20171017045727.jpg\"/>,\n",
       " <img alt=\"스팸 김치볶음밥\" src=\"https://www.hsd.co.kr/images/6c27f07d1ad3495d8146d345ac29839b20201016081816.jpg\"/>,\n",
       " <img alt=\"김치볶음밥\" src=\"https://www.hsd.co.kr/images/bff76222e93b42d690c1e7d091c65fdc20201016081556.jpg\"/>,\n",
       " <img alt=\"스팸철판볶음밥\" src=\"https://www.hsd.co.kr/images/6b5c347829394633ac5605d11a09f5e220200701094012.jpg\"/>,\n",
       " <img alt=\"소불고기 철판볶음밥\" src=\"https://www.hsd.co.kr/images/87169dc7997a4705ba3966c309c976d220180131080201.jpg\"/>,\n",
       " <img alt=\"나시고랭\" src=\"https://www.hsd.co.kr/images/ac8b39fc1036495aaa6ee75f3c25353f20220325040012.jpg\"/>,\n",
       " <img alt=\"묵은지 김치찌개\" src=\"https://www.hsd.co.kr/images/ddb7ee6030e148c093be561a5474ad9920180605065551.jpg\"/>,\n",
       " <img alt=\"김치 부대찌개\" src=\"https://www.hsd.co.kr/images/241de055e19c4ab8ae8cb74cebbbe3ab20211129033214.jpg\"/>,\n",
       " <img alt=\"숯불직화구이 덮밥\" src=\"https://www.hsd.co.kr/images/859fb285fafc4b9d8f3ac6686509fee720201231100918.jpeg\"/>,\n",
       " <img alt=\"마파두부 덮밥\" src=\"https://www.hsd.co.kr/images/9b9cef1c01aa4f77ac40b054151ada0b20211028045751.jpg\"/>,\n",
       " <img alt=\"왕카레돈까스덮밥\" src=\"https://www.hsd.co.kr/images/26b4e1283d8f4ef887150442999b9b7f20211118024337.jpg\"/>,\n",
       " <img alt=\"새우돈까스 덮밥\" src=\"https://www.hsd.co.kr/images/08cf65d158284d889864440a01c6bfd820171012082829.jpg\"/>,\n",
       " <img alt=\"돈까스 덮밥\" src=\"https://www.hsd.co.kr/images/e991ff7ce6d6411fb5c7ca363fc2ffd020211118024204.jpg\"/>,\n",
       " <img alt=\"열무 감초고추장 비빔밥\" src=\"https://www.hsd.co.kr/images/1daadcdd64424376856b0fb0b506688220220608033513.jpg\"/>,\n",
       " <img alt=\"열무 두부강된장 비빔밥\" src=\"https://www.hsd.co.kr/images/ed20a5e61fad460fa1702e50631bd95120220608033214.jpg\"/>,\n",
       " <img alt=\"소불고기 감초고추장 비빔밥\" src=\"https://www.hsd.co.kr/images/c10edc2c2d0e4ff79367c110cf9fe11420180531085400.jpg\"/>,\n",
       " <img alt=\"시골제육 두부강된장 비빔밥\" src=\"https://www.hsd.co.kr/images/ead7a4d64dc24f1480f128cb52e4694120180531085436.jpg\"/>,\n",
       " <img alt=\"참치야채 감초고추장\" src=\"https://www.hsd.co.kr/images/7742a2629123408c89578153fa72518e20171012083106.jpg\"/>,\n",
       " <img alt=\"튼튼도시락\" src=\"https://www.hsd.co.kr/images/00679bf553ac408db988ff002ea8901d20200602024518.jpg\"/>,\n",
       " <img alt=\"토네이도 소세지 파스타\" src=\"https://www.hsd.co.kr/images/e65afaf0f1ba4a1f98df1b67aff4d8ef20210531051750.jpg\"/>,\n",
       " <img alt=\"트리플 치즈 파스타\" src=\"https://www.hsd.co.kr/images/86eb5f2feca3485693ea7eac0b6c547120210531053044.jpg\"/>,\n",
       " <img alt=\"토마토 미트 파스타\" src=\"https://www.hsd.co.kr/images/94d63630fb924a30bb2e84afe411709220210531053131.jpg\"/>,\n",
       " <img alt=\"반찬 계란말이\" src=\"https://www.hsd.co.kr/images/777bb5ebcbca4d569ecabf9a0bf7ac0e20210521044632.jpg\"/>,\n",
       " <img alt=\"반찬 묵은지김치찌개\" src=\"https://www.hsd.co.kr/images/e179d0d8f03645648ae3b0d2162c088120190109110329.jpg\"/>,\n",
       " <img alt=\"반찬 카레\" src=\"https://www.hsd.co.kr/images/07c7b9661803458bbc43c22fe1b6196e20180320024429.jpg\"/>,\n",
       " <img alt=\"반찬 순살 고등어데리야끼\" src=\"https://www.hsd.co.kr/images/947ead456efb46abab68f3c547f0c6a020210521044504.jpg\"/>,\n",
       " <img alt=\"반찬 김치 부대찌개\" src=\"https://www.hsd.co.kr/images/85acc4bde4c04c10af6afeb4059abd3e20211129051759.jpg\"/>,\n",
       " <img alt=\"반찬 치킨\" src=\"https://www.hsd.co.kr/images/51d992e9949e41dcb96269fc4deaf69020220127074301.jpg\"/>,\n",
       " <img alt=\"반찬 고기고기\" src=\"https://www.hsd.co.kr/images/02a15eaf142a422eaf7e47d63f06878e20210521044427.jpg\"/>,\n",
       " <img alt=\"반찬 돈까스 도련님\" src=\"https://www.hsd.co.kr/images/5f9b7273ad1f4c1095e8e07a5fc5368820220127074335.jpg\"/>,\n",
       " <img alt=\"반찬 제육볶음\" src=\"https://www.hsd.co.kr/images/75bee41a9b9847838a924f70ba3262fb20210521044411.jpg\"/>,\n",
       " <img alt=\"반찬 토네이도 소세지\" src=\"https://www.hsd.co.kr/images/6e48dd60e0904e30b0ce70445c5e73db20210531055314.jpg\"/>,\n",
       " <img alt=\"반찬 반달돈까스\" src=\"https://www.hsd.co.kr/images/3ae72358f95f4c3e960200ad57661ae220220127074405.jpg\"/>,\n",
       " <img alt=\"뉴 감자고로케\" src=\"https://www.hsd.co.kr/images/bdee96c6be514aeb9695be9c8ae63ef020220127115951.jpg\"/>,\n",
       " <img alt=\"미니 찹쌀핫도그\" src=\"https://www.hsd.co.kr/images/ee4fa90749c540ff88364501d24eba7f20220127035559.jpg\"/>,\n",
       " <img alt=\"미니 찹쌀탕수육\" src=\"https://www.hsd.co.kr/images/faa992b4cca94e3d9d045e0a8420372520220127035741.jpg\"/>,\n",
       " <img alt=\"케이준후라이\" src=\"https://www.hsd.co.kr/images/39bc501c45f947fb8b994f9c44355ee020220127035851.jpg\"/>,\n",
       " <img alt=\"고메이 크림 고로케\" src=\"https://www.hsd.co.kr/images/8a286ab141034fe0b614234e5e75f91c20220127035930.jpg\"/>,\n",
       " <img alt=\"후라이드 순살(소)_스리라차마요소스\" src=\"https://www.hsd.co.kr/images/8195f16bed4b4a15a2364377fff7f5a620220630051249.jpg\"/>,\n",
       " <img alt=\"후라이드 순살(중)\" src=\"https://www.hsd.co.kr/images/d8c0a76abb67474fa6ed53c525ee05cc20220127081659.jpg\"/>,\n",
       " <img alt=\"후라이드 순살(소)_양념치킨소스\" src=\"https://www.hsd.co.kr/images/0cb9bf04877f4812b17d492c2d3c075f20220127072925.jpg\"/>,\n",
       " <img alt=\"후라이드 순살(소)_케이준소스\" src=\"https://www.hsd.co.kr/images/004232d91f524010a6968c73246b5b4520220127073123.jpg\"/>,\n",
       " <img alt=\"오리지널 닭강정(중)\" src=\"https://www.hsd.co.kr/images/0fd5e362e7a5419484c1902e2ba36db820190830060809.jpg\"/>,\n",
       " <img alt=\"오리지널 닭강정(소)\" src=\"https://www.hsd.co.kr/images/06e6946f997b464682338b50b8ad547820190830060746.jpg\"/>,\n",
       " <img alt=\"무생채\" src=\"https://www.hsd.co.kr/images/2e2ad82aa3a74bfaa744ec83dfc16cb620220609090456.jpg\"/>,\n",
       " <img alt=\"열무김치\" src=\"https://www.hsd.co.kr/images/b4a6da780bfe49e7bb81c4628c7bebf720220609085324.jpg\"/>,\n",
       " <img alt=\"오징어젓갈\" src=\"https://www.hsd.co.kr/images/d5bb9285b5c440e48906d48f612b896c20200818042401.jpg\"/>,\n",
       " <img alt=\"한솥 두부강된장소스\" src=\"https://www.hsd.co.kr/images/9fefee4867974aa0be3b8e73d957ac3320190709113524.jpg\"/>,\n",
       " <img alt=\"한솥 감초볶음고추장소스\" src=\"https://www.hsd.co.kr/images/b2d2ba7c9a9445f986277a5734608d5b20190709112130.jpg\"/>,\n",
       " <img alt=\"볶음김치\" src=\"https://www.hsd.co.kr/images/c7e4e668d8fc4ca5adb03aa3e179930720200818042913.jpg\"/>,\n",
       " <img alt=\"김치\" src=\"https://www.hsd.co.kr/images/d9d0d5d27a114593bc739e38179c021820200818042649.jpg\"/>,\n",
       " <img alt=\"무말랭이 무침\" src=\"https://www.hsd.co.kr/images/861c59482cd543dd83f1590449a2bca920220824114129.jpg\"/>,\n",
       " <img alt=\"한솥밥\" src=\"https://www.hsd.co.kr/images/07dd496733434ba18ab9a2810451473a20201229115314.jpg\"/>,\n",
       " <img alt=\"현미밥\" src=\"https://www.hsd.co.kr/images/d54be8671fba417bb59d7695b4e2e25420201229115337.jpg\"/>,\n",
       " <img alt=\"리얼 티라미수 찰떡\" src=\"https://www.hsd.co.kr/images/a0ee0cd037ea46968170335e12a8a7a720211119013347.jpg\"/>,\n",
       " <img alt=\"리얼꿀 미니호떡\" src=\"https://www.hsd.co.kr/images/1db79d8142b748f5b70bd1068acb6f9220220127035344.jpg\"/>]"
      ]
     },
     "execution_count": 80,
     "metadata": {},
     "output_type": "execute_result"
    }
   ],
   "source": [
    "img = soup.select('div.item-img>img')\n",
    "img"
   ]
  },
  {
   "cell_type": "code",
   "execution_count": null,
   "id": "39731eca",
   "metadata": {},
   "outputs": [],
   "source": [
    "if not os.path.isdir('./한솥'): # 존재 여부 파악\n",
    "    os.mkdir('./한솥') # 폴더 생성 ./ : 현재 폴더 ../ : 상위폴더\n",
    "    print('폴더 생성')"
   ]
  },
  {
   "cell_type": "code",
   "execution_count": 81,
   "id": "5f7484a2",
   "metadata": {},
   "outputs": [],
   "source": [
    "img_src = []\n",
    "\n",
    "for i in img:\n",
    "    img_src.append(i['src'])"
   ]
  },
  {
   "cell_type": "code",
   "execution_count": 83,
   "id": "2a2cdbb5",
   "metadata": {},
   "outputs": [],
   "source": [
    "for i in range(len(img_src)):\n",
    "    urlretrieve(img_src[i], './한솥/'+str(i)+'.jpg')\n",
    "    time.sleep(0.3)"
   ]
  },
  {
   "cell_type": "code",
   "execution_count": null,
   "id": "c159dbd2",
   "metadata": {},
   "outputs": [],
   "source": []
  },
  {
   "cell_type": "code",
   "execution_count": null,
   "id": "4a573ea9",
   "metadata": {},
   "outputs": [],
   "source": []
  },
  {
   "cell_type": "code",
   "execution_count": null,
   "id": "685e3b81",
   "metadata": {},
   "outputs": [],
   "source": []
  },
  {
   "cell_type": "code",
   "execution_count": null,
   "id": "6417670f",
   "metadata": {},
   "outputs": [],
   "source": []
  },
  {
   "cell_type": "code",
   "execution_count": null,
   "id": "a195ea95",
   "metadata": {},
   "outputs": [],
   "source": []
  },
  {
   "cell_type": "code",
   "execution_count": null,
   "id": "d3ba8da5",
   "metadata": {},
   "outputs": [],
   "source": []
  },
  {
   "cell_type": "code",
   "execution_count": null,
   "id": "fc60ebf6",
   "metadata": {},
   "outputs": [],
   "source": []
  },
  {
   "cell_type": "code",
   "execution_count": null,
   "id": "8ca6cef9",
   "metadata": {},
   "outputs": [],
   "source": []
  }
 ],
 "metadata": {
  "kernelspec": {
   "display_name": "Python 3 (ipykernel)",
   "language": "python",
   "name": "python3"
  },
  "language_info": {
   "codemirror_mode": {
    "name": "ipython",
    "version": 3
   },
   "file_extension": ".py",
   "mimetype": "text/x-python",
   "name": "python",
   "nbconvert_exporter": "python",
   "pygments_lexer": "ipython3",
   "version": "3.9.12"
  }
 },
 "nbformat": 4,
 "nbformat_minor": 5
}
