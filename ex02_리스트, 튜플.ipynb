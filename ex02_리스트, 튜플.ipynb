{
 "cells": [
  {
   "cell_type": "markdown",
   "id": "b4eaeee6",
   "metadata": {},
   "source": [
    "# 리스트 자료형\n",
    "- 파이썬의 자료구조 형태중 하나이다. --> str, int, list 등. . . 서로 다른 자료형임!\n",
    "- 순서가 있는(인덱스) 수정 가능한 객체의 집합\n",
    "- 대괄호([])로 작성되어지며, 리스트 내부의 값들은 콤마(,)로 구분\n",
    "- ★ 추가, 수정, 삭제 가능하다!!!★"
   ]
  },
  {
   "cell_type": "code",
   "execution_count": null,
   "id": "372e1324",
   "metadata": {},
   "outputs": [],
   "source": [
    "# 리스트 인덱싱\n",
    "\n",
    "list2 = [1,2,3,['a','b','c']]\n",
    "\n",
    "list2[3][1]"
   ]
  },
  {
   "cell_type": "code",
   "execution_count": null,
   "id": "07fb2544",
   "metadata": {},
   "outputs": [],
   "source": [
    "# 리스트 슬라이싱\n",
    "# start시작 인덱스부터 end끝 인덱스(포함x)값을 반환해줌\n",
    "\n",
    "list3 = [0,1,2,3,4]\n",
    "\n",
    "list3[1:]"
   ]
  },
  {
   "cell_type": "code",
   "execution_count": null,
   "id": "4c2d92e4",
   "metadata": {},
   "outputs": [],
   "source": [
    "# 리스트 더하기\n",
    "# 리스트끼리의 연산은 불가능하다 --> 문자열처럼\n",
    "# 리스트에서 연산 하는 방법이 따로 존재함\n",
    "\n",
    "\n",
    "list4 = [1,2,3]\n",
    "list5 = [3,4,5,6]\n",
    "\n",
    "list4 + list5"
   ]
  },
  {
   "cell_type": "code",
   "execution_count": null,
   "id": "7a6ae999",
   "metadata": {},
   "outputs": [],
   "source": []
  },
  {
   "cell_type": "markdown",
   "id": "09d3e0c0",
   "metadata": {},
   "source": [
    "### 리스트 값 추가하기"
   ]
  },
  {
   "cell_type": "code",
   "execution_count": null,
   "id": "37466b62",
   "metadata": {},
   "outputs": [],
   "source": [
    "# 리스트.append(값) 함수\n",
    "# 맨 뒤에 값을 차곡차곡 추가해주는 함수\n",
    "\n",
    "list5 = [0,1,2,3,4]\n",
    "\n",
    "list5.append(100)\n",
    "list5"
   ]
  },
  {
   "cell_type": "code",
   "execution_count": null,
   "id": "914b741d",
   "metadata": {},
   "outputs": [],
   "source": [
    "# 리스트.insert(인덱스, 값)\n",
    "# 리스트 인덱스 위치에 원하는 값 추가\n",
    "\n",
    "list5 = [0,1,2,3,4]\n",
    "\n",
    "list5.insert(1,5)\n",
    "list5"
   ]
  },
  {
   "cell_type": "markdown",
   "id": "8244eb56",
   "metadata": {},
   "source": [
    "### 리스트 값 수정하기"
   ]
  },
  {
   "cell_type": "code",
   "execution_count": null,
   "id": "49b03aca",
   "metadata": {},
   "outputs": [],
   "source": [
    "list6 = [0,1,2,3,4]\n",
    "\n",
    "print(f\"수정 전 : {list6}\")\n",
    "list6[1] = 100\n",
    "print(f\"수정 후 :{list6}\")"
   ]
  },
  {
   "cell_type": "code",
   "execution_count": null,
   "id": "bba99db5",
   "metadata": {},
   "outputs": [],
   "source": [
    "# 리스트 값 수정(슬라이싱)\n",
    "\n",
    "print(list6[2:4], list6[2:3])\n",
    "list6[2:4] = [7]\n",
    "print(list6)"
   ]
  },
  {
   "cell_type": "markdown",
   "id": "10aa7517",
   "metadata": {},
   "source": [
    "### 리스트 값 삭제하기"
   ]
  },
  {
   "cell_type": "code",
   "execution_count": null,
   "id": "1315f2f6",
   "metadata": {},
   "outputs": [],
   "source": [
    "# 리스트 값 삭제 첫 번째 방법\n",
    "\n",
    "list7 = [0,1,2,3,4,5]\n",
    "\n",
    "del list7[1]\n",
    "list7"
   ]
  },
  {
   "cell_type": "code",
   "execution_count": null,
   "id": "f74970b8",
   "metadata": {},
   "outputs": [],
   "source": [
    "# 리스트 값 삭제 슬라이싱으로\n",
    "\n",
    "del list7[1:5]\n",
    "list7"
   ]
  },
  {
   "cell_type": "code",
   "execution_count": null,
   "id": "ea00d9f7",
   "metadata": {},
   "outputs": [],
   "source": [
    "# 리스트 값 삭제 두 번째 방법\n",
    "\n",
    "list8 = ['a','b','c','d','e']\n",
    "list8.remove('b')\n",
    "list8"
   ]
  },
  {
   "cell_type": "code",
   "execution_count": null,
   "id": "ccbbbea6",
   "metadata": {},
   "outputs": [],
   "source": [
    "# 리스트 값 삭제 remove() 함수는 여러개 값을 지울 수 없음\n",
    "list8.remove('a','c')"
   ]
  },
  {
   "cell_type": "code",
   "execution_count": null,
   "id": "1b39a233",
   "metadata": {},
   "outputs": [],
   "source": []
  },
  {
   "cell_type": "code",
   "execution_count": null,
   "id": "ca011464",
   "metadata": {},
   "outputs": [],
   "source": [
    "# 리스트 오름차순 정렬\n",
    "# 리스트.sort()\n",
    "\n",
    "list8 = [9,77,13,51,100,3]\n",
    "\n",
    "list8.sort()\n",
    "list8"
   ]
  },
  {
   "cell_type": "code",
   "execution_count": null,
   "id": "ad97b9c8",
   "metadata": {},
   "outputs": [],
   "source": [
    "# 리스트에 있는 값을 역순으로 뒤집음(인덱스가 뒤집힘)\n",
    "# 리스트.reverse()\n",
    "\n",
    "list9 = [9,77,13,51,100,3]\n",
    "list9.reverse()\n",
    "list9"
   ]
  },
  {
   "cell_type": "code",
   "execution_count": null,
   "id": "b4ef4d79",
   "metadata": {},
   "outputs": [],
   "source": [
    "# 리스트 내림차순 정렬\n",
    "\n",
    "list10 = [9,77,13,51,100,3]\n",
    "\n",
    "# 1. sort() 함수를 이용해서 먼저 정렬해주기(순차적으로 예쁘게)\n",
    "list10.sort()\n",
    "print(f\"sort 함수로 내림차순 만들기 : {list10}\")\n",
    "\n",
    "# 2. reverse() 함수를 이용해서 역순으로 뒤집기\n",
    "list10.reverse()\n",
    "print(f\"reverse 함수로 내림차순 만들기 : {list10}\")\n",
    "\n",
    "# 한번에 내림차순 정렬을 하고 싶으면 한 셀에서 sort와 reverse를 실행해줘야 함"
   ]
  },
  {
   "cell_type": "code",
   "execution_count": null,
   "id": "89b41ab0",
   "metadata": {},
   "outputs": [],
   "source": []
  },
  {
   "cell_type": "code",
   "execution_count": null,
   "id": "0cb3af9f",
   "metadata": {},
   "outputs": [],
   "source": [
    "# 리스트.index() : 찾고자 하는 값의 위치(인덱스) 반환\n",
    "\n",
    "list11 = ['a','b','c','d','e','f']\n",
    "list11.index('c')"
   ]
  },
  {
   "cell_type": "code",
   "execution_count": null,
   "id": "0aeea4b7",
   "metadata": {},
   "outputs": [],
   "source": [
    "# 리스트.pop() : 마지막 값을 반환 후 리스트에서 제거 -> append()와 반대 성향\n",
    "\n",
    "list12 = ['a','b','c','d','e','f']\n",
    "list12.pop()\n",
    "list12"
   ]
  },
  {
   "cell_type": "code",
   "execution_count": null,
   "id": "3f69dc49",
   "metadata": {},
   "outputs": [],
   "source": [
    "# 리스트 값의 개수 확인\n",
    "# len(리스트 이름)\n",
    "\n",
    "len(list12)"
   ]
  },
  {
   "cell_type": "code",
   "execution_count": null,
   "id": "c776966b",
   "metadata": {},
   "outputs": [],
   "source": []
  },
  {
   "cell_type": "code",
   "execution_count": null,
   "id": "1edf1bd4",
   "metadata": {},
   "outputs": [],
   "source": []
  },
  {
   "cell_type": "markdown",
   "id": "e629c00e",
   "metadata": {},
   "source": [
    "# 튜플(tuple) 자료형\n",
    "- 파이썬의 자료구조 형태 중 하나이다.\n",
    "- 순서가 있는(인덱스) 집합이다.\n",
    "- 소괄호()로 작성 되어지며, 튜플의 내부 값은 콤마(,)로 구분한다.\n",
    "- 추가, 수정, 제거 절대절대절대 불가능하다."
   ]
  },
  {
   "cell_type": "code",
   "execution_count": null,
   "id": "36cd8ef8",
   "metadata": {},
   "outputs": [],
   "source": [
    "# 튜플 인덱싱 : 인덱스에 위치한 값 반환\n",
    "# 튜플이름[인덱스번호]\n",
    "\n",
    "tuple1 = (0,1,2,3,('a','b','c'),5)\n",
    "\n",
    "tuple1[4]\n",
    "       \n",
    "#'b'를 인덱싱 해주세요\n",
    "tuple1[4][1]"
   ]
  },
  {
   "cell_type": "code",
   "execution_count": null,
   "id": "971336f1",
   "metadata": {},
   "outputs": [],
   "source": [
    "# 튜플 슬라이싱\n",
    "# 튜플[시작 인덱스 : 끝날 인덱스(포함x)]\n",
    "\n",
    "tuple1[3:]"
   ]
  },
  {
   "cell_type": "code",
   "execution_count": null,
   "id": "14875178",
   "metadata": {},
   "outputs": [],
   "source": [
    "# 튜플 값의 개수 확인\n",
    "# len(튜플)\n",
    "\n",
    "len(tuple1)"
   ]
  },
  {
   "cell_type": "code",
   "execution_count": null,
   "id": "f3db5d5a",
   "metadata": {},
   "outputs": [],
   "source": [
    "# 튜플 값 추가, 수정, 삭제 --> 불가능\n",
    "\n",
    "tuple1[0] = 3"
   ]
  },
  {
   "cell_type": "code",
   "execution_count": null,
   "id": "4b64232b",
   "metadata": {},
   "outputs": [],
   "source": []
  },
  {
   "cell_type": "markdown",
   "id": "ba3fe857",
   "metadata": {},
   "source": [
    "# 리스트와 튜플 공통점과 차이점 "
   ]
  },
  {
   "cell_type": "markdown",
   "id": "eddacfcc",
   "metadata": {},
   "source": [
    "### 공통점\n",
    "- 타입과 상관 없이 일련의 요소(값)을 가질 수 있다\n",
    "- 요소(값)의 순서(인덱스)를 관리한다"
   ]
  },
  {
   "cell_type": "markdown",
   "id": "288ded51",
   "metadata": {},
   "source": [
    "### 차이점\n",
    "- 리스트는 가변적이며, 튜플은 불변적이다.\n",
    "- 리스트는 요소가 몇 개 들어갈지 명확하지 않은 경우에 사용\n",
    "- 튜플은 요소 개수를 사전에 정확하게 알고 있을 경우에 사용"
   ]
  },
  {
   "cell_type": "code",
   "execution_count": null,
   "id": "4c0d6bf1",
   "metadata": {},
   "outputs": [],
   "source": []
  },
  {
   "cell_type": "code",
   "execution_count": null,
   "id": "5c8028e3",
   "metadata": {},
   "outputs": [],
   "source": []
  }
 ],
 "metadata": {
  "kernelspec": {
   "display_name": "Python 3 (ipykernel)",
   "language": "python",
   "name": "python3"
  },
  "language_info": {
   "codemirror_mode": {
    "name": "ipython",
    "version": 3
   },
   "file_extension": ".py",
   "mimetype": "text/x-python",
   "name": "python",
   "nbconvert_exporter": "python",
   "pygments_lexer": "ipython3",
   "version": "3.9.12"
  }
 },
 "nbformat": 4,
 "nbformat_minor": 5
}
