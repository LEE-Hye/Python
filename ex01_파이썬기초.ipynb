{
 "cells": [
  {
   "cell_type": "markdown",
   "id": "96ee16bb",
   "metadata": {},
   "source": [
    "### 마크다운\n",
    "- 메모장 기능처럼 사용할 수 있는 기능\n",
    "- 이 부분은 코드로 인식하지 않는다!"
   ]
  },
  {
   "cell_type": "code",
   "execution_count": 1,
   "id": "7ccb7a71",
   "metadata": {},
   "outputs": [
    {
     "data": {
      "text/plain": [
       "1"
      ]
     },
     "execution_count": 1,
     "metadata": {},
     "output_type": "execute_result"
    }
   ],
   "source": [
    "test=1\n",
    "test"
   ]
  },
  {
   "cell_type": "code",
   "execution_count": 2,
   "id": "879da354",
   "metadata": {},
   "outputs": [],
   "source": [
    "# 주석\n",
    "# 파이썬은 주석을 #으로 쓴다"
   ]
  },
  {
   "cell_type": "code",
   "execution_count": null,
   "id": "24b8bd08",
   "metadata": {},
   "outputs": [],
   "source": []
  },
  {
   "cell_type": "code",
   "execution_count": 3,
   "id": "4418881f",
   "metadata": {},
   "outputs": [
    {
     "name": "stdout",
     "output_type": "stream",
     "text": [
      "3\n"
     ]
    }
   ],
   "source": [
    "num = 3\n",
    "print(num)"
   ]
  },
  {
   "cell_type": "code",
   "execution_count": null,
   "id": "f16860ee",
   "metadata": {},
   "outputs": [],
   "source": [
    "# 파이썬은 주석을 #로 쓴다"
   ]
  },
  {
   "cell_type": "code",
   "execution_count": 4,
   "id": "3a1bbd85",
   "metadata": {},
   "outputs": [
    {
     "name": "stdout",
     "output_type": "stream",
     "text": [
      "13\n",
      "77\n"
     ]
    }
   ],
   "source": [
    "# num1이라고 하는 변수를 생성해서 13이라고 하는 재료를 담아주었다.\n",
    "num1 = 13\n",
    "\n",
    "# num2라고 하는 공간에 정수 25를 담아주었다\n",
    "num2 = 25\n",
    "\n",
    "# num2라고 하는 공간에 새로운 값을 대입해보니 갱신되었다.\n",
    "num2 = 77\n",
    "\n",
    "print(num1)\n",
    "print(num2)"
   ]
  },
  {
   "cell_type": "code",
   "execution_count": null,
   "id": "581bd1a0",
   "metadata": {},
   "outputs": [],
   "source": []
  },
  {
   "cell_type": "code",
   "execution_count": 5,
   "id": "e2a4e0be",
   "metadata": {},
   "outputs": [
    {
     "name": "stdout",
     "output_type": "stream",
     "text": [
      "3.1425\n",
      "3.12\n"
     ]
    }
   ],
   "source": [
    "# num3라고 하는 공간에 실수 데이터를 대입시켜보았다.\n",
    "num3 = 3.1425\n",
    "\n",
    "# num4라고 하는 공간에 실수 데이터를 넣어보았다.\n",
    "num4 = 1.25\n",
    "\n",
    "# num4에 새로운 실수 데이터를 넣어봤더니 갱신되었다.(바뀌었다.)\n",
    "num4 = 3.12\n",
    "\n",
    "print(num3)\n",
    "print(num4)"
   ]
  },
  {
   "cell_type": "code",
   "execution_count": null,
   "id": "894075b3",
   "metadata": {},
   "outputs": [],
   "source": []
  },
  {
   "cell_type": "markdown",
   "id": "d9d8474b",
   "metadata": {},
   "source": [
    "### 치환"
   ]
  },
  {
   "cell_type": "code",
   "execution_count": 6,
   "id": "a36b336b",
   "metadata": {},
   "outputs": [],
   "source": [
    "# 치환하는 가장 보편적인 방법\n",
    "a = 10\n",
    "b = 15\n",
    "temp = a\n",
    "a = b\n",
    "b = temp"
   ]
  },
  {
   "cell_type": "code",
   "execution_count": 7,
   "id": "04c66884",
   "metadata": {},
   "outputs": [
    {
     "name": "stdout",
     "output_type": "stream",
     "text": [
      "15\n",
      "10\n"
     ]
    }
   ],
   "source": [
    "print(a)\n",
    "print(b)"
   ]
  },
  {
   "cell_type": "code",
   "execution_count": 11,
   "id": "66da3692",
   "metadata": {},
   "outputs": [
    {
     "name": "stdout",
     "output_type": "stream",
     "text": [
      "25\n",
      "20\n"
     ]
    }
   ],
   "source": [
    "# 파이썬에서 쉽게 치환이 가능함\n",
    "\n",
    "a, b = 20, 25\n",
    "a, b = b, a\n",
    "\n",
    "print(a)\n",
    "print(b)"
   ]
  },
  {
   "cell_type": "code",
   "execution_count": null,
   "id": "6a440e1d",
   "metadata": {},
   "outputs": [],
   "source": []
  },
  {
   "cell_type": "code",
   "execution_count": 9,
   "id": "0e203f31",
   "metadata": {},
   "outputs": [
    {
     "name": "stdout",
     "output_type": "stream",
     "text": [
      "python\n",
      "java\n"
     ]
    }
   ],
   "source": [
    "str1 = 'python'\n",
    "str2 = 'java'\n",
    "\n",
    "print(str1)\n",
    "print(str2)"
   ]
  },
  {
   "cell_type": "code",
   "execution_count": 10,
   "id": "a8ae6159",
   "metadata": {},
   "outputs": [
    {
     "name": "stdout",
     "output_type": "stream",
     "text": [
      "python\n",
      "python\n"
     ]
    }
   ],
   "source": [
    "str1 = str2 = 'python'\n",
    "\n",
    "print(str1)\n",
    "print(str2)"
   ]
  },
  {
   "cell_type": "code",
   "execution_count": null,
   "id": "43bfdd08",
   "metadata": {},
   "outputs": [],
   "source": []
  },
  {
   "cell_type": "code",
   "execution_count": null,
   "id": "8147dac4",
   "metadata": {},
   "outputs": [],
   "source": [
    "# 변수만들 때\n",
    "# 1. 영문자, 언더바, 숫자를 적을 수 있다\n",
    "# 2. 숫자로 시작할 수 없다\n",
    "# 3. 예약어를 쓰면 안된다"
   ]
  },
  {
   "cell_type": "code",
   "execution_count": null,
   "id": "b6bc9927",
   "metadata": {},
   "outputs": [],
   "source": [
    "# 문자열 대입\n",
    "str1 = \"Funny Python\"\n",
    "str1"
   ]
  },
  {
   "cell_type": "code",
   "execution_count": null,
   "id": "69fb15dc",
   "metadata": {},
   "outputs": [],
   "source": [
    "str2 = 'Funny Python'\n",
    "str2"
   ]
  },
  {
   "cell_type": "code",
   "execution_count": null,
   "id": "4a6040b3",
   "metadata": {},
   "outputs": [],
   "source": [
    "str1 = \"she's gone\"\n",
    "str1"
   ]
  },
  {
   "cell_type": "code",
   "execution_count": null,
   "id": "70e23712",
   "metadata": {},
   "outputs": [],
   "source": [
    "s1 = \"she's gone\"\n",
    "s2 = 'she\\'s gone'\n",
    "print(s1)\n",
    "print(s2)"
   ]
  },
  {
   "cell_type": "code",
   "execution_count": null,
   "id": "4e6c82af",
   "metadata": {},
   "outputs": [],
   "source": [
    "s1 = 'he said that \"she is gone\"'\n",
    "s2 = \"he said that \\\"she is gone\\\"\"\n",
    "print(s1)\n",
    "print(s2)"
   ]
  },
  {
   "cell_type": "code",
   "execution_count": null,
   "id": "a677d353",
   "metadata": {},
   "outputs": [],
   "source": [
    "s = '여러줄로 구성된 \\n문자열을 하나로 대입할 때'\n",
    "print(s)"
   ]
  },
  {
   "cell_type": "code",
   "execution_count": null,
   "id": "872c3136",
   "metadata": {},
   "outputs": [],
   "source": [
    "s = '''여러줄로\n",
    "구성된\n",
    "문자열을\n",
    "하나로\n",
    "대입할 때'''\n",
    "print(s)"
   ]
  },
  {
   "cell_type": "code",
   "execution_count": null,
   "id": "88803d9e",
   "metadata": {},
   "outputs": [],
   "source": []
  },
  {
   "cell_type": "markdown",
   "id": "06a77673",
   "metadata": {},
   "source": [
    "### 문자열 인덱싱, 슬라이싱\n",
    "- 인덱싱 : 특정한 무엇인가를 '가리킨다' 라는 의미\n",
    "- 슬라이싱 : 특정한 범위 내에서 '잘라낸다'라는 의미"
   ]
  },
  {
   "cell_type": "code",
   "execution_count": null,
   "id": "9488c761",
   "metadata": {},
   "outputs": [],
   "source": [
    "# 슬라이싱 규칙 : 변수명[시작 인덱스 값 : 끝나는 인덱스 값(미만)포함 X -> + 1]\n",
    "s = \"My name is KN\"\n",
    "\n",
    "# My 가져오기\n",
    "print(s[0:2])\n",
    "\n",
    "# name 가져오기\n",
    "print(s[3:7])\n",
    "\n",
    "# is 가져오기\n",
    "print(s[8:11])"
   ]
  },
  {
   "cell_type": "code",
   "execution_count": null,
   "id": "78863bb1",
   "metadata": {},
   "outputs": [],
   "source": [
    "# My name가져오기\n",
    "print(s[0:7])\n",
    "print(s[:7])"
   ]
  },
  {
   "cell_type": "code",
   "execution_count": null,
   "id": "170e761a",
   "metadata": {},
   "outputs": [],
   "source": [
    "# is KN 가져오기\n",
    "print(s[8:13])\n",
    "print(s[8:])\n",
    "print(s[-5:])"
   ]
  },
  {
   "cell_type": "code",
   "execution_count": null,
   "id": "dc4ee9d1",
   "metadata": {},
   "outputs": [],
   "source": [
    "# 모든 문자 가져오기\n",
    "print(s[:])\n",
    "print(s)"
   ]
  },
  {
   "cell_type": "code",
   "execution_count": null,
   "id": "4c669bb3",
   "metadata": {},
   "outputs": [],
   "source": []
  },
  {
   "cell_type": "code",
   "execution_count": null,
   "id": "1ea21d17",
   "metadata": {},
   "outputs": [],
   "source": [
    "# 문자열 슬라이싱 실습예제"
   ]
  },
  {
   "cell_type": "code",
   "execution_count": 12,
   "id": "4e0e2290",
   "metadata": {},
   "outputs": [],
   "source": [
    "dy_info = \"20200706Sunny\""
   ]
  },
  {
   "cell_type": "code",
   "execution_count": 20,
   "id": "592fc1d7",
   "metadata": {},
   "outputs": [
    {
     "name": "stdout",
     "output_type": "stream",
     "text": [
      "년도 :  2020\n",
      "월일 :  0706\n",
      "날씨 :  Sunny\n"
     ]
    }
   ],
   "source": [
    "# print문에서 데이터와 데이터를 이어주는 기호가 있다 -> 콤마(,)\n",
    "print(\"년도 : \" , dy_info[0:4])\n",
    "print(\"월일 : \" , dy_info[4:8])\n",
    "print(\"날씨 : \" , dy_info[-5:])"
   ]
  },
  {
   "cell_type": "code",
   "execution_count": null,
   "id": "17433d73",
   "metadata": {},
   "outputs": [],
   "source": []
  },
  {
   "cell_type": "code",
   "execution_count": null,
   "id": "319a99b4",
   "metadata": {},
   "outputs": [],
   "source": [
    "# 문자열 슬라이싱 실습 예제2"
   ]
  },
  {
   "cell_type": "code",
   "execution_count": 27,
   "id": "adc62a41",
   "metadata": {},
   "outputs": [
    {
     "name": "stdout",
     "output_type": "stream",
     "text": [
      "날짜 :  2020년 3월 3일\n",
      "날씨 :  맑음\n"
     ]
    }
   ],
   "source": [
    "s = \"2020년 3월 3일의 날씨는 맑음입니다.\"\n",
    "print(\"날짜 : \",  s[:11])\n",
    "print(\"날씨 : \",  s[17:19])"
   ]
  },
  {
   "cell_type": "code",
   "execution_count": null,
   "id": "8f0d86af",
   "metadata": {},
   "outputs": [],
   "source": []
  },
  {
   "cell_type": "markdown",
   "id": "c1f3d157",
   "metadata": {},
   "source": [
    "### 문자열 포맷 코드\n",
    "- 문자열 내 값 삽입"
   ]
  },
  {
   "attachments": {
    "image.png": {
     "image/png": "[encoded data removed]"
    }
   },
   "cell_type": "markdown",
   "id": "f3ba1ab1",
   "metadata": {},
   "source": [
    "![image.png](attachment:image.png)"
   ]
  },
  {
   "cell_type": "code",
   "execution_count": null,
   "id": "d301f8f2",
   "metadata": {},
   "outputs": [],
   "source": []
  },
  {
   "cell_type": "code",
   "execution_count": 33,
   "id": "4f5043d1",
   "metadata": {},
   "outputs": [
    {
     "data": {
      "text/plain": [
       "'오늘은 9월 16일 입니다.'"
      ]
     },
     "execution_count": 33,
     "metadata": {},
     "output_type": "execute_result"
    }
   ],
   "source": [
    "# format() 함수를 사용한 포매팅\n",
    "\n",
    "month = 9\n",
    "day = 16\n",
    "\n",
    "s = \"오늘은 {}월 {}일 입니다.\".format(month, day)\n",
    "s"
   ]
  },
  {
   "cell_type": "code",
   "execution_count": 35,
   "id": "b0fcd72e",
   "metadata": {},
   "outputs": [
    {
     "data": {
      "text/plain": [
       "'오늘은 9월 16일 입니다.'"
      ]
     },
     "execution_count": 35,
     "metadata": {},
     "output_type": "execute_result"
    }
   ],
   "source": [
    "# 문자열 포매팅 또 다른 방법\n",
    "\n",
    "month = 9\n",
    "day = 16\n",
    "\n",
    "s = f\"오늘은 {month}월 {day}일 입니다.\"\n",
    "s"
   ]
  },
  {
   "cell_type": "code",
   "execution_count": null,
   "id": "829d8d5e",
   "metadata": {},
   "outputs": [],
   "source": []
  },
  {
   "cell_type": "code",
   "execution_count": null,
   "id": "92291395",
   "metadata": {},
   "outputs": [],
   "source": [
    "# 변수 실습 예제"
   ]
  },
  {
   "cell_type": "code",
   "execution_count": 37,
   "id": "68556492",
   "metadata": {},
   "outputs": [
    {
     "name": "stdout",
     "output_type": "stream",
     "text": [
      "100와 200의 합은 300입니다.\n"
     ]
    }
   ],
   "source": [
    "# 예약어는 변수명으로 적지 않는게 좋음\n",
    "\n",
    "x = 100\n",
    "y = 200\n",
    "sum1 = x + y\n",
    "print(f\"{x}와 {y}의 합은 {sum1}입니다.\")"
   ]
  },
  {
   "cell_type": "code",
   "execution_count": null,
   "id": "c103349a",
   "metadata": {},
   "outputs": [],
   "source": []
  },
  {
   "cell_type": "code",
   "execution_count": null,
   "id": "62a3b75c",
   "metadata": {},
   "outputs": [],
   "source": []
  },
  {
   "attachments": {
    "image.png": {
     "image/png": "[encoded data removed]"
    }
   },
   "cell_type": "markdown",
   "id": "6fc8b412",
   "metadata": {},
   "source": [
    "<span style=\"display:none\">!</span>\n",
    "<img src='attachment:image.png' alt=\"image.png\" style= \"width:400px;\">"
   ]
  },
  {
   "cell_type": "markdown",
   "id": "0b154401",
   "metadata": {},
   "source": [
    "### 문자열 함수\n",
    "- count('문자') : 문자열에 포함된 문자의 개수를 세어주는 함수\n",
    "- index('문자') : 해당 문자의 인덱스 번호를 찾아주는 함수\n",
    "- strip() : 문자열 양쪽에 존재하는 공백을 지워주는 함수\n",
    "- replace('문자1','문자2') : 문자1을 문자2로 바꿔주는 함수\n",
    "- split() : 문자열 나누기(구분)"
   ]
  },
  {
   "cell_type": "code",
   "execution_count": null,
   "id": "5ebf17b4",
   "metadata": {},
   "outputs": [],
   "source": []
  },
  {
   "cell_type": "code",
   "execution_count": null,
   "id": "4775d8bd",
   "metadata": {},
   "outputs": [],
   "source": []
  },
  {
   "cell_type": "code",
   "execution_count": null,
   "id": "71ff82a3",
   "metadata": {},
   "outputs": [],
   "source": []
  },
  {
   "cell_type": "markdown",
   "id": "6ad778e6",
   "metadata": {},
   "source": [
    "# 연산자"
   ]
  },
  {
   "cell_type": "markdown",
   "id": "79ec67c0",
   "metadata": {},
   "source": [
    "### 산술 연산자"
   ]
  },
  {
   "cell_type": "code",
   "execution_count": 40,
   "id": "522115fe",
   "metadata": {},
   "outputs": [
    {
     "data": {
      "text/plain": [
       "'안녕하세요'"
      ]
     },
     "execution_count": 40,
     "metadata": {},
     "output_type": "execute_result"
    }
   ],
   "source": [
    "# 문자열 더하기\n",
    "str1 = \"안녕\"\n",
    "str2 = \"하세요\"\n",
    "str1+str2"
   ]
  },
  {
   "cell_type": "code",
   "execution_count": 42,
   "id": "701f2003",
   "metadata": {},
   "outputs": [
    {
     "data": {
      "text/plain": [
       "'107'"
      ]
     },
     "execution_count": 42,
     "metadata": {},
     "output_type": "execute_result"
    }
   ],
   "source": [
    "str1 = \"10\"\n",
    "str2 = \"7\"\n",
    "\n",
    "str1 + str2"
   ]
  },
  {
   "cell_type": "code",
   "execution_count": 44,
   "id": "da403190",
   "metadata": {},
   "outputs": [
    {
     "data": {
      "text/plain": [
       "'107'"
      ]
     },
     "execution_count": 44,
     "metadata": {},
     "output_type": "execute_result"
    }
   ],
   "source": [
    "num1 = 10\n",
    "str2 = \"7\"\n",
    "\n",
    "# 에러 해결 첫번째 방법(문자열끼리 더하기) --> 정수를 문자열 형태로 변환\n",
    "str(num1) + str2"
   ]
  },
  {
   "cell_type": "code",
   "execution_count": 45,
   "id": "0f7cf3ef",
   "metadata": {},
   "outputs": [
    {
     "data": {
      "text/plain": [
       "17"
      ]
     },
     "execution_count": 45,
     "metadata": {},
     "output_type": "execute_result"
    }
   ],
   "source": [
    "# 정수끼리 더하기 --> 문자열을 정수로 변환\n",
    "# int() 함수\n",
    "num1 + int(str2)"
   ]
  },
  {
   "cell_type": "code",
   "execution_count": 54,
   "id": "750a0d2e",
   "metadata": {
    "scrolled": true
   },
   "outputs": [
    {
     "name": "stdout",
     "output_type": "stream",
     "text": [
      "더하기 결과 :  26\n",
      "빼기 결과 : 20\n",
      "곱하기 결과 : 69\n",
      "나누기 결과 : 7.666666666666667\n"
     ]
    }
   ],
   "source": [
    "# 산술 연산자 예제\n",
    "num1 = 23\n",
    "num2 = 3\n",
    "sum1 = num1 + num2\n",
    "minu = num1 - num2\n",
    "mul = num1 * num2\n",
    "div = num1 / num2\n",
    "# % : 나머지 , // : 몫\n",
    "\n",
    "# 콤마(,)를 이용해서 문자열과 수식을 이어줌\n",
    "print(\"더하기 결과 : \", sum1)\n",
    "\n",
    "# format() 함수를 이용한 포매팅\n",
    "# .format() --> 문자열을 벗어나야 한다.\n",
    "print(\"빼기 결과 : {}\".format(minu))\n",
    "\n",
    "# f 포매팅\n",
    "# 문자열을 벗어나되(앞으로) 중괄호 안에 넣고 싶은 값을 적어줘야 한다.\n",
    "print(f\"곱하기 결과 : {mul}\")\n",
    "print(f\"나누기 결과 : {div}\")"
   ]
  },
  {
   "cell_type": "code",
   "execution_count": null,
   "id": "fe6eeb70",
   "metadata": {},
   "outputs": [],
   "source": [
    "#"
   ]
  },
  {
   "cell_type": "code",
   "execution_count": 64,
   "id": "d945b219",
   "metadata": {
    "scrolled": true
   },
   "outputs": [
    {
     "name": "stdout",
     "output_type": "stream",
     "text": [
      "인풋을 입력하세요 : 12\n",
      "인풋을 입력하세요 : 540\n"
     ]
    }
   ],
   "source": [
    "# input() 함수 : 기본값은 문자열 형태이다\n",
    "# 사용자가 집접 입력할 수 있도록 제공해줌\n",
    "# 주의할 점 : 실행을 했으면 끝을 내야 다음 셀의 코드가 작동한다.\n",
    "\n",
    "num3 = input(\"인풋을 입력하세요 : \")\n",
    "num4 = input(\"인풋을 입력하세요 : \")"
   ]
  },
  {
   "cell_type": "code",
   "execution_count": 73,
   "id": "26d38714",
   "metadata": {
    "scrolled": true
   },
   "outputs": [
    {
     "name": "stdout",
     "output_type": "stream",
     "text": [
      "12\n",
      "540\n"
     ]
    }
   ],
   "source": [
    "print(num3)\n",
    "print(num4)"
   ]
  },
  {
   "cell_type": "code",
   "execution_count": null,
   "id": "eab05038",
   "metadata": {},
   "outputs": [],
   "source": [
    "num3 + num4"
   ]
  },
  {
   "cell_type": "code",
   "execution_count": 70,
   "id": "b5076c07",
   "metadata": {},
   "outputs": [
    {
     "name": "stdout",
     "output_type": "stream",
     "text": [
      "첫번째 정수를 입력하세요350\n",
      "두번째 정수를 입력하세요450\n"
     ]
    }
   ],
   "source": [
    "# input() 함수에 입력한 값을 정수형태로 변환\n",
    "num5 = int(input(\"첫번째 정수를 입력하세요\"))\n",
    "num6 = int(input(\"두번째 정수를 입력하세요\"))"
   ]
  },
  {
   "cell_type": "code",
   "execution_count": 71,
   "id": "0f029438",
   "metadata": {},
   "outputs": [
    {
     "name": "stdout",
     "output_type": "stream",
     "text": [
      "350\n",
      "450\n"
     ]
    }
   ],
   "source": [
    "print(num5)\n",
    "print(num6)"
   ]
  },
  {
   "cell_type": "code",
   "execution_count": 72,
   "id": "eafb6bf7",
   "metadata": {},
   "outputs": [
    {
     "data": {
      "text/plain": [
       "800"
      ]
     },
     "execution_count": 72,
     "metadata": {},
     "output_type": "execute_result"
    }
   ],
   "source": [
    "num5 + num6"
   ]
  },
  {
   "cell_type": "code",
   "execution_count": 84,
   "id": "aab88961",
   "metadata": {},
   "outputs": [
    {
     "name": "stdout",
     "output_type": "stream",
     "text": [
      "첫번재 정수 입력 : 12\n",
      "두번재 정수 입력 : 15\n",
      "====================\n",
      "더하기 결과 :  27\n",
      "빼기 결과 : -3\n",
      "곱하기 결과 :180\n",
      "나누기 결과 : 0.8\n"
     ]
    }
   ],
   "source": [
    "# 산술 연산자 예제 (input()함수 사용)\n",
    "\n",
    "# 키보드로 입력 받아서 결과를 계산하는 프로그램\n",
    "su1 = int(input(\"첫번재 정수 입력 : \"))\n",
    "su2 = int(input(\"두번재 정수 입력 : \"))\n",
    "\n",
    "print(\"=\"*20)\n",
    "\n",
    "print(\"더하기 결과 : \", su1+su2)\n",
    "print(\"빼기 결과 : {}\".format(su1-su2))\n",
    "print(f\"곱하기 결과 :{su1*su2}\")\n",
    "print(f\"나누기 결과 : {su1/su2}\")"
   ]
  },
  {
   "cell_type": "code",
   "execution_count": 5,
   "id": "f9d63c18",
   "metadata": {},
   "outputs": [
    {
     "name": "stdout",
     "output_type": "stream",
     "text": [
      "python 점수 입력 >> 100\n",
      "머신러닝 점수 입력 >> 80\n",
      "딥러닝 점수 입력 >> 60\n",
      "==============================\n",
      "합계 : 240\n",
      "평균 : 80.0\n"
     ]
    }
   ],
   "source": [
    "# 산술 연산자 예제 ( 합계와 평균 구하기)\n",
    "# 포매팅 중괄호 안에 식을 직접 적는 방법\n",
    "py_socre = int(input(\"python 점수 입력 >> \"))\n",
    "ma_socre = int(input(\"머신러닝 점수 입력 >> \"))\n",
    "dep_socre = int(input(\"딥러닝 점수 입력 >> \"))\n",
    "print(\"=\"*30)\n",
    "print(\"합계 : {}\".format(py_socre +ma_socre + dep_socre))\n",
    "print(f\"평균 : {(py_socre +ma_socre + dep_socre)/3}\")"
   ]
  },
  {
   "cell_type": "code",
   "execution_count": 8,
   "id": "9c8baf6b",
   "metadata": {},
   "outputs": [
    {
     "name": "stdout",
     "output_type": "stream",
     "text": [
      "python 점수 입력 >> 100\n",
      "머신러닝 점수 입력 >> 80\n",
      "딥러닝 점수 입력 >> 60\n",
      "==============================\n",
      "합계 : 240\n",
      "평균 : 80.0\n"
     ]
    }
   ],
   "source": [
    "# 산술 연산자 예제 ( 합계와 평균 구하기)\n",
    "# 식 자체를 변수에 저장해서 그대로 포매팅하기\n",
    "\n",
    "py_socre = int(input(\"python 점수 입력 >> \"))\n",
    "ma_socre = int(input(\"머신러닝 점수 입력 >> \"))\n",
    "dep_socre = int(input(\"딥러닝 점수 입력 >> \"))\n",
    "\n",
    "pmd_sum = py_socre +ma_socre + dep_socre\n",
    "pmd_avg = (py_socre +ma_socre + dep_socre) / 3\n",
    "\n",
    "print(\"=\"*30)\n",
    "print(f\"합계 : {pmd_sum}\")\n",
    "print(f\"평균 : {pmd_avg}\")"
   ]
  },
  {
   "cell_type": "code",
   "execution_count": null,
   "id": "8a11dea1",
   "metadata": {},
   "outputs": [],
   "source": []
  },
  {
   "cell_type": "code",
   "execution_count": 9,
   "id": "6fb36716",
   "metadata": {},
   "outputs": [
    {
     "name": "stdout",
     "output_type": "stream",
     "text": [
      "안녕하세요안녕하세요안녕하세요\n"
     ]
    }
   ],
   "source": [
    "# 문자열 곱하기\n",
    "s = \"안녕하세요\"\n",
    "print(s*3)"
   ]
  },
  {
   "cell_type": "code",
   "execution_count": 11,
   "id": "82105f18",
   "metadata": {},
   "outputs": [
    {
     "name": "stdout",
     "output_type": "stream",
     "text": [
      "정수를 입력해주세요 >> 2\n",
      "지수를 입력해주세요 >> 3\n",
      "2의 3승은 8입니다.\n"
     ]
    }
   ],
   "source": [
    "# 지수 연산자(**)\n",
    "\n",
    "num = int(input(\"정수를 입력해주세요 >> \"))\n",
    "power = int(input(\"지수를 입력해주세요 >> \"))\n",
    "\n",
    "print(f\"{num}의 {power}승은 {num**power}입니다.\")"
   ]
  },
  {
   "cell_type": "code",
   "execution_count": 19,
   "id": "96f87b90",
   "metadata": {},
   "outputs": [
    {
     "name": "stdout",
     "output_type": "stream",
     "text": [
      "시간 입력 >> 7533\n",
      "2시간 5분 33초\n"
     ]
    }
   ],
   "source": [
    "# 산술 연산자 예제(컴퓨팅 사고력 증진)\n",
    "# 초를 입력 받아 \"00시간 00분 00초\" 형태로 출력하는 알고리즘 예제\n",
    "time = int(input(\"시간 입력 >> \"))\n",
    "hour = time//3600\n",
    "minute = time%3600//60\n",
    "second = time%60\n",
    "print(f\"{hour}시간 {minute}분 {second}초\")"
   ]
  },
  {
   "cell_type": "code",
   "execution_count": null,
   "id": "ff34e616",
   "metadata": {},
   "outputs": [],
   "source": []
  },
  {
   "cell_type": "markdown",
   "id": "fc02d077",
   "metadata": {},
   "source": [
    "### 복합 대입 연산자\n",
    "- 가독성이 좋아진다. -> 코드가 간결해짐\n",
    "- 값을 누적시키기 위해 사용한다. -> 근본적으로 쓰는 이유"
   ]
  },
  {
   "cell_type": "code",
   "execution_count": 20,
   "id": "04ade6e5",
   "metadata": {},
   "outputs": [
    {
     "data": {
      "text/plain": [
       "36"
      ]
     },
     "execution_count": 20,
     "metadata": {},
     "output_type": "execute_result"
    }
   ],
   "source": [
    "# 복합 대입 연산자 실습\n",
    "\n",
    "num = 27\n",
    "\n",
    "num += 3\n",
    "num += 3\n",
    "num += 3\n",
    "\n",
    "num"
   ]
  },
  {
   "cell_type": "code",
   "execution_count": 21,
   "id": "3e2d75c2",
   "metadata": {},
   "outputs": [
    {
     "data": {
      "text/plain": [
       "36"
      ]
     },
     "execution_count": 21,
     "metadata": {},
     "output_type": "execute_result"
    }
   ],
   "source": [
    "# 복합 대입 연산자 안 썼을 때\n",
    "\n",
    "num = 27\n",
    "\n",
    "num = num + 3\n",
    "num = num + 3\n",
    "num = num + 3\n",
    "\n",
    "num"
   ]
  },
  {
   "cell_type": "code",
   "execution_count": null,
   "id": "d9c3561d",
   "metadata": {},
   "outputs": [],
   "source": []
  },
  {
   "cell_type": "code",
   "execution_count": null,
   "id": "33cdf0cf",
   "metadata": {},
   "outputs": [],
   "source": []
  },
  {
   "cell_type": "code",
   "execution_count": null,
   "id": "3aaa0bb9",
   "metadata": {},
   "outputs": [],
   "source": []
  },
  {
   "cell_type": "markdown",
   "id": "b7ca8ec4",
   "metadata": {},
   "source": [
    "# 치환"
   ]
  },
  {
   "cell_type": "code",
   "execution_count": 22,
   "id": "81ecd49c",
   "metadata": {},
   "outputs": [
    {
     "name": "stdout",
     "output_type": "stream",
     "text": [
      "a의 값은 : 3입니다.\n",
      "b의 값은 : 7입니다.\n"
     ]
    }
   ],
   "source": [
    "# 변수 a와 b의 값을 치환하기\n",
    "\n",
    "a = 3\n",
    "b = 7\n",
    "\n",
    "print(f\"a의 값은 : {a}입니다.\")\n",
    "print(f\"b의 값은 : {b}입니다.\")"
   ]
  },
  {
   "cell_type": "code",
   "execution_count": 23,
   "id": "29fb55ab",
   "metadata": {},
   "outputs": [
    {
     "name": "stdout",
     "output_type": "stream",
     "text": [
      "a의 값은 : 7입니다.\n",
      "b의 값은 : 3입니다.\n"
     ]
    }
   ],
   "source": [
    "# 치환하는 가장 기본적인 방법\n",
    "\n",
    "temp = a\n",
    "\n",
    "a = b\n",
    "\n",
    "b = temp\n",
    "\n",
    "print(f\"a의 값은 : {a}입니다.\")\n",
    "print(f\"b의 값은 : {b}입니다.\")"
   ]
  },
  {
   "cell_type": "code",
   "execution_count": 24,
   "id": "9fd681e0",
   "metadata": {},
   "outputs": [
    {
     "name": "stdout",
     "output_type": "stream",
     "text": [
      "a의 값은 : 3입니다.\n",
      "b의 값은 : 7입니다.\n"
     ]
    }
   ],
   "source": [
    "# 파이썬에서 치환하는 방법\n",
    "\n",
    "a, b = b, a\n",
    "\n",
    "print(f\"a의 값은 : {a}입니다.\")\n",
    "print(f\"b의 값은 : {b}입니다.\")"
   ]
  },
  {
   "cell_type": "code",
   "execution_count": null,
   "id": "f003f39c",
   "metadata": {},
   "outputs": [],
   "source": []
  },
  {
   "cell_type": "markdown",
   "id": "74c44e1a",
   "metadata": {},
   "source": [
    "### 비교 연산자"
   ]
  },
  {
   "attachments": {
    "image.png": {
     "image/png": "[encoded data removed]"
    }
   },
   "cell_type": "markdown",
   "id": "d9eabca0",
   "metadata": {},
   "source": [
    "![image.png](attachment:image.png)"
   ]
  },
  {
   "cell_type": "code",
   "execution_count": 29,
   "id": "81926547",
   "metadata": {},
   "outputs": [
    {
     "name": "stdout",
     "output_type": "stream",
     "text": [
      "False\n",
      "True\n",
      "False\n",
      "True\n"
     ]
    }
   ],
   "source": [
    "# 비교 연산자 실습\n",
    "a = 3\n",
    "b = 7\n",
    "\n",
    "# a가 b보다 초과인가? --> 거짓\n",
    "print(a > b)\n",
    "\n",
    "# a 가 b보다 이하인가? -> 참\n",
    "print(a <= b)\n",
    "\n",
    "# a가 b와 같나? -> 거짓\n",
    "print(a == b)\n",
    "\n",
    "# a가 b와 다른가? -> 참\n",
    "print(a != b)"
   ]
  },
  {
   "cell_type": "code",
   "execution_count": 30,
   "id": "ea53ed0d",
   "metadata": {},
   "outputs": [],
   "source": [
    "# 논리 연산자(True, False) 연산자"
   ]
  },
  {
   "attachments": {
    "image.png": {
     "image/png": "[encoded data removed]"
    }
   },
   "cell_type": "markdown",
   "id": "8758f22c",
   "metadata": {},
   "source": [
    "![image.png](attachment:image.png)"
   ]
  },
  {
   "cell_type": "markdown",
   "id": "ba057f51",
   "metadata": {},
   "source": [
    "### 논리 연산자 not\n",
    "\n",
    "- 논리값(True, False)을 뒤집는 역할\n",
    "- True -> False\n",
    "- False - > True"
   ]
  },
  {
   "cell_type": "markdown",
   "id": "34c1860e",
   "metadata": {},
   "source": [
    "### 논리 연산자 and\n",
    "- 논리값(True, False) 모두 True일 경우에만 True"
   ]
  },
  {
   "cell_type": "markdown",
   "id": "3e950f87",
   "metadata": {},
   "source": [
    "### 논리 연산자 or\n",
    "- 두 값이 하나라도 True면 True를 반환한다"
   ]
  },
  {
   "cell_type": "markdown",
   "id": "2fc1ca04",
   "metadata": {},
   "source": [
    "### 삼항 연산자\n",
    "- a if 조건식 else b \n",
    "- 가운데 조건식을 기준으로 True가 나오면 a를 실행\n",
    "- False가 나오면 b를 실행"
   ]
  },
  {
   "cell_type": "code",
   "execution_count": 35,
   "id": "df87a816",
   "metadata": {},
   "outputs": [
    {
     "data": {
      "text/plain": [
       "'합격'"
      ]
     },
     "execution_count": 35,
     "metadata": {},
     "output_type": "execute_result"
    }
   ],
   "source": [
    "# 삼항 연산자 예제\n",
    "\n",
    "score = 80\n",
    "a = \"합격\"\n",
    "b = \"불합격\"\n",
    "\n",
    "# if와 else 사이에 주어진 조건식이 먼저 가장 중요함\n",
    "\n",
    "# 해당하는 조건식이 참 이라면 \"합격\"이라는 문구를 출력해주고\n",
    "# 해당하는 조건식이 거짓 이라면 \"불합격\"이라는 문구를 출력해주라는 뜻\n",
    "a if score >= 60 else b"
   ]
  },
  {
   "cell_type": "code",
   "execution_count": null,
   "id": "8c2dfeef",
   "metadata": {},
   "outputs": [],
   "source": [
    "# 삼항 연산자 사용하는 이유\n",
    "# 조건식이 간결하고 실행할 문장이 두개뿐일 때 간단하게 사용하기 용이함"
   ]
  },
  {
   "cell_type": "code",
   "execution_count": 46,
   "id": "d17ce0f3",
   "metadata": {},
   "outputs": [
    {
     "name": "stdout",
     "output_type": "stream",
     "text": [
      "정수 입력 >> 22\n",
      "22는(은) 짝수입니다.\n"
     ]
    }
   ],
   "source": [
    "# 삼항 연산자 실습 예제\n",
    "# 키보드로 정수를 입력받아서 홀수 짝수를 판별하는 알고리즘\n",
    "num = int(input(\"정수 입력 >> \"))\n",
    "\n",
    "a = \"짝수\"\n",
    "b = \"홀수\"\n",
    "\n",
    "print(f\"{num}는(은) {a if num % 2 == 0 else b}입니다.\")"
   ]
  },
  {
   "cell_type": "code",
   "execution_count": 55,
   "id": "b5a4c313",
   "metadata": {},
   "outputs": [
    {
     "name": "stdout",
     "output_type": "stream",
     "text": [
      "첫번째 정수 입력 >> 1\n",
      "두번째 정수 입력 >> 1\n",
      "두 수의 차는 0입니다.\n"
     ]
    }
   ],
   "source": [
    "# 삼항 연산자 실습 예제2\n",
    "# 두 개의 정수를 입력 받아 \"큰 수\"에서 \"작은 수\"를 뺀 결과값을 출력하는 알고리즘\n",
    "num1 = int(input(\"첫번째 정수 입력 >> \"))\n",
    "num2 = int(input(\"두번째 정수 입력 >> \"))\n",
    "\n",
    "print(f\"두 수의 차는 {(num1-num2) if num1 > num2 else (num2-num1)}입니다.\")"
   ]
  },
  {
   "cell_type": "code",
   "execution_count": null,
   "id": "26c4a282",
   "metadata": {},
   "outputs": [],
   "source": []
  },
  {
   "cell_type": "markdown",
   "id": "e115cab9",
   "metadata": {},
   "source": [
    "# 조건문 if\n",
    "- 상황에 따라(조건) 실행 흐름을 다르게 하는 문법\n",
    "- 조건식이 True일 경우 들여쓰기 된 아래의 실행문장이 실행됨\n",
    "- 조건식이 끝났으면 콜론(:)으로 매듭 지어줘야 함! --> 여기까지가 조건식이야\n",
    "- 들여쓰기가 중요한데, 들여쓰기 방법으로는 tab 1회 혹은 Space 4회가 있다.\n",
    "- 들여쓰기가 잘못 되었을 경우 색깔 힌트를 잘 확인해야 함."
   ]
  },
  {
   "cell_type": "code",
   "execution_count": 61,
   "id": "d07b8d65",
   "metadata": {},
   "outputs": [
    {
     "name": "stdout",
     "output_type": "stream",
     "text": [
      "실행문장 실행 트루니까 실행되겠지?\n"
     ]
    }
   ],
   "source": [
    "# 조건문 if True\n",
    "\n",
    "if True:\n",
    "    print(\"실행문장 실행 트루니까 실행되겠지?\")"
   ]
  },
  {
   "cell_type": "code",
   "execution_count": 64,
   "id": "e7e9dcee",
   "metadata": {},
   "outputs": [
    {
     "name": "stdout",
     "output_type": "stream",
     "text": [
      "여긴 if문 바깥이야\n"
     ]
    }
   ],
   "source": [
    "# 조건문 if False\n",
    "\n",
    "if False:\n",
    "    print(\"실행문장 실행 거짓이니까 실행 안되겠지?\")\n",
    "\n",
    "print(\"여긴 if문 바깥이야\")"
   ]
  },
  {
   "cell_type": "code",
   "execution_count": 78,
   "id": "0f465f21",
   "metadata": {},
   "outputs": [
    {
     "name": "stdout",
     "output_type": "stream",
     "text": [
      "돈이 얼마 있냐?15312\n",
      "택시를 탈 수 있겠네\n"
     ]
    }
   ],
   "source": [
    "# 조건문 if 실습 예제 (비교 연산자 사용)\n",
    "# 변수 money가 10000 이상이면 \"택시를 탄다\"를 출력하자\n",
    "\n",
    "# 1. 변수 money 생성하기 11000원 넣어보자\n",
    "money = int(input(\"돈이 얼마 있냐?\"))\n",
    "\n",
    "# 2. money가 10000 이상이라는 조건을 부여하자(이때 비교 연산자 사용)\n",
    "if money>=10000:\n",
    "    # 3. \"택시를 탄다\"라는 문자열 출력\n",
    "    print(\"택시를 탈 수 있겠네\")"
   ]
  },
  {
   "cell_type": "code",
   "execution_count": null,
   "id": "a51c84fd",
   "metadata": {},
   "outputs": [],
   "source": [
    "# 조건문 if else 실습 예제 \n",
    "# 조건문을 사용해서 변수 money가 10000이상이면 \"택시를 탄다\"를 출력하고\n",
    "# 10000미만이면 \"버스를 탄다\"를 출력하자\n",
    "\n",
    "money = int(input(\"돈이 얼마 있냐?\"))\n",
    "\n",
    "if money >= 10000:\n",
    "    print(\"택시를 탈 수 있겠네\")\n",
    "else:\n",
    "    print(\"그 돈으로 택시 못타\")"
   ]
  },
  {
   "cell_type": "code",
   "execution_count": 84,
   "id": "f85fc622",
   "metadata": {},
   "outputs": [
    {
     "name": "stdout",
     "output_type": "stream",
     "text": [
      "정수를 입력하십시오. >> 7\n",
      "3과 5의 배수가 아닙니다.\n"
     ]
    }
   ],
   "source": [
    "# 조건문 if else 실습 예제\n",
    "\n",
    "num = int(input(\"정수를 입력하십시오. >> \"))\n",
    "\n",
    "if num % 3 == 0 and num % 5 == 0:\n",
    "    print(\"3과 5의 배수입니다.\")\n",
    "else:\n",
    "    print(\"3과 5의 배수가 아닙니다.\")"
   ]
  },
  {
   "cell_type": "code",
   "execution_count": 97,
   "id": "c979f78e",
   "metadata": {},
   "outputs": [
    {
     "name": "stdout",
     "output_type": "stream",
     "text": [
      "정수를 입력하십시오. >> 1\n",
      "3의 배수도 5의 배수도 아닙니다.\n"
     ]
    }
   ],
   "source": [
    "num = int(input(\"정수를 입력하십시오. >> \"))\n",
    "\n",
    "if num % 3 == 0 and num % 5 == 0:\n",
    "    print(\"3과 5의 배수입니다.\")\n",
    "elif num % 3 == 0:\n",
    "    print(\"3의 배수입니다.\")\n",
    "elif num % 5 == 0:\n",
    "    print(\"5의 배수입니다.\")\n",
    "else:\n",
    "    print(\"3의 배수도 5의 배수도 아닙니다.\")"
   ]
  },
  {
   "cell_type": "code",
   "execution_count": 99,
   "id": "8a0ebb31",
   "metadata": {},
   "outputs": [
    {
     "name": "stdout",
     "output_type": "stream",
     "text": [
      "첫 번째 정수를 입력하십시오. >> 123\n",
      "두 번째 정수를 입력하십시오. >> 2\n",
      "첫 번째 정수가 더 큽니다.\n"
     ]
    }
   ],
   "source": [
    "# 조건문 elif 실습 예제\n",
    "num1 = int(input(\"첫 번째 정수를 입력하십시오. >> \"))\n",
    "num2 = int(input(\"두 번째 정수를 입력하십시오. >> \"))\n",
    "\n",
    "if num1 > num2:\n",
    "    print(\"첫 번째 정수가 더 큽니다.\")\n",
    "elif num1 < num2:\n",
    "    print(\"두 번째 정수가 더 큽니다.\")\n",
    "else:\n",
    "    print(\"두 수가 똑같습니다.\")"
   ]
  },
  {
   "cell_type": "code",
   "execution_count": 107,
   "id": "a075c1e4",
   "metadata": {},
   "outputs": [
    {
     "name": "stdout",
     "output_type": "stream",
     "text": [
      "점수를 입력하십시오. >> 50\n",
      "50점은 F학점 입니다.\n"
     ]
    }
   ],
   "source": [
    "# 조건문 elif 실습 예제(최종 문제)\n",
    "\n",
    "score = int(input(\"점수를 입력하십시오. >> \"))\n",
    "\n",
    "if score<=100 and score >=90:\n",
    "    print(f\"{score}점은 A학점 입니다.\")\n",
    "elif score>=80:\n",
    "    print(f\"{score}점은 B학점 입니다.\")\n",
    "elif score>=70:\n",
    "    print(f\"{score}점은 C학점 입니다.\")\n",
    "elif score>=60:\n",
    "    print(f\"{score}점은 D학점 입니다.\")\n",
    "else:\n",
    "    print(f\"{score}점은 F학점 입니다.\")"
   ]
  },
  {
   "cell_type": "code",
   "execution_count": 114,
   "id": "3c49770c",
   "metadata": {},
   "outputs": [
    {
     "name": "stdout",
     "output_type": "stream",
     "text": [
      "점수를 입력하십시오. >> 100\n",
      "100점은 A학점 입니다.\n"
     ]
    }
   ],
   "source": [
    "score = int(input(\"점수를 입력하십시오. >> \"))\n",
    "\n",
    "if score >= 90:\n",
    "    grade='A'\n",
    "elif score >= 80:\n",
    "    grade='B'\n",
    "elif score >= 70:\n",
    "    grade='C'\n",
    "elif score >= 60:\n",
    "    grade='D'\n",
    "else:\n",
    "    grade=\"F\"\n",
    "    \n",
    "print(f\"{score}점은 {grade}학점 입니다.\")"
   ]
  }
 ],
 "metadata": {
  "kernelspec": {
   "display_name": "Python 3 (ipykernel)",
   "language": "python",
   "name": "python3"
  },
  "language_info": {
   "codemirror_mode": {
    "name": "ipython",
    "version": 3
   },
   "file_extension": ".py",
   "mimetype": "text/x-python",
   "name": "python",
   "nbconvert_exporter": "python",
   "pygments_lexer": "ipython3",
   "version": "3.9.12"
  }
 },
 "nbformat": 4,
 "nbformat_minor": 5
}
