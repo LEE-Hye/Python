{
 "cells": [
  {
   "cell_type": "markdown",
   "id": "869dc03f",
   "metadata": {},
   "source": [
    "# 리스트 자료형\n",
    "- 파이썬의 자료구조 형태중 하나이다. --> str, int, list 등. . . 서로 다른 자료형임!\n",
    "- 순서가 있는(인덱스) 수정 가능한 객체의 집합\n",
    "- 대괄호([])로 작성되어지며, 리스트 내부의 값들은 콤마(,)로 구분\n",
    "- ★ 추가, 수정, 삭제 가능하다!!!★"
   ]
  },
  {
   "cell_type": "code",
   "execution_count": null,
   "id": "91970e22",
   "metadata": {},
   "outputs": [],
   "source": []
  },
  {
   "cell_type": "code",
   "execution_count": 12,
   "id": "ca4c36ee",
   "metadata": {},
   "outputs": [
    {
     "data": {
      "text/plain": [
       "'b'"
      ]
     },
     "execution_count": 12,
     "metadata": {},
     "output_type": "execute_result"
    }
   ],
   "source": [
    "# 리스트 인덱싱\n",
    "\n",
    "list2 = [1,2,3,['a','b','c']]\n",
    "\n",
    "list2[3][1]"
   ]
  },
  {
   "cell_type": "code",
   "execution_count": 15,
   "id": "f106d45d",
   "metadata": {},
   "outputs": [
    {
     "data": {
      "text/plain": [
       "[1, 2, 3, 4]"
      ]
     },
     "execution_count": 15,
     "metadata": {},
     "output_type": "execute_result"
    }
   ],
   "source": [
    "# 리스트 슬라이싱\n",
    "# start시작 인덱스부터 end끝 인덱스(포함x)값을 반환해줌\n",
    "\n",
    "list3 = [0,1,2,3,4]\n",
    "\n",
    "list3[1:]"
   ]
  },
  {
   "cell_type": "code",
   "execution_count": 16,
   "id": "32f6b0b3",
   "metadata": {},
   "outputs": [
    {
     "data": {
      "text/plain": [
       "[1, 2, 3, 3, 4, 5, 6]"
      ]
     },
     "execution_count": 16,
     "metadata": {},
     "output_type": "execute_result"
    }
   ],
   "source": [
    "# 리스트 더하기\n",
    "# 리스트끼리의 연산은 불가능하다 --> 문자열처럼\n",
    "# 리스트에서 연산 하는 방법이 따로 존재함\n",
    "\n",
    "\n",
    "list4 = [1,2,3]\n",
    "list5 = [3,4,5,6]\n",
    "\n",
    "list4 + list5"
   ]
  },
  {
   "cell_type": "code",
   "execution_count": null,
   "id": "0edd6e96",
   "metadata": {},
   "outputs": [],
   "source": []
  },
  {
   "cell_type": "markdown",
   "id": "2421e304",
   "metadata": {},
   "source": [
    "### 리스트 값 추가하기"
   ]
  },
  {
   "cell_type": "code",
   "execution_count": 20,
   "id": "18e25cd8",
   "metadata": {},
   "outputs": [
    {
     "data": {
      "text/plain": [
       "[0, 1, 2, 3, 4, 100]"
      ]
     },
     "execution_count": 20,
     "metadata": {},
     "output_type": "execute_result"
    }
   ],
   "source": [
    "# 리스트.append(값) 함수\n",
    "# 맨 뒤에 값을 차곡차곡 추가해주는 함수\n",
    "\n",
    "list5 = [0,1,2,3,4]\n",
    "\n",
    "list5.append(100)\n",
    "list5"
   ]
  },
  {
   "cell_type": "code",
   "execution_count": 23,
   "id": "3ad29845",
   "metadata": {},
   "outputs": [
    {
     "data": {
      "text/plain": [
       "[0, 5, 1, 2, 3, 4]"
      ]
     },
     "execution_count": 23,
     "metadata": {},
     "output_type": "execute_result"
    }
   ],
   "source": [
    "# 리스트.insert(인덱스, 값)\n",
    "# 리스트 인덱스 위치에 원하는 값 추가\n",
    "\n",
    "list5 = [0,1,2,3,4]\n",
    "\n",
    "list5.insert(1,5)\n",
    "list5"
   ]
  },
  {
   "cell_type": "markdown",
   "id": "e77e8d10",
   "metadata": {},
   "source": [
    "### 리스트 값 수정하기"
   ]
  },
  {
   "cell_type": "code",
   "execution_count": 31,
   "id": "cb8ea8dc",
   "metadata": {},
   "outputs": [
    {
     "name": "stdout",
     "output_type": "stream",
     "text": [
      "수정 전 : [0, 1, 2, 3, 4]\n",
      "수정 후 :[0, 100, 2, 3, 4]\n"
     ]
    }
   ],
   "source": [
    "list6 = [0,1,2,3,4]\n",
    "\n",
    "print(f\"수정 전 : {list6}\")\n",
    "list6[1] = 100\n",
    "print(f\"수정 후 :{list6}\")"
   ]
  },
  {
   "cell_type": "code",
   "execution_count": 32,
   "id": "1d4e54eb",
   "metadata": {},
   "outputs": [
    {
     "name": "stdout",
     "output_type": "stream",
     "text": [
      "[2, 3] [2]\n",
      "[0, 100, 7, 4]\n"
     ]
    }
   ],
   "source": [
    "# 리스트 값 수정(슬라이싱)\n",
    "\n",
    "print(list6[2:4], list6[2:3])\n",
    "list6[2:4] = [7]\n",
    "print(list6)"
   ]
  },
  {
   "cell_type": "markdown",
   "id": "778a9fae",
   "metadata": {},
   "source": [
    "### 리스트 값 삭제하기"
   ]
  },
  {
   "cell_type": "code",
   "execution_count": 39,
   "id": "6254cdf7",
   "metadata": {},
   "outputs": [
    {
     "data": {
      "text/plain": [
       "[0, 2, 3, 4, 5]"
      ]
     },
     "execution_count": 39,
     "metadata": {},
     "output_type": "execute_result"
    }
   ],
   "source": [
    "# 리스트 값 삭제 첫 번째 방법\n",
    "\n",
    "list7 = [0,1,2,3,4,5]\n",
    "\n",
    "del list7[1]\n",
    "list7"
   ]
  },
  {
   "cell_type": "code",
   "execution_count": 44,
   "id": "f22f4999",
   "metadata": {},
   "outputs": [
    {
     "data": {
      "text/plain": [
       "[0]"
      ]
     },
     "execution_count": 44,
     "metadata": {},
     "output_type": "execute_result"
    }
   ],
   "source": [
    "# 리스트 값 삭제 슬라이싱으로\n",
    "\n",
    "del list7[1:5]\n",
    "list7"
   ]
  },
  {
   "cell_type": "code",
   "execution_count": 35,
   "id": "d29c7f65",
   "metadata": {
    "scrolled": true
   },
   "outputs": [
    {
     "data": {
      "text/plain": [
       "['a', 'c', 'd', 'e']"
      ]
     },
     "execution_count": 35,
     "metadata": {},
     "output_type": "execute_result"
    }
   ],
   "source": [
    "# 리스트 값 삭제 두 번째 방법\n",
    "\n",
    "list8 = ['a','b','c','d','e']\n",
    "list8.remove('b')\n",
    "list8"
   ]
  },
  {
   "cell_type": "code",
   "execution_count": 45,
   "id": "67bc4255",
   "metadata": {
    "collapsed": true
   },
   "outputs": [
    {
     "ename": "TypeError",
     "evalue": "list.remove() takes exactly one argument (2 given)",
     "output_type": "error",
     "traceback": [
      "\u001b[1;31m---------------------------------------------------------------------------\u001b[0m",
      "\u001b[1;31mTypeError\u001b[0m                                 Traceback (most recent call last)",
      "Input \u001b[1;32mIn [45]\u001b[0m, in \u001b[0;36m<cell line: 1>\u001b[1;34m()\u001b[0m\n\u001b[1;32m----> 1\u001b[0m \u001b[43mlist8\u001b[49m\u001b[38;5;241;43m.\u001b[39;49m\u001b[43mremove\u001b[49m\u001b[43m(\u001b[49m\u001b[38;5;124;43m'\u001b[39;49m\u001b[38;5;124;43ma\u001b[39;49m\u001b[38;5;124;43m'\u001b[39;49m\u001b[43m,\u001b[49m\u001b[38;5;124;43m'\u001b[39;49m\u001b[38;5;124;43mc\u001b[39;49m\u001b[38;5;124;43m'\u001b[39;49m\u001b[43m)\u001b[49m\n",
      "\u001b[1;31mTypeError\u001b[0m: list.remove() takes exactly one argument (2 given)"
     ]
    }
   ],
   "source": [
    "# 리스트 값 삭제 remove() 함수는 여러개 값을 지울 수 없음\n",
    "list8.remove('a','c')"
   ]
  },
  {
   "cell_type": "code",
   "execution_count": null,
   "id": "3eda8533",
   "metadata": {},
   "outputs": [],
   "source": []
  },
  {
   "cell_type": "code",
   "execution_count": 54,
   "id": "264c90b3",
   "metadata": {},
   "outputs": [
    {
     "data": {
      "text/plain": [
       "[3, 9, 13, 51, 77, 100]"
      ]
     },
     "execution_count": 54,
     "metadata": {},
     "output_type": "execute_result"
    }
   ],
   "source": [
    "# 리스트 오름차순 정렬\n",
    "# 리스트.sort()\n",
    "\n",
    "list8 = [9,77,13,51,100,3]\n",
    "\n",
    "list8.sort()\n",
    "list8"
   ]
  },
  {
   "cell_type": "code",
   "execution_count": 51,
   "id": "e61513e4",
   "metadata": {},
   "outputs": [
    {
     "data": {
      "text/plain": [
       "[3, 100, 51, 13, 77, 9]"
      ]
     },
     "execution_count": 51,
     "metadata": {},
     "output_type": "execute_result"
    }
   ],
   "source": [
    "# 리스트에 있는 값을 역순으로 뒤집음(인덱스가 뒤집힘)\n",
    "# 리스트.reverse()\n",
    "\n",
    "list9 = [9,77,13,51,100,3]\n",
    "list9.reverse()\n",
    "list9"
   ]
  },
  {
   "cell_type": "code",
   "execution_count": 59,
   "id": "a06dc815",
   "metadata": {},
   "outputs": [
    {
     "name": "stdout",
     "output_type": "stream",
     "text": [
      "sort 함수로 내림차순 만들기 : [3, 9, 13, 51, 77, 100]\n",
      "reverse 함수로 내림차순 만들기 : [100, 77, 51, 13, 9, 3]\n"
     ]
    }
   ],
   "source": [
    "# 리스트 내림차순 정렬\n",
    "\n",
    "list10 = [9,77,13,51,100,3]\n",
    "\n",
    "# 1. sort() 함수를 이용해서 먼저 정렬해주기(순차적으로 예쁘게)\n",
    "list10.sort()\n",
    "print(f\"sort 함수로 내림차순 만들기 : {list10}\")\n",
    "\n",
    "# 2. reverse() 함수를 이용해서 역순으로 뒤집기\n",
    "list10.reverse()\n",
    "print(f\"reverse 함수로 내림차순 만들기 : {list10}\")\n",
    "\n",
    "# 한번에 내림차순 정렬을 하고 싶으면 한 셀에서 sort와 reverse를 실행해줘야 함"
   ]
  },
  {
   "cell_type": "code",
   "execution_count": null,
   "id": "69ff0225",
   "metadata": {},
   "outputs": [],
   "source": []
  },
  {
   "cell_type": "code",
   "execution_count": 60,
   "id": "a65f6b17",
   "metadata": {},
   "outputs": [
    {
     "data": {
      "text/plain": [
       "2"
      ]
     },
     "execution_count": 60,
     "metadata": {},
     "output_type": "execute_result"
    }
   ],
   "source": [
    "# 리스트.index() : 찾고자 하는 값의 위치(인덱스) 반환\n",
    "\n",
    "list11 = ['a','b','c','d','e','f']\n",
    "list11.index('c')"
   ]
  },
  {
   "cell_type": "code",
   "execution_count": 62,
   "id": "05fb7578",
   "metadata": {
    "scrolled": true
   },
   "outputs": [
    {
     "data": {
      "text/plain": [
       "['a', 'b', 'c', 'd', 'e']"
      ]
     },
     "execution_count": 62,
     "metadata": {},
     "output_type": "execute_result"
    }
   ],
   "source": [
    "# 리스트.pop() : 마지막 값을 반환 후 리스트에서 제거 -> append()와 반대 성향\n",
    "\n",
    "list12 = ['a','b','c','d','e','f']\n",
    "list12.pop()\n",
    "list12"
   ]
  },
  {
   "cell_type": "code",
   "execution_count": 63,
   "id": "85fe2fdb",
   "metadata": {},
   "outputs": [
    {
     "data": {
      "text/plain": [
       "5"
      ]
     },
     "execution_count": 63,
     "metadata": {},
     "output_type": "execute_result"
    }
   ],
   "source": [
    "# 리스트 값의 개수 확인\n",
    "# len(리스트 이름)\n",
    "\n",
    "len(list12)"
   ]
  },
  {
   "cell_type": "code",
   "execution_count": null,
   "id": "5fd2b098",
   "metadata": {},
   "outputs": [],
   "source": []
  },
  {
   "cell_type": "markdown",
   "id": "ea3eeff8",
   "metadata": {},
   "source": [
    "# 튜플(tuple) 자료형\n",
    "- 파이썬의 자료구조 형태 중 하나이다.\n",
    "- 순서가 있는(인덱스) 집합이다.\n",
    "- 소괄호()로 작성 되어지며, 튜플의 내부 값은 콤마(,)로 구분한다.\n",
    "- 추가, 수정, 제거 절대절대절대 불가능하다."
   ]
  },
  {
   "cell_type": "code",
   "execution_count": null,
   "id": "32b37b70",
   "metadata": {},
   "outputs": [],
   "source": []
  },
  {
   "cell_type": "code",
   "execution_count": 68,
   "id": "babee994",
   "metadata": {},
   "outputs": [
    {
     "data": {
      "text/plain": [
       "'b'"
      ]
     },
     "execution_count": 68,
     "metadata": {},
     "output_type": "execute_result"
    }
   ],
   "source": [
    "# 튜플 인덱싱 : 인덱스에 위치한 값 반환\n",
    "# 튜플이름[인덱스번호]\n",
    "\n",
    "tuple1 = (0,1,2,3,('a','b','c'),5)\n",
    "\n",
    "tuple1[4]\n",
    "       \n",
    "#'b'를 인덱싱 해주세요\n",
    "tuple1[4][1]"
   ]
  },
  {
   "cell_type": "code",
   "execution_count": 69,
   "id": "2a793106",
   "metadata": {},
   "outputs": [
    {
     "data": {
      "text/plain": [
       "(3, ('a', 'b', 'c'), 5)"
      ]
     },
     "execution_count": 69,
     "metadata": {},
     "output_type": "execute_result"
    }
   ],
   "source": [
    "# 튜플 슬라이싱\n",
    "# 튜플[시작 인덱스 : 끝날 인덱스(포함x)]\n",
    "\n",
    "tuple1[3:]"
   ]
  },
  {
   "cell_type": "code",
   "execution_count": 70,
   "id": "7b68faa5",
   "metadata": {},
   "outputs": [
    {
     "data": {
      "text/plain": [
       "6"
      ]
     },
     "execution_count": 70,
     "metadata": {},
     "output_type": "execute_result"
    }
   ],
   "source": [
    "# 튜플 값의 개수 확인\n",
    "# len(튜플)\n",
    "\n",
    "len(tuple1)"
   ]
  },
  {
   "cell_type": "code",
   "execution_count": 71,
   "id": "51b73b3d",
   "metadata": {
    "collapsed": true
   },
   "outputs": [
    {
     "ename": "TypeError",
     "evalue": "'tuple' object does not support item assignment",
     "output_type": "error",
     "traceback": [
      "\u001b[1;31m---------------------------------------------------------------------------\u001b[0m",
      "\u001b[1;31mTypeError\u001b[0m                                 Traceback (most recent call last)",
      "Input \u001b[1;32mIn [71]\u001b[0m, in \u001b[0;36m<cell line: 3>\u001b[1;34m()\u001b[0m\n\u001b[0;32m      1\u001b[0m \u001b[38;5;66;03m# 튜플 값 추가, 수정, 삭제 --> 불가능\u001b[39;00m\n\u001b[1;32m----> 3\u001b[0m tuple1[\u001b[38;5;241m0\u001b[39m] \u001b[38;5;241m=\u001b[39m \u001b[38;5;241m3\u001b[39m\n",
      "\u001b[1;31mTypeError\u001b[0m: 'tuple' object does not support item assignment"
     ]
    }
   ],
   "source": [
    "# 튜플 값 추가, 수정, 삭제 --> 불가능\n",
    "\n",
    "tuple1[0] = 3"
   ]
  },
  {
   "cell_type": "markdown",
   "id": "f66724bd",
   "metadata": {},
   "source": [
    "# 리스트와 튜플 공통점과 차이점 "
   ]
  },
  {
   "cell_type": "markdown",
   "id": "f8097d36",
   "metadata": {},
   "source": [
    "### 공통점\n",
    "- 타입과 상관 없이 일련의 요소(값)을 가질 수 있다\n",
    "- 요소(값)의 순서(인덱스)를 관리한다"
   ]
  },
  {
   "cell_type": "markdown",
   "id": "b670fcdc",
   "metadata": {},
   "source": [
    "### 차이점\n",
    "- 리스트는 가변적이며, 튜플은 불변적이다.\n",
    "- 리스트는 요소가 몇 개 들어갈지 명확하지 않은 경우에 사용\n",
    "- 튜플은 요소 개수를 사전에 정확하게 알고 있을 경우에 사용"
   ]
  },
  {
   "cell_type": "code",
   "execution_count": null,
   "id": "1a032e6a",
   "metadata": {},
   "outputs": [],
   "source": []
  },
  {
   "cell_type": "code",
   "execution_count": null,
   "id": "d7e88870",
   "metadata": {},
   "outputs": [],
   "source": []
  },
  {
   "cell_type": "markdown",
   "id": "3e09c08d",
   "metadata": {},
   "source": [
    "# 반복문\n",
    "- 프로그램 내에서 똑같은 명령을 일정 횟수만큼 반복적으로 수행하도록 제어하는 명령문\n",
    "- 반복문 종류에는 while문, for문이 있다\n",
    "    - while문 : 반복 횟수가 명확하지 않을 때(모를 때)\n",
    "    - for문 : 반복 횟수가 명확할 때(알 때)"
   ]
  },
  {
   "cell_type": "code",
   "execution_count": null,
   "id": "a35806de",
   "metadata": {},
   "outputs": [],
   "source": []
  },
  {
   "cell_type": "code",
   "execution_count": 72,
   "id": "71a2fc3b",
   "metadata": {
    "collapsed": true
   },
   "outputs": [
    {
     "name": "stdout",
     "output_type": "stream",
     "text": [
      "파이썬 최고!\n",
      "파이썬 최고!\n",
      "파이썬 최고!\n",
      "파이썬 최고!\n",
      "파이썬 최고!\n",
      "파이썬 최고!\n",
      "파이썬 최고!\n",
      "파이썬 최고!\n",
      "파이썬 최고!\n",
      "파이썬 최고!\n"
     ]
    }
   ],
   "source": [
    "# while문 예제\n",
    "\n",
    "# while문을 사용해서 \"파이썬 최고!\"를 12번 출력하세요\n",
    "\n",
    "num = 0\n",
    "\n",
    "while num < 10:\n",
    "    print(\"파이썬 최고!\")\n",
    "    num += 1"
   ]
  },
  {
   "cell_type": "code",
   "execution_count": 73,
   "id": "25bac55c",
   "metadata": {},
   "outputs": [
    {
     "name": "stdout",
     "output_type": "stream",
     "text": [
      "무한루프\n"
     ]
    }
   ],
   "source": [
    "# while문 - break\n",
    "# 반복문을 나가는 기능\n",
    "\n",
    "while True:\n",
    "    print(\"무한루프\")\n",
    "    break"
   ]
  },
  {
   "cell_type": "code",
   "execution_count": 75,
   "id": "07ac78f3",
   "metadata": {},
   "outputs": [
    {
     "name": "stdout",
     "output_type": "stream",
     "text": [
      "1\n",
      "2\n",
      "3\n"
     ]
    }
   ],
   "source": [
    "number = 1\n",
    "\n",
    "while True:\n",
    "    print(number)\n",
    "    number += 1\n",
    "    if number > 3:\n",
    "        break"
   ]
  },
  {
   "cell_type": "code",
   "execution_count": 81,
   "id": "ea26d9ea",
   "metadata": {},
   "outputs": [
    {
     "name": "stdout",
     "output_type": "stream",
     "text": [
      "첫번째 정수를 입력하세요 : 12\n",
      "두번째 정수를 입력하세요 : 2\n",
      "두 정수의 합 : 14\n",
      "\n",
      "첫번째 정수를 입력하세요 : 0\n",
      "두번째 정수를 입력하세요 : 45\n",
      "두 정수의 합 : 45\n",
      "\n",
      "첫번째 정수를 입력하세요 : 0\n",
      "두번째 정수를 입력하세요 : 0\n",
      "프로그램이 종료되었습니다.\n"
     ]
    }
   ],
   "source": [
    "# while문 예제\n",
    "# 두개의 정수를 입력 받아서 더하는 코드를 작성해보자(단, 두개의 정수가 0이 들어올 때 까지 반복)\n",
    "\n",
    "while True:\n",
    "    num1 = int(input(\"첫번째 정수를 입력하세요 : \"))\n",
    "    num2 = int(input(\"두번째 정수를 입력하세요 : \"))\n",
    "    if num1==0 and num2 ==0:\n",
    "        break\n",
    "    print(f\"두 정수의 합 : {num1 + num2}\")\n",
    "    print()\n",
    "\n",
    "\n",
    "print(\"프로그램이 종료되었습니다.\")\n",
    "    "
   ]
  },
  {
   "cell_type": "code",
   "execution_count": null,
   "id": "582479c3",
   "metadata": {},
   "outputs": [],
   "source": []
  },
  {
   "cell_type": "code",
   "execution_count": null,
   "id": "24091e33",
   "metadata": {},
   "outputs": [],
   "source": []
  },
  {
   "cell_type": "code",
   "execution_count": 132,
   "id": "f834a17a",
   "metadata": {},
   "outputs": [
    {
     "data": {
      "text/plain": [
       "10"
      ]
     },
     "execution_count": 132,
     "metadata": {},
     "output_type": "execute_result"
    }
   ],
   "source": [
    "# random 라이브러리 사용\n",
    "\n",
    "# 라이브러리 import\n",
    "import random\n",
    "\n",
    "# random.randint(시작값, 끝값(포함o)) 사용\n",
    "# 1~10 사이에 숫자 랜덤 추출\n",
    "random.randint(1,10)"
   ]
  },
  {
   "cell_type": "code",
   "execution_count": 135,
   "id": "7a664387",
   "metadata": {},
   "outputs": [
    {
     "name": "stdout",
     "output_type": "stream",
     "text": [
      "숫자를 입력하세요 >> 13\n",
      "13보다 큰 수 입니다.\n",
      "숫자를 입력하세요 >> 25\n",
      "25보다 작은 수 입니다.\n",
      "숫자를 입력하세요 >> 22\n",
      "22보다 큰 수 입니다.\n",
      "숫자를 입력하세요 >> 23\n",
      "정답을 맞추셨습니다.\n"
     ]
    }
   ],
   "source": [
    "# while문 예제\n",
    "# 랜덤으로 1~50 사이의 숫자를 뽑으면 뽑은 숫자를 맞추는 up, down 게임\n",
    "\n",
    "ran = random.randint(1,50)\n",
    "\n",
    "while True:\n",
    "    num = int(input(\"숫자를 입력하세요 >> \"))\n",
    "    if num > ran:\n",
    "        print(f\"{num}보다 작은 수 입니다.\")\n",
    "    elif num < ran:\n",
    "        print(f\"{num}보다 큰 수 입니다.\")\n",
    "    else:\n",
    "        print(\"정답을 맞추셨습니다.\")\n",
    "        break"
   ]
  },
  {
   "cell_type": "code",
   "execution_count": null,
   "id": "0389214a",
   "metadata": {},
   "outputs": [],
   "source": []
  },
  {
   "cell_type": "markdown",
   "id": "e1d69928",
   "metadata": {},
   "source": [
    "### for문"
   ]
  },
  {
   "cell_type": "code",
   "execution_count": 136,
   "id": "a8155fa7",
   "metadata": {},
   "outputs": [
    {
     "name": "stdout",
     "output_type": "stream",
     "text": [
      "안\n",
      "녕\n",
      "하\n",
      "세\n",
      "요\n"
     ]
    }
   ],
   "source": [
    "# for문 예시\n",
    "\n",
    "# 인덱스 방을 하나하나 접근한다.\n",
    "hi = \"안녕하세요\"\n",
    "\n",
    "for i in hi:\n",
    "    print(i)"
   ]
  },
  {
   "cell_type": "code",
   "execution_count": 137,
   "id": "ffdba88a",
   "metadata": {},
   "outputs": [
    {
     "name": "stdout",
     "output_type": "stream",
     "text": [
      "햄버거\n",
      "치킨\n",
      "피자\n"
     ]
    }
   ],
   "source": [
    "tuple_food = (\"햄버거\",\"치킨\",\"피자\")\n",
    "\n",
    "for food in tuple_food:\n",
    "    print(food)"
   ]
  },
  {
   "cell_type": "code",
   "execution_count": 139,
   "id": "b8492663",
   "metadata": {},
   "outputs": [
    {
     "name": "stdout",
     "output_type": "stream",
     "text": [
      "1번 학생은 합격입니다.\n",
      "2번 학생은 불합격입니다.\n",
      "3번 학생은 합격입니다.\n",
      "4번 학생은 합격입니다.\n",
      "5번 학생은 불합격입니다.\n"
     ]
    }
   ],
   "source": [
    "# for문 예제\n",
    "# 5명에 대한 정보처리기사 자격증 시험 점수가 리스트에 담겨있습니다.\n",
    "# 이 때 각 점수가 합격 점수인지 불합격 점수인지 판별하여 출력하시오.(60점 이상 합격)\n",
    "\n",
    "score_list = [90,45,70,60,55]\n",
    "num=0\n",
    "\n",
    "for score in score_list:\n",
    "    if(score >= 60):\n",
    "        hap = \"합격\"\n",
    "    else:\n",
    "        hap = \"불합격\"\n",
    "    num += 1\n",
    "    print(f\"{num}번 학생은 {hap}입니다.\")"
   ]
  },
  {
   "cell_type": "code",
   "execution_count": null,
   "id": "95c1587b",
   "metadata": {},
   "outputs": [],
   "source": []
  },
  {
   "cell_type": "code",
   "execution_count": null,
   "id": "3335da15",
   "metadata": {},
   "outputs": [],
   "source": []
  }
 ],
 "metadata": {
  "kernelspec": {
   "display_name": "Python 3 (ipykernel)",
   "language": "python",
   "name": "python3"
  },
  "language_info": {
   "codemirror_mode": {
    "name": "ipython",
    "version": 3
   },
   "file_extension": ".py",
   "mimetype": "text/x-python",
   "name": "python",
   "nbconvert_exporter": "python",
   "pygments_lexer": "ipython3",
   "version": "3.9.12"
  }
 },
 "nbformat": 4,
 "nbformat_minor": 5
}
