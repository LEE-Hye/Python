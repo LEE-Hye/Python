{
 "cells": [
  {
   "cell_type": "markdown",
   "id": "72e72ac6",
   "metadata": {},
   "source": [
    "# 딕셔너리\n",
    "- 딕셔너리는 Key와 Value를 한 쌍으로 갖는 자료형\n",
    "- 딕셔너리 타입은 변하지 못하는 Key와 변할수도 있는 Value로 맵핑 되어있는 순서(인덱스)가 없는 집합\n",
    "- Key에는 변하지 않는 값을 사용한다.(불변적)\n",
    "- Value에는 변하는 값과 변하지 않는 값 모두 사용할 수 있다. (가변적)\n",
    "- 딕셔너리 기호로는 {} 중괄호로 이루어져 있고 구분은 콤마(,)로 한다.\n",
    "- Key와 Value는 콜론(:)을 기준으로 작성해야한다."
   ]
  },
  {
   "cell_type": "code",
   "execution_count": null,
   "id": "fad44d4a",
   "metadata": {},
   "outputs": [],
   "source": [
    "# 딕셔너리 타입 확인\n",
    "\n",
    "dic1 = {'name' : 'SH', 'age':19, 'phone':'010-1234-5668'}\n",
    "dic1"
   ]
  },
  {
   "cell_type": "code",
   "execution_count": null,
   "id": "39dfd76e",
   "metadata": {},
   "outputs": [],
   "source": [
    "# type() 함수 : 해당 자료형의 타입을 알려주는 함수\n",
    "\n",
    "type(dic1)"
   ]
  },
  {
   "cell_type": "code",
   "execution_count": null,
   "id": "b300deea",
   "metadata": {},
   "outputs": [],
   "source": [
    "# 딕셔너리 값 추가\n",
    "# 딕셔너리명[Key] = value\n",
    "\n",
    "dic1['birth'] = '0115'"
   ]
  },
  {
   "cell_type": "code",
   "execution_count": null,
   "id": "53356a9b",
   "metadata": {},
   "outputs": [],
   "source": [
    "dic1"
   ]
  },
  {
   "cell_type": "code",
   "execution_count": null,
   "id": "312ea7c3",
   "metadata": {},
   "outputs": [],
   "source": [
    "dic_test = {'노래제목':'아무노래'}\n",
    "dic_test"
   ]
  },
  {
   "cell_type": "code",
   "execution_count": null,
   "id": "3b515ddf",
   "metadata": {},
   "outputs": [],
   "source": [
    "dic_test['가수']='지코'\n",
    "dic_test['날짜']='2020.01.13'"
   ]
  },
  {
   "cell_type": "code",
   "execution_count": null,
   "id": "e011a924",
   "metadata": {},
   "outputs": [],
   "source": [
    "dic_test"
   ]
  },
  {
   "cell_type": "code",
   "execution_count": null,
   "id": "ecfd412d",
   "metadata": {},
   "outputs": [],
   "source": [
    "# 딕셔너리 값 삭제\n",
    "# del 딕셔너리명[]\n",
    "\n",
    "del dic_test['가수']"
   ]
  },
  {
   "cell_type": "code",
   "execution_count": null,
   "id": "13ef3627",
   "metadata": {},
   "outputs": [],
   "source": [
    "dic_test"
   ]
  },
  {
   "cell_type": "code",
   "execution_count": null,
   "id": "797f4d31",
   "metadata": {},
   "outputs": [],
   "source": [
    "# 딕셔너리 값(value) 가져오기 --> 첫 번째 방법\n",
    "# 딕셔너리명[Key]\n",
    "\n",
    "dic_test['노래제목']"
   ]
  },
  {
   "cell_type": "code",
   "execution_count": null,
   "id": "81517dca",
   "metadata": {},
   "outputs": [],
   "source": [
    "# 딕셔너리 값 가져오기 --> 두번째 방법\n",
    "# 딕셔너리명.get(Key)\n",
    "# get함수는 가져오고 싶은 Key를 만나지 못하면 none을 반환한다.\n",
    "\n",
    "dic_test.get('노래제목')"
   ]
  },
  {
   "cell_type": "code",
   "execution_count": null,
   "id": "98a517c9",
   "metadata": {},
   "outputs": [],
   "source": [
    "print(dic_test.get('성별'))"
   ]
  },
  {
   "cell_type": "code",
   "execution_count": null,
   "id": "8ac66593",
   "metadata": {},
   "outputs": [],
   "source": [
    "try:\n",
    "    dic_test['사전']\n",
    "except:\n",
    "    print(\"위의 try문에서 에러나면 무시하고 나를 실행해라\")"
   ]
  },
  {
   "cell_type": "code",
   "execution_count": null,
   "id": "16dafc4e",
   "metadata": {},
   "outputs": [],
   "source": [
    "# 딕셔너리 Key만 가져오기\n",
    "# 딕셔너리명.Keys()\n",
    "\n",
    "temp = dic1.keys()\n",
    "\n",
    "# 리스트 형태로 바꾸기(순서가 생기도록)\n",
    "list(temp)[0]"
   ]
  },
  {
   "cell_type": "code",
   "execution_count": null,
   "id": "f69350c8",
   "metadata": {},
   "outputs": [],
   "source": [
    "# 딕셔너리 value만 가져오기\n",
    "# 딕셔너리명.values()\n",
    "\n",
    "temp2 = dic1.values()\n",
    "\n",
    "# 리스트 형태로 바꾸기(순서가 생기도록)\n",
    "list(temp2)[1]"
   ]
  },
  {
   "cell_type": "code",
   "execution_count": null,
   "id": "61a970a0",
   "metadata": {},
   "outputs": [],
   "source": [
    "# 딕셔너리 Key와 value 한번에 뽑아오기\n",
    "# for문 활용\n",
    "\n",
    "for key in dic1.keys():\n",
    "    print(key)\n",
    "    \n",
    "for value in dic1.values():\n",
    "    print(value)"
   ]
  },
  {
   "cell_type": "code",
   "execution_count": null,
   "id": "059ca857",
   "metadata": {},
   "outputs": [],
   "source": [
    "# 딕셔너리 key와 value 둘 다 가져오기\n",
    "# 딕셔너리명.items()\n",
    "\n",
    "for key,value in dic1.items():\n",
    "    print(key,value)"
   ]
  },
  {
   "cell_type": "code",
   "execution_count": null,
   "id": "81f3c190",
   "metadata": {},
   "outputs": [],
   "source": [
    "# 딕셔너리 in 키워드 사용\n",
    "# key이름 in 딕셔너리명\n",
    "# in키워드는 딕셔너리의 키에 한에서 동작한다.\n",
    "\n",
    "# 딕셔너리에서 key는 중복 불가하다\n",
    "\n",
    "'SH' in dic1"
   ]
  },
  {
   "cell_type": "code",
   "execution_count": null,
   "id": "35ac920b",
   "metadata": {},
   "outputs": [],
   "source": [
    "dic2 = {'name' : 'SH', 'age':19, 'phone':'010-1234-5668'}\n",
    "dic2"
   ]
  },
  {
   "cell_type": "code",
   "execution_count": null,
   "id": "04576a7a",
   "metadata": {},
   "outputs": [],
   "source": [
    "# 딕셔너리 모두 지우기\n",
    "# 딕셔너리명.clear()\n",
    "\n",
    "dic2.clear()\n",
    "dic2"
   ]
  },
  {
   "cell_type": "code",
   "execution_count": null,
   "id": "ad1c4735",
   "metadata": {},
   "outputs": [],
   "source": []
  },
  {
   "cell_type": "code",
   "execution_count": 40,
   "id": "8e87c47d",
   "metadata": {},
   "outputs": [
    {
     "name": "stdout",
     "output_type": "stream",
     "text": [
      "'수학':221, '국어':203, '영어':170\n"
     ]
    }
   ],
   "source": [
    "# 딕셔너리 예제\n",
    "# 여러 학생의 성적 점수가 담긴 dic에서 과목 별 합을 구하여 새로운 dic으로 구성하시오\n",
    "\n",
    "score_dic = {'홍길동':{'수학':99,'영어':80,'국어':75},\n",
    "             '김미정':{'영어':67,'국어':87,'수학':55},\n",
    "             '정수진':{'수학':67,'국어':41,'영어':23}}\n",
    "\n",
    "math_sum = 0\n",
    "kor_sum = 0\n",
    "eng_sum = 0\n",
    "\n",
    "for i in score_dic.keys():\n",
    "    math_sum += score_dic[i]['수학']\n",
    "    kor_sum += score_dic[i]['국어']\n",
    "    eng_sum += score_dic[i]['영어']\n",
    "    \n",
    "print(f\"'수학':{math_sum}, '국어':{kor_sum}, '영어':{eng_sum}\")"
   ]
  },
  {
   "cell_type": "code",
   "execution_count": 31,
   "id": "b9cd53db",
   "metadata": {},
   "outputs": [
    {
     "data": {
      "text/plain": [
       "{'수학': 221, '국어': 203, '영어': 170}"
      ]
     },
     "execution_count": 31,
     "metadata": {},
     "output_type": "execute_result"
    }
   ],
   "source": [
    "math = 0\n",
    "kor = 0\n",
    "eng = 0\n",
    "for value in score_dic.values():\n",
    "    math += value.get('수학')\n",
    "    kor +=  value.get('국어')\n",
    "    eng +=  value.get('영어')\n",
    "    \n",
    "dic_score = {'수학':math, '국어':kor, '영어':eng}\n",
    "dic_score"
   ]
  },
  {
   "cell_type": "code",
   "execution_count": null,
   "id": "dffef4aa",
   "metadata": {},
   "outputs": [],
   "source": []
  }
 ],
 "metadata": {
  "kernelspec": {
   "display_name": "Python 3 (ipykernel)",
   "language": "python",
   "name": "python3"
  },
  "language_info": {
   "codemirror_mode": {
    "name": "ipython",
    "version": 3
   },
   "file_extension": ".py",
   "mimetype": "text/x-python",
   "name": "python",
   "nbconvert_exporter": "python",
   "pygments_lexer": "ipython3",
   "version": "3.9.12"
  }
 },
 "nbformat": 4,
 "nbformat_minor": 5
}
