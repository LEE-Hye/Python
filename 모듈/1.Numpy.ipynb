{
 "cells": [
  {
   "cell_type": "code",
   "execution_count": 2,
   "id": "43bd0156",
   "metadata": {},
   "outputs": [],
   "source": [
    "# numpy 라이브러리 로딩하기~\n",
    "# alias : 라이브러리 로딩할 때 별칭을 부여한다(줄여쓸 수 있다)\n",
    "\n",
    "import numpy as np"
   ]
  },
  {
   "cell_type": "markdown",
   "id": "10da2bb6",
   "metadata": {},
   "source": [
    "### numpy의 특징\n",
    "- 파이썬 자료형인 list와 비슷한 형태를 가지고 있다! (절대 다름)\n",
    "- 빠르고 효율적인 산술연산을 제공하는 n차원 배열을제공한다.\n",
    "- 반복문 없이 전체 데이터 배열 연산이 가능하다."
   ]
  },
  {
   "cell_type": "markdown",
   "id": "85fc0283",
   "metadata": {},
   "source": [
    "### numpy.ndarray 클래스\n",
    "- 동일한 자료형을 가지는 값들이 배열 형태로 존재함\n",
    "- n차원 형태로 구성이 가능하다.\n",
    "- 각 값들은 양의 정수로 색인이 부여되어 있다."
   ]
  },
  {
   "cell_type": "code",
   "execution_count": 3,
   "id": "e9d0fe4c",
   "metadata": {},
   "outputs": [
    {
     "data": {
      "text/plain": [
       "[0, 1, 2, 3, 4]"
      ]
     },
     "execution_count": 3,
     "metadata": {},
     "output_type": "execute_result"
    }
   ],
   "source": [
    "# 리스트 생성하기\n",
    "\n",
    "list1 = [0,1,2,3,4]\n",
    "list1"
   ]
  },
  {
   "cell_type": "code",
   "execution_count": 4,
   "id": "b55e8bb8",
   "metadata": {},
   "outputs": [
    {
     "data": {
      "text/plain": [
       "array([0, 1, 2, 3, 4])"
      ]
     },
     "execution_count": 4,
     "metadata": {},
     "output_type": "execute_result"
    }
   ],
   "source": [
    "# np.array 생성 방법(첫 번째)\n",
    "# np.array(리스트이름)\n",
    "# 리스트를 먼저 만들고 np.array()안에 리스트를 넣어줘야 함\n",
    "\n",
    "np.array(list1)"
   ]
  },
  {
   "cell_type": "code",
   "execution_count": 6,
   "id": "fb4a1b53",
   "metadata": {},
   "outputs": [],
   "source": [
    "# np.array 생성 방법(두 번째)\n",
    "# np.array([4,3,2,1,0])\n",
    "\n",
    "arr1 = np.array([4,3,2,1,0])"
   ]
  },
  {
   "cell_type": "code",
   "execution_count": 7,
   "id": "12d85d61",
   "metadata": {},
   "outputs": [],
   "source": [
    "# ndarray 생성하기 (2차원)\n",
    "\n",
    "arr2 = np.array([[1,2,3],\n",
    "                             [4,5,6]])"
   ]
  },
  {
   "cell_type": "code",
   "execution_count": 8,
   "id": "6b4988a0",
   "metadata": {},
   "outputs": [
    {
     "data": {
      "text/plain": [
       "(2, 3)"
      ]
     },
     "execution_count": 8,
     "metadata": {},
     "output_type": "execute_result"
    }
   ],
   "source": [
    "# 배열의 크기 확인하기\n",
    "# array이름.shape\n",
    "# shape는 array의 크기를 알려주는 친구임. ()가 없어서 함수가 아님\n",
    "\n",
    "arr2.shape"
   ]
  },
  {
   "cell_type": "markdown",
   "id": "072d3f5f",
   "metadata": {},
   "source": [
    "# 콤마(,)를 기준으로 앞은 행 뒤는 열!"
   ]
  },
  {
   "cell_type": "code",
   "execution_count": 14,
   "id": "0ae83f27",
   "metadata": {},
   "outputs": [
    {
     "name": "stdout",
     "output_type": "stream",
     "text": [
      "[4 3 2 1 0]\n",
      "5\n",
      "\n",
      "[[1 2 3]\n",
      " [4 5 6]]\n",
      "6\n"
     ]
    }
   ],
   "source": [
    "# 배열의 전체 요소 확인하기 \n",
    "# array이름.size\n",
    "\n",
    "print(arr1)\n",
    "print(arr1.size)\n",
    "print()\n",
    "print(arr2)\n",
    "print(arr2.size)"
   ]
  },
  {
   "cell_type": "code",
   "execution_count": 15,
   "id": "2865b5e7",
   "metadata": {},
   "outputs": [
    {
     "name": "stdout",
     "output_type": "stream",
     "text": [
      "[[1 2 3]\n",
      " [4 5 6]]\n",
      "int32\n"
     ]
    }
   ],
   "source": [
    "# 배열의 타입 확인하기\n",
    "# array이름.dtype\n",
    "\n",
    "print(arr2)\n",
    "print(arr2.dtype)"
   ]
  },
  {
   "cell_type": "code",
   "execution_count": 16,
   "id": "7c3588f7",
   "metadata": {},
   "outputs": [
    {
     "data": {
      "text/plain": [
       "numpy.ndarray"
      ]
     },
     "execution_count": 16,
     "metadata": {},
     "output_type": "execute_result"
    }
   ],
   "source": [
    "type(arr2) # 리스트 타입 같았지만 리스트 타입이 아님"
   ]
  },
  {
   "cell_type": "code",
   "execution_count": 18,
   "id": "52cb06da",
   "metadata": {},
   "outputs": [
    {
     "name": "stdout",
     "output_type": "stream",
     "text": [
      "[[1 2 3]\n",
      " [4 5 6]]\n",
      "2\n"
     ]
    }
   ],
   "source": [
    "# 배열의 차원 확인하기\n",
    "# array이름.ndim\n",
    "\n",
    "print(arr2)\n",
    "print(arr2.ndim)"
   ]
  },
  {
   "cell_type": "code",
   "execution_count": 23,
   "id": "f8c6f18f",
   "metadata": {},
   "outputs": [
    {
     "name": "stdout",
     "output_type": "stream",
     "text": [
      "배열의 크기 : (2, 2, 2)\n",
      "배열의 차원 : 3\n",
      "배열의 개수 : 8\n"
     ]
    }
   ],
   "source": [
    "# ndarray 만들기(3차원)\n",
    "\n",
    "arr3 = np.array([[[1,2],[3,4]],[[5,6],[7,8]]])\n",
    "\n",
    "print(f\"배열의 크기 : {arr3.shape}\")\n",
    "print(f\"배열의 차원 : {arr3.ndim}\")\n",
    "print(f\"배열의 개수 : {arr3.size}\")"
   ]
  },
  {
   "cell_type": "code",
   "execution_count": 27,
   "id": "ca1b3d1d",
   "metadata": {},
   "outputs": [
    {
     "data": {
      "text/plain": [
       "array([[0., 0., 0.],\n",
       "       [0., 0., 0.]])"
      ]
     },
     "execution_count": 27,
     "metadata": {},
     "output_type": "execute_result"
    }
   ],
   "source": [
    "# 특정한 값으로 배열 생성하기\n",
    "\n",
    "# 모든 값 0으로 초기화해서 배열 생성\n",
    "# np.zeros()\n",
    "\n",
    "np.zeros((2,3))"
   ]
  },
  {
   "cell_type": "code",
   "execution_count": 28,
   "id": "9c838aef",
   "metadata": {},
   "outputs": [
    {
     "data": {
      "text/plain": [
       "array([[1., 1., 1., 1., 1., 1.],\n",
       "       [1., 1., 1., 1., 1., 1.],\n",
       "       [1., 1., 1., 1., 1., 1.],\n",
       "       [1., 1., 1., 1., 1., 1.],\n",
       "       [1., 1., 1., 1., 1., 1.]])"
      ]
     },
     "execution_count": 28,
     "metadata": {},
     "output_type": "execute_result"
    }
   ],
   "source": [
    "# 특정한 값으로 배열 생성하기\n",
    "\n",
    "# 모든 값 1으로 초기화해서 배열 생성\n",
    "# np.ones()\n",
    "\n",
    "np.ones((5,6))"
   ]
  },
  {
   "cell_type": "code",
   "execution_count": 29,
   "id": "d5125c13",
   "metadata": {},
   "outputs": [
    {
     "data": {
      "text/plain": [
       "array([[7, 7, 7, 7, 7, 7, 7, 7, 7, 7],\n",
       "       [7, 7, 7, 7, 7, 7, 7, 7, 7, 7],\n",
       "       [7, 7, 7, 7, 7, 7, 7, 7, 7, 7],\n",
       "       [7, 7, 7, 7, 7, 7, 7, 7, 7, 7],\n",
       "       [7, 7, 7, 7, 7, 7, 7, 7, 7, 7],\n",
       "       [7, 7, 7, 7, 7, 7, 7, 7, 7, 7],\n",
       "       [7, 7, 7, 7, 7, 7, 7, 7, 7, 7],\n",
       "       [7, 7, 7, 7, 7, 7, 7, 7, 7, 7],\n",
       "       [7, 7, 7, 7, 7, 7, 7, 7, 7, 7],\n",
       "       [7, 7, 7, 7, 7, 7, 7, 7, 7, 7]])"
      ]
     },
     "execution_count": 29,
     "metadata": {},
     "output_type": "execute_result"
    }
   ],
   "source": [
    "# 특정한 값으로 배열 생성하기\n",
    "# np.full((행,열), 원하는 값)\n",
    "\n",
    "np.full((10,10),7)"
   ]
  },
  {
   "cell_type": "code",
   "execution_count": 32,
   "id": "f530fc20",
   "metadata": {},
   "outputs": [
    {
     "name": "stdout",
     "output_type": "stream",
     "text": [
      "[1, 2, 3, 4, 5, 6, 7, 8, 9, 10, 11, 12, 13, 14, 15, 16, 17, 18, 19, 20, 21, 22, 23, 24, 25, 26, 27, 28, 29, 30, 31, 32, 33, 34, 35, 36, 37, 38, 39, 40, 41, 42, 43, 44, 45, 46, 47, 48, 49, 50]\n"
     ]
    }
   ],
   "source": [
    "# 1~50이 담긴 list 생성하기\n",
    "\n",
    "list1 = []\n",
    "\n",
    "for i in range(1,51):\n",
    "    list1.append(i)\n",
    "\n",
    "print(list1)"
   ]
  },
  {
   "cell_type": "code",
   "execution_count": 33,
   "id": "42e5a2d5",
   "metadata": {},
   "outputs": [],
   "source": [
    "# 미리 생성된 리스트를 array로 만들어줌~\n",
    "\n",
    "arr = np.array(list1)"
   ]
  },
  {
   "cell_type": "code",
   "execution_count": 35,
   "id": "263e3077",
   "metadata": {},
   "outputs": [
    {
     "data": {
      "text/plain": [
       "array([ 1, 11, 21, 31, 41])"
      ]
     },
     "execution_count": 35,
     "metadata": {},
     "output_type": "execute_result"
    }
   ],
   "source": [
    "# numpy.arange(시작할 값, 끝날 값(포함x), 증감)\n",
    "\n",
    "np.arange(1,51,10)"
   ]
  },
  {
   "cell_type": "code",
   "execution_count": 52,
   "id": "f025467f",
   "metadata": {},
   "outputs": [
    {
     "data": {
      "text/plain": [
       "array([[0.80034528, 0.60737422, 0.20380382],\n",
       "       [0.89825093, 0.18474505, 0.49822982]])"
      ]
     },
     "execution_count": 52,
     "metadata": {},
     "output_type": "execute_result"
    }
   ],
   "source": [
    "# 랜덤 값 배열 생성하기\n",
    "# numpy.random.rand\n",
    "\n",
    "np.random.rand(2,3)"
   ]
  },
  {
   "cell_type": "code",
   "execution_count": 126,
   "id": "980bc7e6",
   "metadata": {},
   "outputs": [
    {
     "data": {
      "text/plain": [
       "array([[4, 2, 4],\n",
       "       [2, 2, 2]])"
      ]
     },
     "execution_count": 126,
     "metadata": {},
     "output_type": "execute_result"
    }
   ],
   "source": [
    "# randint의 특징 : 시작값부터 끝날값까지 지정해줄 수 있다! (행,열도 지정 가능)\n",
    "# np.random.randint(시작값, 끝값(포함x), size = (행,열))\n",
    "\n",
    "np.random.randint(2,5, size=(2,3))"
   ]
  },
  {
   "cell_type": "code",
   "execution_count": 127,
   "id": "43cce37d",
   "metadata": {},
   "outputs": [
    {
     "data": {
      "text/plain": [
       "array([1.2, 2.3, 3.4])"
      ]
     },
     "execution_count": 127,
     "metadata": {},
     "output_type": "execute_result"
    }
   ],
   "source": [
    "# 타입을 지정해서 배열 생성하는 방법\n",
    "# dtype = np.int64 --> 정수로 변환 할건데, 넘파이에서 제공하는 정수로 변환한다!\n",
    "# int 옆에 64는 용량~\n",
    "\n",
    "np.array([1.2, 2.3, 3.4], dtype = np.int64)"
   ]
  },
  {
   "cell_type": "code",
   "execution_count": 129,
   "id": "3fb4d334",
   "metadata": {},
   "outputs": [
    {
     "data": {
      "text/plain": [
       "array([ 1.,  2.,  3.,  4.,  5.,  6.,  7.,  8.,  9., 10., 11., 12., 13.,\n",
       "       14., 15., 16., 17., 18., 19., 20., 21., 22., 23., 24., 25., 26.,\n",
       "       27., 28., 29., 30., 31., 32., 33., 34., 35., 36., 37., 38., 39.,\n",
       "       40., 41., 42., 43., 44., 45., 46., 47., 48., 49., 50.])"
      ]
     },
     "execution_count": 129,
     "metadata": {},
     "output_type": "execute_result"
    }
   ],
   "source": [
    "# 리스트는 numpy에서 찾아갈 수 없다. 서로 다르니까\n",
    "\n",
    "np.array(list1, dtype = float)"
   ]
  },
  {
   "cell_type": "code",
   "execution_count": 130,
   "id": "4b2f15cc",
   "metadata": {},
   "outputs": [
    {
     "data": {
      "text/plain": [
       "array([ 1,  2,  3,  4,  5,  6,  7,  8,  9, 10, 11, 12, 13, 14, 15, 16, 17,\n",
       "       18, 19, 20, 21, 22, 23, 24, 25, 26, 27, 28, 29, 30, 31, 32, 33, 34,\n",
       "       35, 36, 37, 38, 39, 40, 41, 42, 43, 44, 45, 46, 47, 48, 49, 50],\n",
       "      dtype=int64)"
      ]
     },
     "execution_count": 130,
     "metadata": {},
     "output_type": "execute_result"
    }
   ],
   "source": [
    "# 타입 변경하기\n",
    "# array이름.astype(\"문자열로 변경할 타입\")\n",
    "\n",
    "arr.astype(\"int64\")"
   ]
  },
  {
   "cell_type": "code",
   "execution_count": 131,
   "id": "009c6c46",
   "metadata": {},
   "outputs": [
    {
     "data": {
      "text/plain": [
       "array([1, 2, 3])"
      ]
     },
     "execution_count": 131,
     "metadata": {},
     "output_type": "execute_result"
    }
   ],
   "source": [
    "# array연산\n",
    "\n",
    "arr = np.array([1,2,3])\n",
    "arr\n",
    "arr2 = np.array([4,5,6])\n",
    "arr"
   ]
  },
  {
   "cell_type": "code",
   "execution_count": 133,
   "id": "2c76f95c",
   "metadata": {},
   "outputs": [
    {
     "data": {
      "text/plain": [
       "array([[2, 4, 6],\n",
       "       [5, 7, 9]])"
      ]
     },
     "execution_count": 133,
     "metadata": {},
     "output_type": "execute_result"
    }
   ],
   "source": [
    "arr+arr2"
   ]
  },
  {
   "cell_type": "code",
   "execution_count": 134,
   "id": "08588ed7",
   "metadata": {},
   "outputs": [],
   "source": [
    "# list 연산\n",
    "\n",
    "list1 = [1,2,3]\n",
    "list2 = [4,5,6]"
   ]
  },
  {
   "cell_type": "code",
   "execution_count": 135,
   "id": "23191d5e",
   "metadata": {},
   "outputs": [
    {
     "data": {
      "text/plain": [
       "[1, 2, 3, 4, 5, 6]"
      ]
     },
     "execution_count": 135,
     "metadata": {},
     "output_type": "execute_result"
    }
   ],
   "source": [
    "list1+list2"
   ]
  },
  {
   "cell_type": "code",
   "execution_count": 136,
   "id": "b89e8697",
   "metadata": {},
   "outputs": [
    {
     "data": {
      "text/plain": [
       "array([[1, 2, 3],\n",
       "       [4, 5, 6]])"
      ]
     },
     "execution_count": 136,
     "metadata": {},
     "output_type": "execute_result"
    }
   ],
   "source": [
    "arr2_a = np.array([[1,2,3],[4,5,6]])\n",
    "arr2_a"
   ]
  },
  {
   "cell_type": "code",
   "execution_count": 137,
   "id": "bd14abf8",
   "metadata": {},
   "outputs": [
    {
     "data": {
      "text/plain": [
       "array([[ 7,  8,  9],\n",
       "       [10, 11, 12]])"
      ]
     },
     "execution_count": 137,
     "metadata": {},
     "output_type": "execute_result"
    }
   ],
   "source": [
    "arr2_b = np.array([[7,8,9],[10,11,12]])\n",
    "arr2_b"
   ]
  },
  {
   "cell_type": "code",
   "execution_count": 138,
   "id": "b9ca32fd",
   "metadata": {
    "scrolled": true
   },
   "outputs": [
    {
     "data": {
      "text/plain": [
       "array([[ 8, 10, 12],\n",
       "       [14, 16, 18]])"
      ]
     },
     "execution_count": 138,
     "metadata": {},
     "output_type": "execute_result"
    }
   ],
   "source": [
    "arr2_a+arr2_b"
   ]
  },
  {
   "cell_type": "code",
   "execution_count": 139,
   "id": "0629c146",
   "metadata": {},
   "outputs": [
    {
     "data": {
      "text/plain": [
       "array([[4, 5, 6],\n",
       "       [7, 8, 9]])"
      ]
     },
     "execution_count": 139,
     "metadata": {},
     "output_type": "execute_result"
    }
   ],
   "source": [
    "arr2_a + 3"
   ]
  },
  {
   "cell_type": "markdown",
   "id": "35784674",
   "metadata": {},
   "source": [
    "### numpy 인덱싱 & 슬라이싱\n",
    "- 인덱싱 : 무엇인가(인덱스)를 '가리킨다'는 의미\n",
    "- 슬라이싱 : 무엇인가(인덱스범위)를 '잘라낸다'는 의미"
   ]
  },
  {
   "cell_type": "code",
   "execution_count": 140,
   "id": "8d74d416",
   "metadata": {},
   "outputs": [
    {
     "data": {
      "text/plain": [
       "array([4, 5, 6])"
      ]
     },
     "execution_count": 140,
     "metadata": {},
     "output_type": "execute_result"
    }
   ],
   "source": [
    "arr2_a[1]"
   ]
  },
  {
   "cell_type": "code",
   "execution_count": 4,
   "id": "dce46d91",
   "metadata": {},
   "outputs": [
    {
     "data": {
      "text/plain": [
       "array([0, 1, 2, 3, 4, 5, 6, 7, 8, 9])"
      ]
     },
     "execution_count": 4,
     "metadata": {},
     "output_type": "execute_result"
    }
   ],
   "source": [
    "# 1차원의 array 생성하기~ 범위는 0부터 9까지\n",
    "arr1 = np.arange(10)\n",
    "arr1"
   ]
  },
  {
   "cell_type": "code",
   "execution_count": 6,
   "id": "6c522888",
   "metadata": {},
   "outputs": [],
   "source": [
    "# 3번 인덱스 ~ 7번 인덱스 슬라이싱 \n",
    "arr1[3:8] = 12"
   ]
  },
  {
   "cell_type": "code",
   "execution_count": 8,
   "id": "cfa95b6a",
   "metadata": {},
   "outputs": [
    {
     "data": {
      "text/plain": [
       "array([ 0,  1,  2, 12, 12, 12, 12, 12,  8,  9])"
      ]
     },
     "execution_count": 8,
     "metadata": {},
     "output_type": "execute_result"
    }
   ],
   "source": [
    "# 슬라이싱 한 곳에 한번에 데이터 넣어주는 방법\n",
    "arr1[3:8] = 12\n",
    "arr1"
   ]
  },
  {
   "cell_type": "code",
   "execution_count": 11,
   "id": "4da90012",
   "metadata": {},
   "outputs": [
    {
     "data": {
      "text/plain": [
       "array([[ 0,  1,  2,  3,  4,  5,  6,  7,  8,  9],\n",
       "       [10, 11, 12, 13, 14, 15, 16, 17, 18, 19],\n",
       "       [20, 21, 22, 23, 24, 25, 26, 27, 28, 29],\n",
       "       [30, 31, 32, 33, 34, 35, 36, 37, 38, 39],\n",
       "       [40, 41, 42, 43, 44, 45, 46, 47, 48, 49]])"
      ]
     },
     "execution_count": 11,
     "metadata": {},
     "output_type": "execute_result"
    }
   ],
   "source": [
    "# 2차원 array 생성\n",
    "# .reshape(행, 열) : 차원을 내 마음대로 생성할 수 있다.\n",
    "arr2 = np.arange(50).reshape(5,10)\n",
    "arr2"
   ]
  },
  {
   "cell_type": "code",
   "execution_count": 19,
   "id": "8a00bd45",
   "metadata": {},
   "outputs": [
    {
     "data": {
      "text/plain": [
       "array([[ 0,  1,  2,  3,  4,  5,  6,  7,  8,  9],\n",
       "       [10, 11, 12, 13, 14, 15, 16, 17, 18, 19]])"
      ]
     },
     "execution_count": 19,
     "metadata": {},
     "output_type": "execute_result"
    }
   ],
   "source": [
    "# 2차원 array 슬라이싱\n",
    "# 0행(가로)부터 1행까지 전체 열(세로) 출력\n",
    "arr2[0:2,:]"
   ]
  },
  {
   "cell_type": "code",
   "execution_count": 20,
   "id": "d22401a6",
   "metadata": {},
   "outputs": [
    {
     "data": {
      "text/plain": [
       "array([[ 0,  1,  2,  3,  4],\n",
       "       [10, 11, 12, 13, 14],\n",
       "       [20, 21, 22, 23, 24],\n",
       "       [30, 31, 32, 33, 34]])"
      ]
     },
     "execution_count": 20,
     "metadata": {},
     "output_type": "execute_result"
    }
   ],
   "source": [
    "# 0행(가로)부터 3행까지, 0열(세로)부터 4열까지 출력\n",
    "arr2[0:4,0:5]"
   ]
  },
  {
   "cell_type": "code",
   "execution_count": null,
   "id": "4127b74b",
   "metadata": {},
   "outputs": [],
   "source": []
  },
  {
   "cell_type": "code",
   "execution_count": 23,
   "id": "d53ff6ce",
   "metadata": {},
   "outputs": [
    {
     "data": {
      "text/plain": [
       "array([[175.2   , 180.3   , 175.    , 169.2   , 185.2   , 188.    ,\n",
       "        177.6   , 178.2   , 177.    , 179.    ],\n",
       "       [144.5824, 193.952 , 174.5568, 152.7372, 121.22  , 156.9248,\n",
       "        160.892 , 151.8556, 163.096 , 180.728 ]])"
      ]
     },
     "execution_count": 23,
     "metadata": {},
     "output_type": "execute_result"
    }
   ],
   "source": [
    "# 1. 데이터 읽어오기 (.txt파일 확장자 읽어오기)\n",
    "# delimiter -> 구분 기호\n",
    "\n",
    "data = np.loadtxt(\"height_weight(p).txt\", delimiter=\",\")\n",
    "data"
   ]
  },
  {
   "attachments": {
    "image.png": {
     "image/png": "[encoded data removed]"
    }
   },
   "cell_type": "markdown",
   "id": "95842abb",
   "metadata": {},
   "source": [
    "![image.png](attachment:image.png)"
   ]
  },
  {
   "cell_type": "code",
   "execution_count": 31,
   "id": "79bd28b5",
   "metadata": {},
   "outputs": [
    {
     "data": {
      "text/plain": [
       "array([[21.37153104, 27.07018468, 25.86122449, 24.20652885, 16.03543423,\n",
       "        20.14486193, 23.14392095, 21.69720651, 23.62028791, 25.59220998]])"
      ]
     },
     "execution_count": 31,
     "metadata": {},
     "output_type": "execute_result"
    }
   ],
   "source": [
    "# bmi 지수 구하기\n",
    "# 몸무게(kg) / 키(m) * 키(m)\n",
    "\n",
    "# 키 데이터 가져오기(인덱싱) -> h 변수에 담아주기\n",
    "h = data[:1]\n",
    "\n",
    "# 몸무게 데이터 가져오기(인덱싱) -> w 변수에 담아주기\n",
    "w = data[1:2]\n",
    "\n",
    "# 키 데이터 cm -> m 변환 방법 => cm * 0.01\n",
    "h = h * 0.01\n",
    "\n",
    "# 몸무게 데이터 pound -> kg 변환 방법 => pound / 2.204\n",
    "w = w / 2.204\n",
    "\n",
    "# bmi 지수 구하기 --> 몸무게(kg) / 키(m) * 키(m)\n",
    "bmi = w / (h*h)\n",
    "bmi"
   ]
  },
  {
   "cell_type": "code",
   "execution_count": null,
   "id": "4db723d0",
   "metadata": {},
   "outputs": [],
   "source": []
  },
  {
   "cell_type": "code",
   "execution_count": null,
   "id": "71618e4b",
   "metadata": {},
   "outputs": [],
   "source": []
  },
  {
   "cell_type": "code",
   "execution_count": null,
   "id": "1b1dbd2e",
   "metadata": {},
   "outputs": [],
   "source": []
  },
  {
   "cell_type": "code",
   "execution_count": null,
   "id": "83128fa9",
   "metadata": {},
   "outputs": [],
   "source": []
  },
  {
   "cell_type": "code",
   "execution_count": null,
   "id": "03a2408a",
   "metadata": {},
   "outputs": [],
   "source": []
  },
  {
   "cell_type": "code",
   "execution_count": null,
   "id": "5836ecb3",
   "metadata": {},
   "outputs": [],
   "source": []
  },
  {
   "cell_type": "code",
   "execution_count": null,
   "id": "e66abb97",
   "metadata": {},
   "outputs": [],
   "source": []
  },
  {
   "cell_type": "code",
   "execution_count": null,
   "id": "f35a3a93",
   "metadata": {},
   "outputs": [],
   "source": []
  },
  {
   "cell_type": "code",
   "execution_count": null,
   "id": "a4ee0359",
   "metadata": {},
   "outputs": [],
   "source": []
  },
  {
   "cell_type": "code",
   "execution_count": null,
   "id": "0944448d",
   "metadata": {},
   "outputs": [],
   "source": []
  }
 ],
 "metadata": {
  "kernelspec": {
   "display_name": "Python 3 (ipykernel)",
   "language": "python",
   "name": "python3"
  },
  "language_info": {
   "codemirror_mode": {
    "name": "ipython",
    "version": 3
   },
   "file_extension": ".py",
   "mimetype": "text/x-python",
   "name": "python",
   "nbconvert_exporter": "python",
   "pygments_lexer": "ipython3",
   "version": "3.9.12"
  }
 },
 "nbformat": 4,
 "nbformat_minor": 5
}
