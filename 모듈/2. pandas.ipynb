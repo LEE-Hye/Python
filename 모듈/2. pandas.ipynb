{
 "cells": [
  {
   "cell_type": "markdown",
   "id": "ae2a6d93",
   "metadata": {},
   "source": [
    "# pandas\n",
    "- pandas에서 제공하는 데이터 구조\n",
    "    - 1차원 배열 형태의 데이터 구조 --> Series\n",
    "    - 2차원 배열 형태의 데이터 구조 --> DataFrame"
   ]
  },
  {
   "cell_type": "markdown",
   "id": "760fe9de",
   "metadata": {},
   "source": [
    "### 데이터 조작 및 분석을 위한 라이브러리이다.\n",
    "- Series : 1차원\n",
    "    - 인덱스(index) + 값(value)\n",
    "- DataFrame : 2차원\n",
    "    - 행과 열을 가지는 표와 같은 형태\n",
    "    - 서로 다른 종류의 자료형을 저장할 수 있음"
   ]
  },
  {
   "cell_type": "code",
   "execution_count": 3,
   "id": "e489df71",
   "metadata": {},
   "outputs": [],
   "source": [
    "# pandas 불러오기\n",
    "import pandas as pd"
   ]
  },
  {
   "cell_type": "code",
   "execution_count": 4,
   "id": "51526e1f",
   "metadata": {},
   "outputs": [
    {
     "data": {
      "text/plain": [
       "0    9668465\n",
       "1    3391946\n",
       "2    2942828\n",
       "3    1450062\n",
       "dtype: int64"
      ]
     },
     "execution_count": 4,
     "metadata": {},
     "output_type": "execute_result"
    }
   ],
   "source": [
    "# Series 생성\n",
    "\n",
    "population = pd.Series([9668465, 3391946,2942828,1450062])\n",
    "population"
   ]
  },
  {
   "cell_type": "code",
   "execution_count": 5,
   "id": "1fd8991f",
   "metadata": {},
   "outputs": [
    {
     "data": {
      "text/plain": [
       "서울    9668465\n",
       "부산    3391946\n",
       "인천    2942828\n",
       "광주    1450062\n",
       "dtype: int64"
      ]
     },
     "execution_count": 5,
     "metadata": {},
     "output_type": "execute_result"
    }
   ],
   "source": [
    "# 인덱스 지정해서 생성하기(Series)\n",
    "\n",
    "population = pd.Series([9668465, 3391946,2942828,1450062],\n",
    "                                       index = ['서울', '부산', '인천', '광주'])\n",
    "population"
   ]
  },
  {
   "cell_type": "code",
   "execution_count": 6,
   "id": "0d2fcd81",
   "metadata": {},
   "outputs": [
    {
     "data": {
      "text/plain": [
       "array([9668465, 3391946, 2942828, 1450062], dtype=int64)"
      ]
     },
     "execution_count": 6,
     "metadata": {},
     "output_type": "execute_result"
    }
   ],
   "source": [
    "# 1. Series 값 확인\n",
    "population.values"
   ]
  },
  {
   "cell_type": "code",
   "execution_count": 7,
   "id": "82297135",
   "metadata": {},
   "outputs": [
    {
     "data": {
      "text/plain": [
       "Index(['서울', '부산', '인천', '광주'], dtype='object')"
      ]
     },
     "execution_count": 7,
     "metadata": {},
     "output_type": "execute_result"
    }
   ],
   "source": [
    "# 2. Series 인덱스 확인\n",
    "population.index"
   ]
  },
  {
   "cell_type": "code",
   "execution_count": 8,
   "id": "099c4fbe",
   "metadata": {},
   "outputs": [
    {
     "data": {
      "text/plain": [
       "dtype('int64')"
      ]
     },
     "execution_count": 8,
     "metadata": {},
     "output_type": "execute_result"
    }
   ],
   "source": [
    "# 3. Series 타입 확인\n",
    "population.dtype"
   ]
  },
  {
   "cell_type": "code",
   "execution_count": 9,
   "id": "291632c0",
   "metadata": {},
   "outputs": [],
   "source": [
    "# Series에 이름 지정\n",
    "population.name = \"인구\"\n",
    "population.index.name = \"도시\""
   ]
  },
  {
   "cell_type": "code",
   "execution_count": 10,
   "id": "0eed6c50",
   "metadata": {},
   "outputs": [
    {
     "data": {
      "text/plain": [
       "도시\n",
       "서울    9668465\n",
       "부산    3391946\n",
       "인천    2942828\n",
       "광주    1450062\n",
       "Name: 인구, dtype: int64"
      ]
     },
     "execution_count": 10,
     "metadata": {},
     "output_type": "execute_result"
    }
   ],
   "source": [
    "population"
   ]
  },
  {
   "cell_type": "code",
   "execution_count": 11,
   "id": "3909e030",
   "metadata": {},
   "outputs": [
    {
     "data": {
      "text/plain": [
       "도시\n",
       "서울    9.668465\n",
       "부산    3.391946\n",
       "인천    2.942828\n",
       "광주    1.450062\n",
       "Name: 인구, dtype: float64"
      ]
     },
     "execution_count": 11,
     "metadata": {},
     "output_type": "execute_result"
    }
   ],
   "source": [
    "# Series 연산\n",
    "population / 1000000"
   ]
  },
  {
   "cell_type": "code",
   "execution_count": null,
   "id": "2f1036b1",
   "metadata": {},
   "outputs": [],
   "source": []
  },
  {
   "cell_type": "markdown",
   "id": "2bf6983a",
   "metadata": {},
   "source": [
    "### Series 인덱싱, 슬라이싱\n",
    "- 인덱싱 : 무엇인가를 '가리킨다'는 의미\n",
    "- 슬라이싱 : 무엇인가를 '잘라낸다'는 의미"
   ]
  },
  {
   "cell_type": "code",
   "execution_count": 12,
   "id": "86316719",
   "metadata": {},
   "outputs": [
    {
     "data": {
      "text/plain": [
       "3391946"
      ]
     },
     "execution_count": 12,
     "metadata": {},
     "output_type": "execute_result"
    }
   ],
   "source": [
    "# 인덱싱 --> 인덱스 번호를 직접 입력\n",
    "population[1]"
   ]
  },
  {
   "cell_type": "code",
   "execution_count": 13,
   "id": "75357759",
   "metadata": {},
   "outputs": [
    {
     "data": {
      "text/plain": [
       "1450062"
      ]
     },
     "execution_count": 13,
     "metadata": {},
     "output_type": "execute_result"
    }
   ],
   "source": [
    "# 인덱싱 --> 인덱스 명칭을 직접 입력\n",
    "population[\"광주\"]"
   ]
  },
  {
   "cell_type": "code",
   "execution_count": 14,
   "id": "abb35ad4",
   "metadata": {},
   "outputs": [
    {
     "data": {
      "text/plain": [
       "도시\n",
       "서울    9668465\n",
       "광주    1450062\n",
       "부산    3391946\n",
       "Name: 인구, dtype: int64"
      ]
     },
     "execution_count": 14,
     "metadata": {},
     "output_type": "execute_result"
    }
   ],
   "source": [
    "# Series 인덱싱\n",
    "# 다중 인덱스 접근하는 다중 인덱싱\n",
    "# 인덱스 번호로 접근하는 방법\n",
    "population[[0,3,1]]"
   ]
  },
  {
   "cell_type": "code",
   "execution_count": 15,
   "id": "33e9124c",
   "metadata": {},
   "outputs": [
    {
     "data": {
      "text/plain": [
       "도시\n",
       "서울    9668465\n",
       "광주    1450062\n",
       "부산    3391946\n",
       "Name: 인구, dtype: int64"
      ]
     },
     "execution_count": 15,
     "metadata": {},
     "output_type": "execute_result"
    }
   ],
   "source": [
    "# Series 인덱싱\n",
    "# 다중 인덱스 접근하는 다중 인덱싱\n",
    "# 인덱스 명칭으로 접근하는 방법\n",
    "population[[\"서울\",\"광주\",\"부산\"]]"
   ]
  },
  {
   "cell_type": "code",
   "execution_count": 16,
   "id": "1f773f88",
   "metadata": {},
   "outputs": [
    {
     "data": {
      "text/plain": [
       "도시\n",
       "서울    9668465\n",
       "부산    3391946\n",
       "인천    2942828\n",
       "Name: 인구, dtype: int64"
      ]
     },
     "execution_count": 16,
     "metadata": {},
     "output_type": "execute_result"
    }
   ],
   "source": [
    "# # Series Boolean 인덱싱\n",
    "\n",
    "population[population >= 2500000]"
   ]
  },
  {
   "cell_type": "code",
   "execution_count": 17,
   "id": "cdeaa5a9",
   "metadata": {
    "scrolled": true
   },
   "outputs": [
    {
     "data": {
      "text/plain": [
       "도시\n",
       "서울    9668465\n",
       "부산    3391946\n",
       "Name: 인구, dtype: int64"
      ]
     },
     "execution_count": 17,
     "metadata": {},
     "output_type": "execute_result"
    }
   ],
   "source": [
    "# 1. 인구수가 300만 이상의 도시는?\n",
    "\n",
    "population[population>=3000000]"
   ]
  },
  {
   "cell_type": "code",
   "execution_count": 18,
   "id": "cc5dc833",
   "metadata": {},
   "outputs": [
    {
     "data": {
      "text/plain": [
       "도시\n",
       "부산    3391946\n",
       "인천    2942828\n",
       "Name: 인구, dtype: int64"
      ]
     },
     "execution_count": 18,
     "metadata": {},
     "output_type": "execute_result"
    }
   ],
   "source": [
    "# 2. 인구수가 250만 이상이면서 500만 이하인 도시는?\n",
    "# 논리 연산자 \"기호\"를 사용해야 한다.\n",
    "# 다중 불리언 인덱싱\n",
    "\n",
    "population[(population >= 2500000) & (population<=5000000)]"
   ]
  },
  {
   "cell_type": "code",
   "execution_count": 19,
   "id": "a89c5b53",
   "metadata": {},
   "outputs": [
    {
     "data": {
      "text/plain": [
       "도시\n",
       "부산    3391946\n",
       "인천    2942828\n",
       "Name: 인구, dtype: int64"
      ]
     },
     "execution_count": 19,
     "metadata": {},
     "output_type": "execute_result"
    }
   ],
   "source": [
    "# Series 슬라이싱\n",
    "population[1:3]"
   ]
  },
  {
   "cell_type": "code",
   "execution_count": 20,
   "id": "4fec3c0d",
   "metadata": {},
   "outputs": [
    {
     "data": {
      "text/plain": [
       "피카츄     9631\n",
       "꼬부기     3393\n",
       "파이리     1490\n",
       "이상해씨    2632\n",
       "dtype: int64"
      ]
     },
     "execution_count": 20,
     "metadata": {},
     "output_type": "execute_result"
    }
   ],
   "source": [
    "# 딕셔너리 객체로 Series 생성\n",
    "\n",
    "data = {'피카츄':9631, '꼬부기':3393,\n",
    "        '파이리':1490, '이상해씨':2632}\n",
    "\n",
    "pokemon = pd.Series(data)\n",
    "pokemon"
   ]
  },
  {
   "cell_type": "code",
   "execution_count": 21,
   "id": "b343bfa9",
   "metadata": {},
   "outputs": [
    {
     "data": {
      "text/plain": [
       "피카츄    9904\n",
       "꼬부기    3448\n",
       "이브이    2466\n",
       "뮤      2890\n",
       "dtype: int64"
      ]
     },
     "execution_count": 21,
     "metadata": {},
     "output_type": "execute_result"
    }
   ],
   "source": [
    "data2 = {'피카츄' : 9904, '꼬부기':3448,\n",
    "                '이브이' : 2466, '뮤' : 2890}\n",
    "\n",
    "pokemon_up = pd.Series(data2)\n",
    "pokemon_up"
   ]
  },
  {
   "cell_type": "code",
   "execution_count": 22,
   "id": "3978eec7",
   "metadata": {},
   "outputs": [
    {
     "data": {
      "text/plain": [
       "꼬부기      55.0\n",
       "뮤         NaN\n",
       "이브이       NaN\n",
       "이상해씨      NaN\n",
       "파이리       NaN\n",
       "피카츄     273.0\n",
       "dtype: float64"
      ]
     },
     "execution_count": 22,
     "metadata": {},
     "output_type": "execute_result"
    }
   ],
   "source": [
    "# 레벨업해서 올라간 공격력을 계산\n",
    "\n",
    "attack = pokemon_up - pokemon\n",
    "attack"
   ]
  },
  {
   "cell_type": "code",
   "execution_count": 23,
   "id": "d544d0cd",
   "metadata": {},
   "outputs": [
    {
     "data": {
      "text/plain": [
       "꼬부기     55.0\n",
       "피카츄    273.0\n",
       "dtype: float64"
      ]
     },
     "execution_count": 23,
     "metadata": {},
     "output_type": "execute_result"
    }
   ],
   "source": [
    "# 비어있지 않은 데이터만 보려면?\n",
    "# .notnull() --> 결측치가 아닌 부분만 추출해서 boolean 타입으로 (True) 변환\n",
    "# --> 즉, boolean 인덱싱 가능!\n",
    "attack[attack.notnull()]"
   ]
  },
  {
   "cell_type": "code",
   "execution_count": 24,
   "id": "90aec7b4",
   "metadata": {},
   "outputs": [
    {
     "data": {
      "text/plain": [
       "뮤      NaN\n",
       "이브이    NaN\n",
       "이상해씨   NaN\n",
       "파이리    NaN\n",
       "dtype: float64"
      ]
     },
     "execution_count": 24,
     "metadata": {},
     "output_type": "execute_result"
    }
   ],
   "source": [
    "# 비어있는 데이터들만 보려면?\n",
    "# .isnull() --> 결측치가 존재하는 부분만 추출해서 boolean 타입으로(True) 변환\n",
    "# --> 즉, boolean 인덱싱 가능!\n",
    "attack[attack.isnull()]"
   ]
  },
  {
   "cell_type": "code",
   "execution_count": 25,
   "id": "082eeff1",
   "metadata": {},
   "outputs": [
    {
     "data": {
      "text/plain": [
       "꼬부기     1.620984\n",
       "뮤            NaN\n",
       "이브이          NaN\n",
       "이상해씨         NaN\n",
       "파이리          NaN\n",
       "피카츄     2.834597\n",
       "dtype: float64"
      ]
     },
     "execution_count": 25,
     "metadata": {},
     "output_type": "execute_result"
    }
   ],
   "source": [
    "# 레벨업해서 올라간 공격력의 증가율(%)을 계산\n",
    "# 레벨업해서 올라간 공격력(attack) /  초기상태(pokemon) * 100\n",
    "\n",
    "rp = attack / pokemon * 100\n",
    "rp"
   ]
  },
  {
   "cell_type": "code",
   "execution_count": 26,
   "id": "a46cc517",
   "metadata": {},
   "outputs": [
    {
     "data": {
      "text/plain": [
       "꼬부기    1.620984\n",
       "피카츄    2.834597\n",
       "dtype: float64"
      ]
     },
     "execution_count": 26,
     "metadata": {},
     "output_type": "execute_result"
    }
   ],
   "source": [
    "rp[rp.notnull()]"
   ]
  },
  {
   "cell_type": "code",
   "execution_count": null,
   "id": "c17b21d7",
   "metadata": {},
   "outputs": [],
   "source": []
  },
  {
   "cell_type": "code",
   "execution_count": 27,
   "id": "eff6123d",
   "metadata": {},
   "outputs": [],
   "source": [
    "# Series 데이터 갱신, 추가, 삭제\n",
    "\n",
    "# 원래 데이터 출력\n",
    "attack\n",
    "\n",
    "# 파이리라는 인덱스에 NaN값 채우기\n",
    "attack['파이리'] = 1616\n",
    "attack['리자몽'] = 8888\n",
    "\n",
    "# 이상해씨라는 인덱스 삭제하기\n",
    "del attack['이상해씨']"
   ]
  },
  {
   "cell_type": "code",
   "execution_count": 28,
   "id": "6d95a93f",
   "metadata": {},
   "outputs": [
    {
     "data": {
      "text/plain": [
       "꼬부기      55.0\n",
       "뮤         NaN\n",
       "이브이       NaN\n",
       "파이리    1616.0\n",
       "피카츄     273.0\n",
       "리자몽    8888.0\n",
       "dtype: float64"
      ]
     },
     "execution_count": 28,
     "metadata": {},
     "output_type": "execute_result"
    }
   ],
   "source": [
    "attack"
   ]
  },
  {
   "cell_type": "code",
   "execution_count": null,
   "id": "b57b2293",
   "metadata": {},
   "outputs": [],
   "source": []
  },
  {
   "cell_type": "markdown",
   "id": "042f0bc2",
   "metadata": {},
   "source": [
    "### DataFrame"
   ]
  },
  {
   "cell_type": "code",
   "execution_count": 29,
   "id": "1fc1c622",
   "metadata": {},
   "outputs": [
    {
     "data": {
      "text/html": [
       "<div>\n",
       "<style scoped>\n",
       "    .dataframe tbody tr th:only-of-type {\n",
       "        vertical-align: middle;\n",
       "    }\n",
       "\n",
       "    .dataframe tbody tr th {\n",
       "        vertical-align: top;\n",
       "    }\n",
       "\n",
       "    .dataframe thead th {\n",
       "        text-align: right;\n",
       "    }\n",
       "</style>\n",
       "<table border=\"1\" class=\"dataframe\">\n",
       "  <thead>\n",
       "    <tr style=\"text-align: right;\">\n",
       "      <th></th>\n",
       "      <th>2020</th>\n",
       "      <th>2010</th>\n",
       "    </tr>\n",
       "  </thead>\n",
       "  <tbody>\n",
       "    <tr>\n",
       "      <th>0</th>\n",
       "      <td>9668465</td>\n",
       "      <td>10312545</td>\n",
       "    </tr>\n",
       "    <tr>\n",
       "      <th>1</th>\n",
       "      <td>3391946</td>\n",
       "      <td>3567910</td>\n",
       "    </tr>\n",
       "    <tr>\n",
       "      <th>2</th>\n",
       "      <td>2942828</td>\n",
       "      <td>2758296</td>\n",
       "    </tr>\n",
       "    <tr>\n",
       "      <th>3</th>\n",
       "      <td>1450062</td>\n",
       "      <td>1454636</td>\n",
       "    </tr>\n",
       "  </tbody>\n",
       "</table>\n",
       "</div>"
      ],
      "text/plain": [
       "      2020      2010\n",
       "0  9668465  10312545\n",
       "1  3391946   3567910\n",
       "2  2942828   2758296\n",
       "3  1450062   1454636"
      ]
     },
     "execution_count": 29,
     "metadata": {},
     "output_type": "execute_result"
    }
   ],
   "source": [
    "# 데이터프레임 생성하기~\n",
    "data = {'2020':[9668465, 3391946, 2942828, 1450062],\n",
    "        '2010':[10312545, 3567910, 2758296, 1454636]}\n",
    "\n",
    "df = pd.DataFrame(data)\n",
    "df"
   ]
  },
  {
   "cell_type": "code",
   "execution_count": 30,
   "id": "67199b49",
   "metadata": {},
   "outputs": [],
   "source": [
    "# 데이터프레임 인덱스 수정\n",
    "\n",
    "df.index = ['서울', '부산', '인천', '광주']"
   ]
  },
  {
   "cell_type": "code",
   "execution_count": 31,
   "id": "42e27b50",
   "metadata": {},
   "outputs": [
    {
     "data": {
      "text/html": [
       "<div>\n",
       "<style scoped>\n",
       "    .dataframe tbody tr th:only-of-type {\n",
       "        vertical-align: middle;\n",
       "    }\n",
       "\n",
       "    .dataframe tbody tr th {\n",
       "        vertical-align: top;\n",
       "    }\n",
       "\n",
       "    .dataframe thead th {\n",
       "        text-align: right;\n",
       "    }\n",
       "</style>\n",
       "<table border=\"1\" class=\"dataframe\">\n",
       "  <thead>\n",
       "    <tr style=\"text-align: right;\">\n",
       "      <th></th>\n",
       "      <th>2020</th>\n",
       "      <th>2010</th>\n",
       "    </tr>\n",
       "  </thead>\n",
       "  <tbody>\n",
       "    <tr>\n",
       "      <th>서울</th>\n",
       "      <td>9668465</td>\n",
       "      <td>10312545</td>\n",
       "    </tr>\n",
       "    <tr>\n",
       "      <th>부산</th>\n",
       "      <td>3391946</td>\n",
       "      <td>3567910</td>\n",
       "    </tr>\n",
       "    <tr>\n",
       "      <th>인천</th>\n",
       "      <td>2942828</td>\n",
       "      <td>2758296</td>\n",
       "    </tr>\n",
       "    <tr>\n",
       "      <th>광주</th>\n",
       "      <td>1450062</td>\n",
       "      <td>1454636</td>\n",
       "    </tr>\n",
       "  </tbody>\n",
       "</table>\n",
       "</div>"
      ],
      "text/plain": [
       "       2020      2010\n",
       "서울  9668465  10312545\n",
       "부산  3391946   3567910\n",
       "인천  2942828   2758296\n",
       "광주  1450062   1454636"
      ]
     },
     "execution_count": 31,
     "metadata": {},
     "output_type": "execute_result"
    }
   ],
   "source": [
    "# 데이터프레임 생성할 때 인덱스 바로 지정해서 생성하는 방법\n",
    "data = {'2020':[9668465, 3391946, 2942828, 1450062],\n",
    "        '2010':[10312545, 3567910, 2758296, 1454636]}\n",
    "\n",
    "df = pd.DataFrame(data, index = ['서울', '부산', '인천', '광주'])\n",
    "df"
   ]
  },
  {
   "cell_type": "code",
   "execution_count": 32,
   "id": "f6ec11ed",
   "metadata": {},
   "outputs": [
    {
     "data": {
      "text/html": [
       "<div>\n",
       "<style scoped>\n",
       "    .dataframe tbody tr th:only-of-type {\n",
       "        vertical-align: middle;\n",
       "    }\n",
       "\n",
       "    .dataframe tbody tr th {\n",
       "        vertical-align: top;\n",
       "    }\n",
       "\n",
       "    .dataframe thead th {\n",
       "        text-align: right;\n",
       "    }\n",
       "</style>\n",
       "<table border=\"1\" class=\"dataframe\">\n",
       "  <thead>\n",
       "    <tr style=\"text-align: right;\">\n",
       "      <th></th>\n",
       "      <th>서울</th>\n",
       "      <th>부산</th>\n",
       "      <th>인천</th>\n",
       "      <th>광주</th>\n",
       "    </tr>\n",
       "  </thead>\n",
       "  <tbody>\n",
       "    <tr>\n",
       "      <th>2020</th>\n",
       "      <td>9668465</td>\n",
       "      <td>3391946</td>\n",
       "      <td>2942828</td>\n",
       "      <td>1450062</td>\n",
       "    </tr>\n",
       "    <tr>\n",
       "      <th>2010</th>\n",
       "      <td>10312545</td>\n",
       "      <td>3567910</td>\n",
       "      <td>2758296</td>\n",
       "      <td>1454636</td>\n",
       "    </tr>\n",
       "  </tbody>\n",
       "</table>\n",
       "</div>"
      ],
      "text/plain": [
       "            서울       부산       인천       광주\n",
       "2020   9668465  3391946  2942828  1450062\n",
       "2010  10312545  3567910  2758296  1454636"
      ]
     },
     "execution_count": 32,
     "metadata": {},
     "output_type": "execute_result"
    }
   ],
   "source": [
    "# 데이터프레임 인덱스 지정해서 생성하는 방법 (list 구조 활용)\n",
    "data2 = [[9668465, 3391946, 2942828, 1450062],\n",
    "         [10312545, 3567910, 2758296, 1454636]]\n",
    "\n",
    "# 인덱스는\n",
    "ind = ['2020', '2010']\n",
    "\n",
    "# 컬럼은\n",
    "col = ['서울', '부산', '인천', '광주']\n",
    "\n",
    "# DataFrame(값이 들어있는 데이터, index = 인덱스명, columns = 컬럼명)\n",
    "df2 = pd.DataFrame(data2, index = ind, columns=col)\n",
    "df2"
   ]
  },
  {
   "cell_type": "code",
   "execution_count": 33,
   "id": "89da6c17",
   "metadata": {},
   "outputs": [
    {
     "data": {
      "text/html": [
       "<div>\n",
       "<style scoped>\n",
       "    .dataframe tbody tr th:only-of-type {\n",
       "        vertical-align: middle;\n",
       "    }\n",
       "\n",
       "    .dataframe tbody tr th {\n",
       "        vertical-align: top;\n",
       "    }\n",
       "\n",
       "    .dataframe thead th {\n",
       "        text-align: right;\n",
       "    }\n",
       "</style>\n",
       "<table border=\"1\" class=\"dataframe\">\n",
       "  <thead>\n",
       "    <tr style=\"text-align: right;\">\n",
       "      <th></th>\n",
       "      <th>2020</th>\n",
       "      <th>2010</th>\n",
       "    </tr>\n",
       "  </thead>\n",
       "  <tbody>\n",
       "    <tr>\n",
       "      <th>서울</th>\n",
       "      <td>9668465</td>\n",
       "      <td>10312545</td>\n",
       "    </tr>\n",
       "    <tr>\n",
       "      <th>부산</th>\n",
       "      <td>3391946</td>\n",
       "      <td>3567910</td>\n",
       "    </tr>\n",
       "    <tr>\n",
       "      <th>인천</th>\n",
       "      <td>2942828</td>\n",
       "      <td>2758296</td>\n",
       "    </tr>\n",
       "    <tr>\n",
       "      <th>광주</th>\n",
       "      <td>1450062</td>\n",
       "      <td>1454636</td>\n",
       "    </tr>\n",
       "  </tbody>\n",
       "</table>\n",
       "</div>"
      ],
      "text/plain": [
       "       2020      2010\n",
       "서울  9668465  10312545\n",
       "부산  3391946   3567910\n",
       "인천  2942828   2758296\n",
       "광주  1450062   1454636"
      ]
     },
     "execution_count": 33,
     "metadata": {},
     "output_type": "execute_result"
    }
   ],
   "source": [
    "# 데이터 프레임 전치하기\n",
    "df2.T"
   ]
  },
  {
   "cell_type": "code",
   "execution_count": 34,
   "id": "fe9fd2ad",
   "metadata": {},
   "outputs": [
    {
     "data": {
      "text/plain": [
       "Index(['2020', '2010'], dtype='object')"
      ]
     },
     "execution_count": 34,
     "metadata": {},
     "output_type": "execute_result"
    }
   ],
   "source": [
    "# 1. 데이터프레임 값 확인\n",
    "df.values\n",
    "\n",
    "# 2. 데이터프레임 인덱스 확인\n",
    "df.index\n",
    "\n",
    "# 3. 데이터프레임 컬럼 확인\n",
    "df.columns"
   ]
  },
  {
   "cell_type": "code",
   "execution_count": null,
   "id": "0e950353",
   "metadata": {},
   "outputs": [],
   "source": []
  },
  {
   "cell_type": "markdown",
   "id": "c987d551",
   "metadata": {},
   "source": [
    "### DataFrame 인덱싱, 슬라이싱\n",
    "- 인덱싱 : 무엇인가를 '가리킨다'는 의미\n",
    "- 슬라이싱 : 무엇인가를 '잘라낸다'는 의미"
   ]
  },
  {
   "cell_type": "code",
   "execution_count": 35,
   "id": "50b387a2",
   "metadata": {},
   "outputs": [
    {
     "data": {
      "text/plain": [
       "서울    9668465\n",
       "부산    3391946\n",
       "인천    2942828\n",
       "광주    1450062\n",
       "Name: 2020, dtype: int64"
      ]
     },
     "execution_count": 35,
     "metadata": {},
     "output_type": "execute_result"
    }
   ],
   "source": [
    "# 데이터 프레임 열 인덱스 확인하기(열 인덱싱)\n",
    "df['2020']"
   ]
  },
  {
   "cell_type": "code",
   "execution_count": 36,
   "id": "eff92d71",
   "metadata": {},
   "outputs": [
    {
     "data": {
      "text/html": [
       "<div>\n",
       "<style scoped>\n",
       "    .dataframe tbody tr th:only-of-type {\n",
       "        vertical-align: middle;\n",
       "    }\n",
       "\n",
       "    .dataframe tbody tr th {\n",
       "        vertical-align: top;\n",
       "    }\n",
       "\n",
       "    .dataframe thead th {\n",
       "        text-align: right;\n",
       "    }\n",
       "</style>\n",
       "<table border=\"1\" class=\"dataframe\">\n",
       "  <thead>\n",
       "    <tr style=\"text-align: right;\">\n",
       "      <th></th>\n",
       "      <th>2020</th>\n",
       "      <th>2010</th>\n",
       "    </tr>\n",
       "  </thead>\n",
       "  <tbody>\n",
       "    <tr>\n",
       "      <th>서울</th>\n",
       "      <td>9668465</td>\n",
       "      <td>10312545</td>\n",
       "    </tr>\n",
       "    <tr>\n",
       "      <th>부산</th>\n",
       "      <td>3391946</td>\n",
       "      <td>3567910</td>\n",
       "    </tr>\n",
       "    <tr>\n",
       "      <th>인천</th>\n",
       "      <td>2942828</td>\n",
       "      <td>2758296</td>\n",
       "    </tr>\n",
       "    <tr>\n",
       "      <th>광주</th>\n",
       "      <td>1450062</td>\n",
       "      <td>1454636</td>\n",
       "    </tr>\n",
       "  </tbody>\n",
       "</table>\n",
       "</div>"
      ],
      "text/plain": [
       "       2020      2010\n",
       "서울  9668465  10312545\n",
       "부산  3391946   3567910\n",
       "인천  2942828   2758296\n",
       "광주  1450062   1454636"
      ]
     },
     "execution_count": 36,
     "metadata": {},
     "output_type": "execute_result"
    }
   ],
   "source": [
    "df[['2020', '2010']]"
   ]
  },
  {
   "cell_type": "code",
   "execution_count": null,
   "id": "d9bfe517",
   "metadata": {},
   "outputs": [],
   "source": []
  },
  {
   "cell_type": "code",
   "execution_count": 38,
   "id": "2778b344",
   "metadata": {},
   "outputs": [
    {
     "data": {
      "text/html": [
       "<div>\n",
       "<style scoped>\n",
       "    .dataframe tbody tr th:only-of-type {\n",
       "        vertical-align: middle;\n",
       "    }\n",
       "\n",
       "    .dataframe tbody tr th {\n",
       "        vertical-align: top;\n",
       "    }\n",
       "\n",
       "    .dataframe thead th {\n",
       "        text-align: right;\n",
       "    }\n",
       "</style>\n",
       "<table border=\"1\" class=\"dataframe\">\n",
       "  <thead>\n",
       "    <tr style=\"text-align: right;\">\n",
       "      <th></th>\n",
       "      <th>2020</th>\n",
       "      <th>2010</th>\n",
       "    </tr>\n",
       "  </thead>\n",
       "  <tbody>\n",
       "    <tr>\n",
       "      <th>서울</th>\n",
       "      <td>9668465</td>\n",
       "      <td>10312545</td>\n",
       "    </tr>\n",
       "  </tbody>\n",
       "</table>\n",
       "</div>"
      ],
      "text/plain": [
       "       2020      2010\n",
       "서울  9668465  10312545"
      ]
     },
     "execution_count": 38,
     "metadata": {},
     "output_type": "execute_result"
    }
   ],
   "source": [
    "# 데이터 프레임 슬라이싱\n",
    "# index 번호\n",
    "df[0:1]"
   ]
  },
  {
   "cell_type": "code",
   "execution_count": 39,
   "id": "d952f7ee",
   "metadata": {},
   "outputs": [
    {
     "data": {
      "text/html": [
       "<div>\n",
       "<style scoped>\n",
       "    .dataframe tbody tr th:only-of-type {\n",
       "        vertical-align: middle;\n",
       "    }\n",
       "\n",
       "    .dataframe tbody tr th {\n",
       "        vertical-align: top;\n",
       "    }\n",
       "\n",
       "    .dataframe thead th {\n",
       "        text-align: right;\n",
       "    }\n",
       "</style>\n",
       "<table border=\"1\" class=\"dataframe\">\n",
       "  <thead>\n",
       "    <tr style=\"text-align: right;\">\n",
       "      <th></th>\n",
       "      <th>2020</th>\n",
       "      <th>2010</th>\n",
       "    </tr>\n",
       "  </thead>\n",
       "  <tbody>\n",
       "    <tr>\n",
       "      <th>서울</th>\n",
       "      <td>9668465</td>\n",
       "      <td>10312545</td>\n",
       "    </tr>\n",
       "    <tr>\n",
       "      <th>부산</th>\n",
       "      <td>3391946</td>\n",
       "      <td>3567910</td>\n",
       "    </tr>\n",
       "  </tbody>\n",
       "</table>\n",
       "</div>"
      ],
      "text/plain": [
       "       2020      2010\n",
       "서울  9668465  10312545\n",
       "부산  3391946   3567910"
      ]
     },
     "execution_count": 39,
     "metadata": {},
     "output_type": "execute_result"
    }
   ],
   "source": [
    "# index 값(문자)\n",
    "# 문자를 직접적으로 기재해주면 끝 값 포함한다\n",
    "\n",
    "df['서울':'부산']"
   ]
  },
  {
   "cell_type": "code",
   "execution_count": 42,
   "id": "1d0ca820",
   "metadata": {},
   "outputs": [],
   "source": [
    "# 세로운 컬럼(열) 생성\n",
    "df['2005'] = [9762546, 3512547, 2517680, 2456016]"
   ]
  },
  {
   "cell_type": "code",
   "execution_count": null,
   "id": "af92a029",
   "metadata": {},
   "outputs": [],
   "source": [
    "# DataFrame 인덱서 --> loc[], iloc[]\n",
    "# loc[] : index의 값(문자)를 사용\n",
    "# iloc[] : index의 번호(정수)를 사용\n",
    "# df명, loc[행, 열]\n",
    "# 인덱서[행] : 해당 행의 모든 열을 출력, 해당 행 출력"
   ]
  },
  {
   "cell_type": "code",
   "execution_count": 44,
   "id": "e2266a6b",
   "metadata": {},
   "outputs": [
    {
     "data": {
      "text/html": [
       "<div>\n",
       "<style scoped>\n",
       "    .dataframe tbody tr th:only-of-type {\n",
       "        vertical-align: middle;\n",
       "    }\n",
       "\n",
       "    .dataframe tbody tr th {\n",
       "        vertical-align: top;\n",
       "    }\n",
       "\n",
       "    .dataframe thead th {\n",
       "        text-align: right;\n",
       "    }\n",
       "</style>\n",
       "<table border=\"1\" class=\"dataframe\">\n",
       "  <thead>\n",
       "    <tr style=\"text-align: right;\">\n",
       "      <th></th>\n",
       "      <th>2010</th>\n",
       "      <th>2005</th>\n",
       "    </tr>\n",
       "  </thead>\n",
       "  <tbody>\n",
       "    <tr>\n",
       "      <th>부산</th>\n",
       "      <td>3567910</td>\n",
       "      <td>3512547</td>\n",
       "    </tr>\n",
       "    <tr>\n",
       "      <th>인천</th>\n",
       "      <td>2758296</td>\n",
       "      <td>2517680</td>\n",
       "    </tr>\n",
       "  </tbody>\n",
       "</table>\n",
       "</div>"
      ],
      "text/plain": [
       "       2010     2005\n",
       "부산  3567910  3512547\n",
       "인천  2758296  2517680"
      ]
     },
     "execution_count": 44,
     "metadata": {},
     "output_type": "execute_result"
    }
   ],
   "source": [
    "df.loc['부산': '인천', '2010':'2005']"
   ]
  },
  {
   "cell_type": "code",
   "execution_count": 47,
   "id": "53098c86",
   "metadata": {},
   "outputs": [
    {
     "data": {
      "text/plain": [
       "서울    9762546\n",
       "부산    3512547\n",
       "인천    2517680\n",
       "광주    2456016\n",
       "Name: 2005, dtype: int64"
      ]
     },
     "execution_count": 47,
     "metadata": {},
     "output_type": "execute_result"
    }
   ],
   "source": [
    "df.loc[:, '2005']"
   ]
  },
  {
   "cell_type": "code",
   "execution_count": null,
   "id": "4688a890",
   "metadata": {},
   "outputs": [],
   "source": []
  },
  {
   "cell_type": "code",
   "execution_count": null,
   "id": "7a95dc41",
   "metadata": {},
   "outputs": [],
   "source": [
    "# iioc[] 인덱서 사용해서 데이터 가져오기\n",
    "df.iloc[1:3,:2]"
   ]
  },
  {
   "cell_type": "code",
   "execution_count": null,
   "id": "9bf25cb9",
   "metadata": {},
   "outputs": [],
   "source": [
    "# 데이터 프레임 불리언 인덱싱\n",
    "# 2010년 인구수가 250만 이상인 전체 데이터\n",
    "# 1. 2010 컬럼이의 데이터만 가져와서 비교하기"
   ]
  },
  {
   "cell_type": "code",
   "execution_count": 49,
   "id": "5fc1969a",
   "metadata": {},
   "outputs": [
    {
     "data": {
      "text/html": [
       "<div>\n",
       "<style scoped>\n",
       "    .dataframe tbody tr th:only-of-type {\n",
       "        vertical-align: middle;\n",
       "    }\n",
       "\n",
       "    .dataframe tbody tr th {\n",
       "        vertical-align: top;\n",
       "    }\n",
       "\n",
       "    .dataframe thead th {\n",
       "        text-align: right;\n",
       "    }\n",
       "</style>\n",
       "<table border=\"1\" class=\"dataframe\">\n",
       "  <thead>\n",
       "    <tr style=\"text-align: right;\">\n",
       "      <th></th>\n",
       "      <th>2020</th>\n",
       "      <th>2010</th>\n",
       "      <th>2005</th>\n",
       "    </tr>\n",
       "  </thead>\n",
       "  <tbody>\n",
       "    <tr>\n",
       "      <th>서울</th>\n",
       "      <td>9668465</td>\n",
       "      <td>10312545</td>\n",
       "      <td>9762546</td>\n",
       "    </tr>\n",
       "    <tr>\n",
       "      <th>부산</th>\n",
       "      <td>3391946</td>\n",
       "      <td>3567910</td>\n",
       "      <td>3512547</td>\n",
       "    </tr>\n",
       "    <tr>\n",
       "      <th>인천</th>\n",
       "      <td>2942828</td>\n",
       "      <td>2758296</td>\n",
       "      <td>2517680</td>\n",
       "    </tr>\n",
       "  </tbody>\n",
       "</table>\n",
       "</div>"
      ],
      "text/plain": [
       "       2020      2010     2005\n",
       "서울  9668465  10312545  9762546\n",
       "부산  3391946   3567910  3512547\n",
       "인천  2942828   2758296  2517680"
      ]
     },
     "execution_count": 49,
     "metadata": {},
     "output_type": "execute_result"
    }
   ],
   "source": [
    " df[df['2010'] >=  2500000]"
   ]
  },
  {
   "cell_type": "code",
   "execution_count": 50,
   "id": "811086e8",
   "metadata": {},
   "outputs": [
    {
     "data": {
      "text/html": [
       "<div>\n",
       "<style scoped>\n",
       "    .dataframe tbody tr th:only-of-type {\n",
       "        vertical-align: middle;\n",
       "    }\n",
       "\n",
       "    .dataframe tbody tr th {\n",
       "        vertical-align: top;\n",
       "    }\n",
       "\n",
       "    .dataframe thead th {\n",
       "        text-align: right;\n",
       "    }\n",
       "</style>\n",
       "<table border=\"1\" class=\"dataframe\">\n",
       "  <thead>\n",
       "    <tr style=\"text-align: right;\">\n",
       "      <th></th>\n",
       "      <th>2020</th>\n",
       "      <th>2010</th>\n",
       "      <th>2005</th>\n",
       "    </tr>\n",
       "  </thead>\n",
       "  <tbody>\n",
       "    <tr>\n",
       "      <th>서울</th>\n",
       "      <td>9668465</td>\n",
       "      <td>10312545</td>\n",
       "      <td>9762546</td>\n",
       "    </tr>\n",
       "    <tr>\n",
       "      <th>부산</th>\n",
       "      <td>3391946</td>\n",
       "      <td>3567910</td>\n",
       "      <td>3512547</td>\n",
       "    </tr>\n",
       "    <tr>\n",
       "      <th>인천</th>\n",
       "      <td>2942828</td>\n",
       "      <td>2758296</td>\n",
       "      <td>2517680</td>\n",
       "    </tr>\n",
       "    <tr>\n",
       "      <th>광주</th>\n",
       "      <td>1450062</td>\n",
       "      <td>1454636</td>\n",
       "      <td>2456016</td>\n",
       "    </tr>\n",
       "  </tbody>\n",
       "</table>\n",
       "</div>"
      ],
      "text/plain": [
       "       2020      2010     2005\n",
       "서울  9668465  10312545  9762546\n",
       "부산  3391946   3567910  3512547\n",
       "인천  2942828   2758296  2517680\n",
       "광주  1450062   1454636  2456016"
      ]
     },
     "execution_count": 50,
     "metadata": {},
     "output_type": "execute_result"
    }
   ],
   "source": [
    "df"
   ]
  },
  {
   "cell_type": "code",
   "execution_count": 52,
   "id": "9d2e7c40",
   "metadata": {},
   "outputs": [
    {
     "data": {
      "text/plain": [
       "서울    10312545\n",
       "부산     3567910\n",
       "인천     2758296\n",
       "Name: 2010, dtype: int64"
      ]
     },
     "execution_count": 52,
     "metadata": {},
     "output_type": "execute_result"
    }
   ],
   "source": [
    "df['2010'][df['2010']>=2500000]"
   ]
  },
  {
   "cell_type": "code",
   "execution_count": null,
   "id": "b8965efd",
   "metadata": {},
   "outputs": [],
   "source": []
  },
  {
   "cell_type": "code",
   "execution_count": null,
   "id": "53a67f6d",
   "metadata": {},
   "outputs": [],
   "source": []
  },
  {
   "cell_type": "code",
   "execution_count": 57,
   "id": "be96d22b",
   "metadata": {},
   "outputs": [
    {
     "data": {
      "text/html": [
       "<div>\n",
       "<style scoped>\n",
       "    .dataframe tbody tr th:only-of-type {\n",
       "        vertical-align: middle;\n",
       "    }\n",
       "\n",
       "    .dataframe tbody tr th {\n",
       "        vertical-align: top;\n",
       "    }\n",
       "\n",
       "    .dataframe thead th {\n",
       "        text-align: right;\n",
       "    }\n",
       "</style>\n",
       "<table border=\"1\" class=\"dataframe\">\n",
       "  <thead>\n",
       "    <tr style=\"text-align: right;\">\n",
       "      <th></th>\n",
       "      <th>지역</th>\n",
       "      <th>2020</th>\n",
       "      <th>2015</th>\n",
       "      <th>2010</th>\n",
       "      <th>2005</th>\n",
       "    </tr>\n",
       "    <tr>\n",
       "      <th>도시</th>\n",
       "      <th></th>\n",
       "      <th></th>\n",
       "      <th></th>\n",
       "      <th></th>\n",
       "      <th></th>\n",
       "    </tr>\n",
       "  </thead>\n",
       "  <tbody>\n",
       "    <tr>\n",
       "      <th>서울</th>\n",
       "      <td>수도권</td>\n",
       "      <td>9668465</td>\n",
       "      <td>10022181.0</td>\n",
       "      <td>10312545.0</td>\n",
       "      <td>10167344</td>\n",
       "    </tr>\n",
       "    <tr>\n",
       "      <th>부산</th>\n",
       "      <td>경상권</td>\n",
       "      <td>3391946</td>\n",
       "      <td>NaN</td>\n",
       "      <td>NaN</td>\n",
       "      <td>3628293</td>\n",
       "    </tr>\n",
       "    <tr>\n",
       "      <th>인천</th>\n",
       "      <td>수도권</td>\n",
       "      <td>2942828</td>\n",
       "      <td>2925815.0</td>\n",
       "      <td>NaN</td>\n",
       "      <td>2600495</td>\n",
       "    </tr>\n",
       "    <tr>\n",
       "      <th>광주</th>\n",
       "      <td>전라권</td>\n",
       "      <td>1450062</td>\n",
       "      <td>1474636.0</td>\n",
       "      <td>1454636.0</td>\n",
       "      <td>1401745</td>\n",
       "    </tr>\n",
       "    <tr>\n",
       "      <th>대구</th>\n",
       "      <td>경상권</td>\n",
       "      <td>2418436</td>\n",
       "      <td>2466052.0</td>\n",
       "      <td>2431774.0</td>\n",
       "      <td>2456016</td>\n",
       "    </tr>\n",
       "  </tbody>\n",
       "</table>\n",
       "</div>"
      ],
      "text/plain": [
       "     지역     2020        2015        2010      2005\n",
       "도시                                                \n",
       "서울  수도권  9668465  10022181.0  10312545.0  10167344\n",
       "부산  경상권  3391946         NaN         NaN   3628293\n",
       "인천  수도권  2942828   2925815.0         NaN   2600495\n",
       "광주  전라권  1450062   1474636.0   1454636.0   1401745\n",
       "대구  경상권  2418436   2466052.0   2431774.0   2456016"
      ]
     },
     "execution_count": 57,
     "metadata": {},
     "output_type": "execute_result"
    }
   ],
   "source": [
    "# read_csv(\"파일명.확장자\")\n",
    "# encoding = 'utf-8' --> 한글 인코딩 방식(EUC-KR 상위호환)\n",
    "population_number = pd.read_csv(\"population.csv\", encoding = 'utf-8', index_col ='도시')\n",
    "population_number"
   ]
  },
  {
   "cell_type": "code",
   "execution_count": 60,
   "id": "021c5f3a",
   "metadata": {},
   "outputs": [
    {
     "data": {
      "text/plain": [
       "10312545.0    1\n",
       "1454636.0     1\n",
       "2431774.0     1\n",
       "Name: 2010, dtype: int64"
      ]
     },
     "execution_count": 60,
     "metadata": {},
     "output_type": "execute_result"
    }
   ],
   "source": [
    "# 각각의 값이 나온 횟수를 세어주는 기능\n",
    "# 데이터이름.value_counts()\n",
    "# 2010컬럼(열) 값의 빈도수 보기\n",
    "# 결측치(NaN)은 세어주지 않는다!\n",
    "population_number['2010'].value_counts()"
   ]
  },
  {
   "cell_type": "code",
   "execution_count": null,
   "id": "de10b130",
   "metadata": {},
   "outputs": [],
   "source": [
    "# 정렬\n",
    "# sort_index() : 인덱스 값을 기준으로 정렬\n",
    "# sort_values() : 데이터(값)을 기준으로 정렬"
   ]
  },
  {
   "cell_type": "code",
   "execution_count": 62,
   "id": "4a316fbf",
   "metadata": {
    "scrolled": false
   },
   "outputs": [
    {
     "data": {
      "text/html": [
       "<div>\n",
       "<style scoped>\n",
       "    .dataframe tbody tr th:only-of-type {\n",
       "        vertical-align: middle;\n",
       "    }\n",
       "\n",
       "    .dataframe tbody tr th {\n",
       "        vertical-align: top;\n",
       "    }\n",
       "\n",
       "    .dataframe thead th {\n",
       "        text-align: right;\n",
       "    }\n",
       "</style>\n",
       "<table border=\"1\" class=\"dataframe\">\n",
       "  <thead>\n",
       "    <tr style=\"text-align: right;\">\n",
       "      <th></th>\n",
       "      <th>지역</th>\n",
       "      <th>2020</th>\n",
       "      <th>2015</th>\n",
       "      <th>2010</th>\n",
       "      <th>2005</th>\n",
       "    </tr>\n",
       "    <tr>\n",
       "      <th>도시</th>\n",
       "      <th></th>\n",
       "      <th></th>\n",
       "      <th></th>\n",
       "      <th></th>\n",
       "      <th></th>\n",
       "    </tr>\n",
       "  </thead>\n",
       "  <tbody>\n",
       "    <tr>\n",
       "      <th>인천</th>\n",
       "      <td>수도권</td>\n",
       "      <td>2942828</td>\n",
       "      <td>2925815.0</td>\n",
       "      <td>NaN</td>\n",
       "      <td>2600495</td>\n",
       "    </tr>\n",
       "    <tr>\n",
       "      <th>서울</th>\n",
       "      <td>수도권</td>\n",
       "      <td>9668465</td>\n",
       "      <td>10022181.0</td>\n",
       "      <td>10312545.0</td>\n",
       "      <td>10167344</td>\n",
       "    </tr>\n",
       "    <tr>\n",
       "      <th>부산</th>\n",
       "      <td>경상권</td>\n",
       "      <td>3391946</td>\n",
       "      <td>NaN</td>\n",
       "      <td>NaN</td>\n",
       "      <td>3628293</td>\n",
       "    </tr>\n",
       "    <tr>\n",
       "      <th>대구</th>\n",
       "      <td>경상권</td>\n",
       "      <td>2418436</td>\n",
       "      <td>2466052.0</td>\n",
       "      <td>2431774.0</td>\n",
       "      <td>2456016</td>\n",
       "    </tr>\n",
       "    <tr>\n",
       "      <th>광주</th>\n",
       "      <td>전라권</td>\n",
       "      <td>1450062</td>\n",
       "      <td>1474636.0</td>\n",
       "      <td>1454636.0</td>\n",
       "      <td>1401745</td>\n",
       "    </tr>\n",
       "  </tbody>\n",
       "</table>\n",
       "</div>"
      ],
      "text/plain": [
       "     지역     2020        2015        2010      2005\n",
       "도시                                                \n",
       "인천  수도권  2942828   2925815.0         NaN   2600495\n",
       "서울  수도권  9668465  10022181.0  10312545.0  10167344\n",
       "부산  경상권  3391946         NaN         NaN   3628293\n",
       "대구  경상권  2418436   2466052.0   2431774.0   2456016\n",
       "광주  전라권  1450062   1474636.0   1454636.0   1401745"
      ]
     },
     "execution_count": 62,
     "metadata": {},
     "output_type": "execute_result"
    }
   ],
   "source": [
    "# 기본 default 값은 오름차순(가나다, 1234, acending = True)\n",
    "# ascending = False --> 내림차순\n",
    "population_number.sort_index(ascending=False)"
   ]
  },
  {
   "cell_type": "code",
   "execution_count": 66,
   "id": "f2edd51f",
   "metadata": {},
   "outputs": [
    {
     "data": {
      "text/plain": [
       "도시\n",
       "광주     1454636.0\n",
       "대구     2431774.0\n",
       "서울    10312545.0\n",
       "부산           NaN\n",
       "인천           NaN\n",
       "Name: 2010, dtype: float64"
      ]
     },
     "execution_count": 66,
     "metadata": {},
     "output_type": "execute_result"
    }
   ],
   "source": [
    "# 데이터 값을 기준으로 정렬(오름차순)\n",
    "# population_number['2010'].sort_values(ascending=False) --> 내림차순\n",
    "population_number['2010'].sort_values()"
   ]
  },
  {
   "cell_type": "code",
   "execution_count": 67,
   "id": "1b0a8cc2",
   "metadata": {},
   "outputs": [
    {
     "data": {
      "text/html": [
       "<div>\n",
       "<style scoped>\n",
       "    .dataframe tbody tr th:only-of-type {\n",
       "        vertical-align: middle;\n",
       "    }\n",
       "\n",
       "    .dataframe tbody tr th {\n",
       "        vertical-align: top;\n",
       "    }\n",
       "\n",
       "    .dataframe thead th {\n",
       "        text-align: right;\n",
       "    }\n",
       "</style>\n",
       "<table border=\"1\" class=\"dataframe\">\n",
       "  <thead>\n",
       "    <tr style=\"text-align: right;\">\n",
       "      <th></th>\n",
       "      <th>지역</th>\n",
       "      <th>2020</th>\n",
       "      <th>2015</th>\n",
       "      <th>2010</th>\n",
       "      <th>2005</th>\n",
       "    </tr>\n",
       "    <tr>\n",
       "      <th>도시</th>\n",
       "      <th></th>\n",
       "      <th></th>\n",
       "      <th></th>\n",
       "      <th></th>\n",
       "      <th></th>\n",
       "    </tr>\n",
       "  </thead>\n",
       "  <tbody>\n",
       "    <tr>\n",
       "      <th>광주</th>\n",
       "      <td>전라권</td>\n",
       "      <td>1450062</td>\n",
       "      <td>1474636.0</td>\n",
       "      <td>1454636.0</td>\n",
       "      <td>1401745</td>\n",
       "    </tr>\n",
       "    <tr>\n",
       "      <th>대구</th>\n",
       "      <td>경상권</td>\n",
       "      <td>2418436</td>\n",
       "      <td>2466052.0</td>\n",
       "      <td>2431774.0</td>\n",
       "      <td>2456016</td>\n",
       "    </tr>\n",
       "    <tr>\n",
       "      <th>서울</th>\n",
       "      <td>수도권</td>\n",
       "      <td>9668465</td>\n",
       "      <td>10022181.0</td>\n",
       "      <td>10312545.0</td>\n",
       "      <td>10167344</td>\n",
       "    </tr>\n",
       "    <tr>\n",
       "      <th>부산</th>\n",
       "      <td>경상권</td>\n",
       "      <td>3391946</td>\n",
       "      <td>NaN</td>\n",
       "      <td>NaN</td>\n",
       "      <td>3628293</td>\n",
       "    </tr>\n",
       "    <tr>\n",
       "      <th>인천</th>\n",
       "      <td>수도권</td>\n",
       "      <td>2942828</td>\n",
       "      <td>2925815.0</td>\n",
       "      <td>NaN</td>\n",
       "      <td>2600495</td>\n",
       "    </tr>\n",
       "  </tbody>\n",
       "</table>\n",
       "</div>"
      ],
      "text/plain": [
       "     지역     2020        2015        2010      2005\n",
       "도시                                                \n",
       "광주  전라권  1450062   1474636.0   1454636.0   1401745\n",
       "대구  경상권  2418436   2466052.0   2431774.0   2456016\n",
       "서울  수도권  9668465  10022181.0  10312545.0  10167344\n",
       "부산  경상권  3391946         NaN         NaN   3628293\n",
       "인천  수도권  2942828   2925815.0         NaN   2600495"
      ]
     },
     "execution_count": 67,
     "metadata": {},
     "output_type": "execute_result"
    }
   ],
   "source": [
    "# 컬럼을 기준으로 정렬 (by 속성)\n",
    "population_number.sort_values(by='2010')"
   ]
  },
  {
   "cell_type": "code",
   "execution_count": 68,
   "id": "835b5605",
   "metadata": {},
   "outputs": [
    {
     "data": {
      "text/html": [
       "<div>\n",
       "<style scoped>\n",
       "    .dataframe tbody tr th:only-of-type {\n",
       "        vertical-align: middle;\n",
       "    }\n",
       "\n",
       "    .dataframe tbody tr th {\n",
       "        vertical-align: top;\n",
       "    }\n",
       "\n",
       "    .dataframe thead th {\n",
       "        text-align: right;\n",
       "    }\n",
       "</style>\n",
       "<table border=\"1\" class=\"dataframe\">\n",
       "  <thead>\n",
       "    <tr style=\"text-align: right;\">\n",
       "      <th></th>\n",
       "      <th>지역</th>\n",
       "      <th>2020</th>\n",
       "      <th>2015</th>\n",
       "      <th>2010</th>\n",
       "      <th>2005</th>\n",
       "    </tr>\n",
       "    <tr>\n",
       "      <th>도시</th>\n",
       "      <th></th>\n",
       "      <th></th>\n",
       "      <th></th>\n",
       "      <th></th>\n",
       "      <th></th>\n",
       "    </tr>\n",
       "  </thead>\n",
       "  <tbody>\n",
       "    <tr>\n",
       "      <th>대구</th>\n",
       "      <td>경상권</td>\n",
       "      <td>2418436</td>\n",
       "      <td>2466052.0</td>\n",
       "      <td>2431774.0</td>\n",
       "      <td>2456016</td>\n",
       "    </tr>\n",
       "    <tr>\n",
       "      <th>부산</th>\n",
       "      <td>경상권</td>\n",
       "      <td>3391946</td>\n",
       "      <td>NaN</td>\n",
       "      <td>NaN</td>\n",
       "      <td>3628293</td>\n",
       "    </tr>\n",
       "    <tr>\n",
       "      <th>서울</th>\n",
       "      <td>수도권</td>\n",
       "      <td>9668465</td>\n",
       "      <td>10022181.0</td>\n",
       "      <td>10312545.0</td>\n",
       "      <td>10167344</td>\n",
       "    </tr>\n",
       "    <tr>\n",
       "      <th>인천</th>\n",
       "      <td>수도권</td>\n",
       "      <td>2942828</td>\n",
       "      <td>2925815.0</td>\n",
       "      <td>NaN</td>\n",
       "      <td>2600495</td>\n",
       "    </tr>\n",
       "    <tr>\n",
       "      <th>광주</th>\n",
       "      <td>전라권</td>\n",
       "      <td>1450062</td>\n",
       "      <td>1474636.0</td>\n",
       "      <td>1454636.0</td>\n",
       "      <td>1401745</td>\n",
       "    </tr>\n",
       "  </tbody>\n",
       "</table>\n",
       "</div>"
      ],
      "text/plain": [
       "     지역     2020        2015        2010      2005\n",
       "도시                                                \n",
       "대구  경상권  2418436   2466052.0   2431774.0   2456016\n",
       "부산  경상권  3391946         NaN         NaN   3628293\n",
       "서울  수도권  9668465  10022181.0  10312545.0  10167344\n",
       "인천  수도권  2942828   2925815.0         NaN   2600495\n",
       "광주  전라권  1450062   1474636.0   1454636.0   1401745"
      ]
     },
     "execution_count": 68,
     "metadata": {},
     "output_type": "execute_result"
    }
   ],
   "source": [
    "# 여러 컬럼(열)을  통해 정렬하는 방법\n",
    "population_number.sort_values(by=['지역','2010']) # 정렬 후, 다시 정렬"
   ]
  },
  {
   "cell_type": "code",
   "execution_count": null,
   "id": "a53c45f3",
   "metadata": {},
   "outputs": [],
   "source": []
  },
  {
   "cell_type": "markdown",
   "id": "0b1b01f5",
   "metadata": {},
   "source": [
    "### score 데이터 실습"
   ]
  },
  {
   "cell_type": "code",
   "execution_count": 72,
   "id": "0b68b901",
   "metadata": {},
   "outputs": [
    {
     "data": {
      "text/html": [
       "<div>\n",
       "<style scoped>\n",
       "    .dataframe tbody tr th:only-of-type {\n",
       "        vertical-align: middle;\n",
       "    }\n",
       "\n",
       "    .dataframe tbody tr th {\n",
       "        vertical-align: top;\n",
       "    }\n",
       "\n",
       "    .dataframe thead th {\n",
       "        text-align: right;\n",
       "    }\n",
       "</style>\n",
       "<table border=\"1\" class=\"dataframe\">\n",
       "  <thead>\n",
       "    <tr style=\"text-align: right;\">\n",
       "      <th></th>\n",
       "      <th>1반</th>\n",
       "      <th>2반</th>\n",
       "      <th>3반</th>\n",
       "      <th>4반</th>\n",
       "    </tr>\n",
       "    <tr>\n",
       "      <th>과목</th>\n",
       "      <th></th>\n",
       "      <th></th>\n",
       "      <th></th>\n",
       "      <th></th>\n",
       "    </tr>\n",
       "  </thead>\n",
       "  <tbody>\n",
       "    <tr>\n",
       "      <th>파이썬</th>\n",
       "      <td>45</td>\n",
       "      <td>44</td>\n",
       "      <td>73</td>\n",
       "      <td>39</td>\n",
       "    </tr>\n",
       "    <tr>\n",
       "      <th>DB</th>\n",
       "      <td>76</td>\n",
       "      <td>92</td>\n",
       "      <td>45</td>\n",
       "      <td>69</td>\n",
       "    </tr>\n",
       "    <tr>\n",
       "      <th>자바</th>\n",
       "      <td>47</td>\n",
       "      <td>92</td>\n",
       "      <td>45</td>\n",
       "      <td>69</td>\n",
       "    </tr>\n",
       "    <tr>\n",
       "      <th>크롤링</th>\n",
       "      <td>92</td>\n",
       "      <td>81</td>\n",
       "      <td>85</td>\n",
       "      <td>40</td>\n",
       "    </tr>\n",
       "    <tr>\n",
       "      <th>Web</th>\n",
       "      <td>11</td>\n",
       "      <td>79</td>\n",
       "      <td>47</td>\n",
       "      <td>26</td>\n",
       "    </tr>\n",
       "  </tbody>\n",
       "</table>\n",
       "</div>"
      ],
      "text/plain": [
       "     1반  2반  3반  4반\n",
       "과목                 \n",
       "파이썬  45  44  73  39\n",
       "DB   76  92  45  69\n",
       "자바   47  92  45  69\n",
       "크롤링  92  81  85  40\n",
       "Web  11  79  47  26"
      ]
     },
     "execution_count": 72,
     "metadata": {},
     "output_type": "execute_result"
    }
   ],
   "source": [
    "# score 데이터 불러오기\n",
    "# cp949 : utf-8보다 더 상위호환 인코딩 방법\n",
    "score = pd.read_csv(\"score.csv\", encoding='cp949', index_col='과목')\n",
    "score"
   ]
  },
  {
   "cell_type": "code",
   "execution_count": 75,
   "id": "7e9cbba3",
   "metadata": {},
   "outputs": [
    {
     "data": {
      "text/plain": [
       "1반    271\n",
       "2반    388\n",
       "3반    295\n",
       "4반    243\n",
       "dtype: int64"
      ]
     },
     "execution_count": 75,
     "metadata": {},
     "output_type": "execute_result"
    }
   ],
   "source": [
    "# 세로 방향의 데이터 총 합\n",
    "# .sum() --> 디폴트 값 exis = 0\n",
    "# axis --> 축(방향)\n",
    "score.sum(axis = 0) "
   ]
  },
  {
   "cell_type": "code",
   "execution_count": 76,
   "id": "e6e559d2",
   "metadata": {},
   "outputs": [
    {
     "data": {
      "text/plain": [
       "과목\n",
       "파이썬    201\n",
       "DB     282\n",
       "자바     253\n",
       "크롤링    298\n",
       "Web    163\n",
       "dtype: int64"
      ]
     },
     "execution_count": 76,
     "metadata": {},
     "output_type": "execute_result"
    }
   ],
   "source": [
    "# .sum(axis=1) : 가로방향 데이터 총합\n",
    "score.sum(axis = 1) "
   ]
  },
  {
   "cell_type": "code",
   "execution_count": null,
   "id": "1cf3818d",
   "metadata": {},
   "outputs": [],
   "source": [
    "# 과목별 총합 데이터 df에 추가 -> 합계 컬럼(열) 생성"
   ]
  },
  {
   "cell_type": "code",
   "execution_count": 91,
   "id": "690310d1",
   "metadata": {},
   "outputs": [
    {
     "data": {
      "text/html": [
       "<div>\n",
       "<style scoped>\n",
       "    .dataframe tbody tr th:only-of-type {\n",
       "        vertical-align: middle;\n",
       "    }\n",
       "\n",
       "    .dataframe tbody tr th {\n",
       "        vertical-align: top;\n",
       "    }\n",
       "\n",
       "    .dataframe thead th {\n",
       "        text-align: right;\n",
       "    }\n",
       "</style>\n",
       "<table border=\"1\" class=\"dataframe\">\n",
       "  <thead>\n",
       "    <tr style=\"text-align: right;\">\n",
       "      <th></th>\n",
       "      <th>1반</th>\n",
       "      <th>2반</th>\n",
       "      <th>3반</th>\n",
       "      <th>4반</th>\n",
       "      <th>합계</th>\n",
       "    </tr>\n",
       "    <tr>\n",
       "      <th>과목</th>\n",
       "      <th></th>\n",
       "      <th></th>\n",
       "      <th></th>\n",
       "      <th></th>\n",
       "      <th></th>\n",
       "    </tr>\n",
       "  </thead>\n",
       "  <tbody>\n",
       "    <tr>\n",
       "      <th>파이썬</th>\n",
       "      <td>45</td>\n",
       "      <td>44</td>\n",
       "      <td>73</td>\n",
       "      <td>39</td>\n",
       "      <td>1206</td>\n",
       "    </tr>\n",
       "    <tr>\n",
       "      <th>DB</th>\n",
       "      <td>76</td>\n",
       "      <td>92</td>\n",
       "      <td>45</td>\n",
       "      <td>69</td>\n",
       "      <td>1692</td>\n",
       "    </tr>\n",
       "    <tr>\n",
       "      <th>자바</th>\n",
       "      <td>47</td>\n",
       "      <td>92</td>\n",
       "      <td>45</td>\n",
       "      <td>69</td>\n",
       "      <td>1518</td>\n",
       "    </tr>\n",
       "    <tr>\n",
       "      <th>크롤링</th>\n",
       "      <td>92</td>\n",
       "      <td>81</td>\n",
       "      <td>85</td>\n",
       "      <td>40</td>\n",
       "      <td>1788</td>\n",
       "    </tr>\n",
       "    <tr>\n",
       "      <th>Web</th>\n",
       "      <td>11</td>\n",
       "      <td>79</td>\n",
       "      <td>47</td>\n",
       "      <td>26</td>\n",
       "      <td>978</td>\n",
       "    </tr>\n",
       "  </tbody>\n",
       "</table>\n",
       "</div>"
      ],
      "text/plain": [
       "     1반  2반  3반  4반    합계\n",
       "과목                       \n",
       "파이썬  45  44  73  39  1206\n",
       "DB   76  92  45  69  1692\n",
       "자바   47  92  45  69  1518\n",
       "크롤링  92  81  85  40  1788\n",
       "Web  11  79  47  26   978"
      ]
     },
     "execution_count": 91,
     "metadata": {},
     "output_type": "execute_result"
    }
   ],
   "source": [
    "score['합계'] = score.sum(axis = 1)\n",
    "# 합계 값이 계속 갱신됨...\n",
    "score"
   ]
  },
  {
   "cell_type": "code",
   "execution_count": 95,
   "id": "2dfdab08",
   "metadata": {
    "scrolled": true
   },
   "outputs": [
    {
     "data": {
      "text/html": [
       "<div>\n",
       "<style scoped>\n",
       "    .dataframe tbody tr th:only-of-type {\n",
       "        vertical-align: middle;\n",
       "    }\n",
       "\n",
       "    .dataframe tbody tr th {\n",
       "        vertical-align: top;\n",
       "    }\n",
       "\n",
       "    .dataframe thead th {\n",
       "        text-align: right;\n",
       "    }\n",
       "</style>\n",
       "<table border=\"1\" class=\"dataframe\">\n",
       "  <thead>\n",
       "    <tr style=\"text-align: right;\">\n",
       "      <th></th>\n",
       "      <th>1반</th>\n",
       "      <th>2반</th>\n",
       "      <th>3반</th>\n",
       "      <th>4반</th>\n",
       "      <th>합계</th>\n",
       "    </tr>\n",
       "    <tr>\n",
       "      <th>과목</th>\n",
       "      <th></th>\n",
       "      <th></th>\n",
       "      <th></th>\n",
       "      <th></th>\n",
       "      <th></th>\n",
       "    </tr>\n",
       "  </thead>\n",
       "  <tbody>\n",
       "    <tr>\n",
       "      <th>파이썬</th>\n",
       "      <td>45</td>\n",
       "      <td>44</td>\n",
       "      <td>73</td>\n",
       "      <td>39</td>\n",
       "      <td>201</td>\n",
       "    </tr>\n",
       "    <tr>\n",
       "      <th>DB</th>\n",
       "      <td>76</td>\n",
       "      <td>92</td>\n",
       "      <td>45</td>\n",
       "      <td>69</td>\n",
       "      <td>282</td>\n",
       "    </tr>\n",
       "    <tr>\n",
       "      <th>자바</th>\n",
       "      <td>47</td>\n",
       "      <td>92</td>\n",
       "      <td>45</td>\n",
       "      <td>69</td>\n",
       "      <td>253</td>\n",
       "    </tr>\n",
       "    <tr>\n",
       "      <th>크롤링</th>\n",
       "      <td>92</td>\n",
       "      <td>81</td>\n",
       "      <td>85</td>\n",
       "      <td>40</td>\n",
       "      <td>298</td>\n",
       "    </tr>\n",
       "    <tr>\n",
       "      <th>Web</th>\n",
       "      <td>11</td>\n",
       "      <td>79</td>\n",
       "      <td>47</td>\n",
       "      <td>26</td>\n",
       "      <td>163</td>\n",
       "    </tr>\n",
       "  </tbody>\n",
       "</table>\n",
       "</div>"
      ],
      "text/plain": [
       "     1반  2반  3반  4반   합계\n",
       "과목                      \n",
       "파이썬  45  44  73  39  201\n",
       "DB   76  92  45  69  282\n",
       "자바   47  92  45  69  253\n",
       "크롤링  92  81  85  40  298\n",
       "Web  11  79  47  26  163"
      ]
     },
     "execution_count": 95,
     "metadata": {},
     "output_type": "execute_result"
    }
   ],
   "source": [
    "# 합계 중첩되지 않음! 해당 범위를 직접 지정해줬기 때문에\n",
    "score['합계'] = score.iloc[:,0:4].sum(axis = 1)\n",
    "score"
   ]
  },
  {
   "cell_type": "code",
   "execution_count": 99,
   "id": "5666238b",
   "metadata": {},
   "outputs": [
    {
     "data": {
      "text/html": [
       "<div>\n",
       "<style scoped>\n",
       "    .dataframe tbody tr th:only-of-type {\n",
       "        vertical-align: middle;\n",
       "    }\n",
       "\n",
       "    .dataframe tbody tr th {\n",
       "        vertical-align: top;\n",
       "    }\n",
       "\n",
       "    .dataframe thead th {\n",
       "        text-align: right;\n",
       "    }\n",
       "</style>\n",
       "<table border=\"1\" class=\"dataframe\">\n",
       "  <thead>\n",
       "    <tr style=\"text-align: right;\">\n",
       "      <th></th>\n",
       "      <th>1반</th>\n",
       "      <th>2반</th>\n",
       "      <th>3반</th>\n",
       "      <th>4반</th>\n",
       "      <th>합계</th>\n",
       "      <th>평균</th>\n",
       "    </tr>\n",
       "    <tr>\n",
       "      <th>과목</th>\n",
       "      <th></th>\n",
       "      <th></th>\n",
       "      <th></th>\n",
       "      <th></th>\n",
       "      <th></th>\n",
       "      <th></th>\n",
       "    </tr>\n",
       "  </thead>\n",
       "  <tbody>\n",
       "    <tr>\n",
       "      <th>파이썬</th>\n",
       "      <td>45</td>\n",
       "      <td>44</td>\n",
       "      <td>73</td>\n",
       "      <td>39</td>\n",
       "      <td>201</td>\n",
       "      <td>50.25</td>\n",
       "    </tr>\n",
       "    <tr>\n",
       "      <th>DB</th>\n",
       "      <td>76</td>\n",
       "      <td>92</td>\n",
       "      <td>45</td>\n",
       "      <td>69</td>\n",
       "      <td>282</td>\n",
       "      <td>70.50</td>\n",
       "    </tr>\n",
       "    <tr>\n",
       "      <th>자바</th>\n",
       "      <td>47</td>\n",
       "      <td>92</td>\n",
       "      <td>45</td>\n",
       "      <td>69</td>\n",
       "      <td>253</td>\n",
       "      <td>63.25</td>\n",
       "    </tr>\n",
       "    <tr>\n",
       "      <th>크롤링</th>\n",
       "      <td>92</td>\n",
       "      <td>81</td>\n",
       "      <td>85</td>\n",
       "      <td>40</td>\n",
       "      <td>298</td>\n",
       "      <td>74.50</td>\n",
       "    </tr>\n",
       "    <tr>\n",
       "      <th>Web</th>\n",
       "      <td>11</td>\n",
       "      <td>79</td>\n",
       "      <td>47</td>\n",
       "      <td>26</td>\n",
       "      <td>163</td>\n",
       "      <td>40.75</td>\n",
       "    </tr>\n",
       "  </tbody>\n",
       "</table>\n",
       "</div>"
      ],
      "text/plain": [
       "     1반  2반  3반  4반   합계     평균\n",
       "과목                             \n",
       "파이썬  45  44  73  39  201  50.25\n",
       "DB   76  92  45  69  282  70.50\n",
       "자바   47  92  45  69  253  63.25\n",
       "크롤링  92  81  85  40  298  74.50\n",
       "Web  11  79  47  26  163  40.75"
      ]
     },
     "execution_count": 99,
     "metadata": {},
     "output_type": "execute_result"
    }
   ],
   "source": [
    "score['평균'] = score.loc[:,'1반':'4반'].mean(axis = 1)\n",
    "score"
   ]
  },
  {
   "cell_type": "code",
   "execution_count": 100,
   "id": "040bb829",
   "metadata": {},
   "outputs": [
    {
     "data": {
      "text/html": [
       "<div>\n",
       "<style scoped>\n",
       "    .dataframe tbody tr th:only-of-type {\n",
       "        vertical-align: middle;\n",
       "    }\n",
       "\n",
       "    .dataframe tbody tr th {\n",
       "        vertical-align: top;\n",
       "    }\n",
       "\n",
       "    .dataframe thead th {\n",
       "        text-align: right;\n",
       "    }\n",
       "</style>\n",
       "<table border=\"1\" class=\"dataframe\">\n",
       "  <thead>\n",
       "    <tr style=\"text-align: right;\">\n",
       "      <th></th>\n",
       "      <th>1반</th>\n",
       "      <th>2반</th>\n",
       "      <th>3반</th>\n",
       "      <th>4반</th>\n",
       "      <th>평균</th>\n",
       "    </tr>\n",
       "    <tr>\n",
       "      <th>과목</th>\n",
       "      <th></th>\n",
       "      <th></th>\n",
       "      <th></th>\n",
       "      <th></th>\n",
       "      <th></th>\n",
       "    </tr>\n",
       "  </thead>\n",
       "  <tbody>\n",
       "    <tr>\n",
       "      <th>파이썬</th>\n",
       "      <td>45</td>\n",
       "      <td>44</td>\n",
       "      <td>73</td>\n",
       "      <td>39</td>\n",
       "      <td>50.25</td>\n",
       "    </tr>\n",
       "    <tr>\n",
       "      <th>DB</th>\n",
       "      <td>76</td>\n",
       "      <td>92</td>\n",
       "      <td>45</td>\n",
       "      <td>69</td>\n",
       "      <td>70.50</td>\n",
       "    </tr>\n",
       "    <tr>\n",
       "      <th>자바</th>\n",
       "      <td>47</td>\n",
       "      <td>92</td>\n",
       "      <td>45</td>\n",
       "      <td>69</td>\n",
       "      <td>63.25</td>\n",
       "    </tr>\n",
       "    <tr>\n",
       "      <th>크롤링</th>\n",
       "      <td>92</td>\n",
       "      <td>81</td>\n",
       "      <td>85</td>\n",
       "      <td>40</td>\n",
       "      <td>74.50</td>\n",
       "    </tr>\n",
       "    <tr>\n",
       "      <th>Web</th>\n",
       "      <td>11</td>\n",
       "      <td>79</td>\n",
       "      <td>47</td>\n",
       "      <td>26</td>\n",
       "      <td>40.75</td>\n",
       "    </tr>\n",
       "  </tbody>\n",
       "</table>\n",
       "</div>"
      ],
      "text/plain": [
       "     1반  2반  3반  4반     평균\n",
       "과목                        \n",
       "파이썬  45  44  73  39  50.25\n",
       "DB   76  92  45  69  70.50\n",
       "자바   47  92  45  69  63.25\n",
       "크롤링  92  81  85  40  74.50\n",
       "Web  11  79  47  26  40.75"
      ]
     },
     "execution_count": 100,
     "metadata": {},
     "output_type": "execute_result"
    }
   ],
   "source": [
    "# 컬럼 지우는 방법\n",
    "# .drop('컬럼(열)이름', axis=1)\n",
    "\n",
    "# 결괏값만 출력해줌(적용이 안된 상태)\n",
    "score.drop('합계', axis = 'columns')"
   ]
  },
  {
   "cell_type": "code",
   "execution_count": 102,
   "id": "f8cce6b2",
   "metadata": {},
   "outputs": [],
   "source": [
    "# 갱신하고 싶을 때 원래 데이터에 덮어 씌워주기\n",
    "score = score.drop('합계', axis = 'columns')"
   ]
  },
  {
   "cell_type": "code",
   "execution_count": 104,
   "id": "ee898b3f",
   "metadata": {},
   "outputs": [
    {
     "data": {
      "text/plain": [
       "과목\n",
       "파이썬    73.0\n",
       "DB     92.0\n",
       "자바     92.0\n",
       "크롤링    92.0\n",
       "Web    79.0\n",
       "dtype: float64"
      ]
     },
     "execution_count": 104,
     "metadata": {},
     "output_type": "execute_result"
    }
   ],
   "source": [
    "# 최댓값 구하는 함수\n",
    "# .max(axis=0 기본 값(행 방향))\n",
    "score.max(axis=1)"
   ]
  },
  {
   "cell_type": "code",
   "execution_count": 105,
   "id": "6d91435a",
   "metadata": {},
   "outputs": [
    {
     "data": {
      "text/plain": [
       "1반    11.00\n",
       "2반    44.00\n",
       "3반    45.00\n",
       "4반    26.00\n",
       "평균    40.75\n",
       "dtype: float64"
      ]
     },
     "execution_count": 105,
     "metadata": {},
     "output_type": "execute_result"
    }
   ],
   "source": [
    "# 최솟값 구하는 함수\n",
    "# .min(axis=0 기본 값(행 방향))\n",
    "score.min()"
   ]
  },
  {
   "cell_type": "code",
   "execution_count": 117,
   "id": "903a07d7",
   "metadata": {
    "collapsed": true
   },
   "outputs": [
    {
     "data": {
      "text/plain": [
       "과목\n",
       "파이썬    73\n",
       "DB     92\n",
       "자바     92\n",
       "크롤링    92\n",
       "Web    79\n",
       "dtype: int64"
      ]
     },
     "execution_count": 117,
     "metadata": {},
     "output_type": "execute_result"
    }
   ],
   "source": [
    "# 과목별의 최댓값만 구하기\n",
    "# loc, iloc --> [행,열]\n",
    "score.loc[:'Web',:'4반'].max(axis=1)"
   ]
  },
  {
   "cell_type": "code",
   "execution_count": 118,
   "id": "095024b6",
   "metadata": {
    "collapsed": true
   },
   "outputs": [
    {
     "data": {
      "text/plain": [
       "과목\n",
       "파이썬    39\n",
       "DB     45\n",
       "자바     45\n",
       "크롤링    40\n",
       "Web    11\n",
       "dtype: int64"
      ]
     },
     "execution_count": 118,
     "metadata": {},
     "output_type": "execute_result"
    }
   ],
   "source": [
    "# 과목별의 최솟값만 구하기\n",
    "score.loc[:'Web', :'4반'].min(axis=1)"
   ]
  },
  {
   "cell_type": "code",
   "execution_count": 119,
   "id": "5fde4ce6",
   "metadata": {},
   "outputs": [],
   "source": [
    "# 과목별 최댓값과 최솟값의 차이\n",
    "maxArr = score.loc[:'Web',:'4반'].max(axis=1)\n",
    "minArr = score.loc[:'Web', :'4반'].min(axis=1)"
   ]
  },
  {
   "cell_type": "code",
   "execution_count": 120,
   "id": "80b7f651",
   "metadata": {
    "scrolled": true
   },
   "outputs": [
    {
     "data": {
      "text/plain": [
       "과목\n",
       "파이썬    34\n",
       "DB     47\n",
       "자바     47\n",
       "크롤링    52\n",
       "Web    68\n",
       "dtype: int64"
      ]
     },
     "execution_count": 120,
     "metadata": {},
     "output_type": "execute_result"
    }
   ],
   "source": [
    "maxArr-minArr"
   ]
  },
  {
   "cell_type": "code",
   "execution_count": null,
   "id": "944bd611",
   "metadata": {},
   "outputs": [],
   "source": []
  },
  {
   "cell_type": "markdown",
   "id": "0cec02ba",
   "metadata": {},
   "source": [
    "### apply() 함수\n",
    "- 행이나 열 단위로 더 복잡한 처리를 할 때 사용\n",
    "- pandas 객체 함수를 적용하는 방법"
   ]
  },
  {
   "cell_type": "code",
   "execution_count": 121,
   "id": "99c0247f",
   "metadata": {},
   "outputs": [],
   "source": [
    "# 과목별 최댓값과 최솟값의 차이를 구해주는 함수 만들기\n",
    "def max_min(x): \n",
    "    return x.max() - x.min()"
   ]
  },
  {
   "cell_type": "code",
   "execution_count": 123,
   "id": "bf1ea847",
   "metadata": {},
   "outputs": [
    {
     "data": {
      "text/plain": [
       "과목\n",
       "파이썬    34\n",
       "DB     47\n",
       "자바     47\n",
       "크롤링    52\n",
       "Web    68\n",
       "dtype: int64"
      ]
     },
     "execution_count": 123,
     "metadata": {},
     "output_type": "execute_result"
    }
   ],
   "source": [
    "# apply 변환\n",
    "# .apply(불러올 함수명, 처리할 기준점(축 axis))\n",
    "score.loc[:'Web',:'4반'].apply(max_min, axis=1)"
   ]
  },
  {
   "cell_type": "code",
   "execution_count": null,
   "id": "754ec22a",
   "metadata": {},
   "outputs": [],
   "source": []
  },
  {
   "cell_type": "markdown",
   "id": "22da46d9",
   "metadata": {},
   "source": [
    "### 카테고리 생성하기"
   ]
  },
  {
   "cell_type": "code",
   "execution_count": 128,
   "id": "572afa98",
   "metadata": {},
   "outputs": [],
   "source": [
    "#데이터\n",
    "ages = [0,2,10,21,23,38,31,61,20,45,65,12,38,\n",
    "        99,3,51,51,31,100,20,21,46,55]\n",
    "# 구간\n",
    "#초과 ~ 이하\n",
    "# 1~15 16~25 26~35 36~60 61~99\n",
    "bins = [0,15,25,35,60,99]\n",
    "# 이름\n",
    "label = ['미성년자' , '청년' , '중년' , '장년' , '노년']"
   ]
  },
  {
   "cell_type": "code",
   "execution_count": 130,
   "id": "2c0b1b02",
   "metadata": {},
   "outputs": [],
   "source": [
    "# .cut() : 카테고리화 시켜주는 함수(판다스가 제공)\n",
    "# cut(값, 지정할 범위, labels = 범위에 대한 라벨)\n",
    "cats = pd.cut(ages, bins, labels=label)"
   ]
  },
  {
   "cell_type": "code",
   "execution_count": 131,
   "id": "42501900",
   "metadata": {},
   "outputs": [
    {
     "data": {
      "text/plain": [
       "미성년자    4\n",
       "청년      5\n",
       "중년      2\n",
       "장년      7\n",
       "노년      3\n",
       "dtype: int64"
      ]
     },
     "execution_count": 131,
     "metadata": {},
     "output_type": "execute_result"
    }
   ],
   "source": [
    "# 각 항목(값)별 개수 확인\n",
    "cats.value_counts()"
   ]
  },
  {
   "cell_type": "code",
   "execution_count": 134,
   "id": "d250201e",
   "metadata": {},
   "outputs": [
    {
     "data": {
      "text/plain": [
       "23"
      ]
     },
     "execution_count": 134,
     "metadata": {},
     "output_type": "execute_result"
    }
   ],
   "source": [
    "# 데이터의 길이를 알려주는 함수 -> len()\n",
    "len(ages)"
   ]
  },
  {
   "cell_type": "code",
   "execution_count": 135,
   "id": "d1f3e789",
   "metadata": {},
   "outputs": [],
   "source": [
    "# 데이터 프레임으로 만들어 보자!\n",
    "age = pd.DataFrame(ages, columns=['나이'])"
   ]
  },
  {
   "cell_type": "code",
   "execution_count": 138,
   "id": "660be306",
   "metadata": {
    "collapsed": true
   },
   "outputs": [
    {
     "data": {
      "text/html": [
       "<div>\n",
       "<style scoped>\n",
       "    .dataframe tbody tr th:only-of-type {\n",
       "        vertical-align: middle;\n",
       "    }\n",
       "\n",
       "    .dataframe tbody tr th {\n",
       "        vertical-align: top;\n",
       "    }\n",
       "\n",
       "    .dataframe thead th {\n",
       "        text-align: right;\n",
       "    }\n",
       "</style>\n",
       "<table border=\"1\" class=\"dataframe\">\n",
       "  <thead>\n",
       "    <tr style=\"text-align: right;\">\n",
       "      <th></th>\n",
       "      <th>나이</th>\n",
       "      <th>연령대</th>\n",
       "    </tr>\n",
       "  </thead>\n",
       "  <tbody>\n",
       "    <tr>\n",
       "      <th>0</th>\n",
       "      <td>0</td>\n",
       "      <td>NaN</td>\n",
       "    </tr>\n",
       "    <tr>\n",
       "      <th>1</th>\n",
       "      <td>2</td>\n",
       "      <td>미성년자</td>\n",
       "    </tr>\n",
       "    <tr>\n",
       "      <th>2</th>\n",
       "      <td>10</td>\n",
       "      <td>미성년자</td>\n",
       "    </tr>\n",
       "    <tr>\n",
       "      <th>3</th>\n",
       "      <td>21</td>\n",
       "      <td>청년</td>\n",
       "    </tr>\n",
       "    <tr>\n",
       "      <th>4</th>\n",
       "      <td>23</td>\n",
       "      <td>청년</td>\n",
       "    </tr>\n",
       "    <tr>\n",
       "      <th>5</th>\n",
       "      <td>38</td>\n",
       "      <td>장년</td>\n",
       "    </tr>\n",
       "    <tr>\n",
       "      <th>6</th>\n",
       "      <td>31</td>\n",
       "      <td>중년</td>\n",
       "    </tr>\n",
       "    <tr>\n",
       "      <th>7</th>\n",
       "      <td>61</td>\n",
       "      <td>노년</td>\n",
       "    </tr>\n",
       "    <tr>\n",
       "      <th>8</th>\n",
       "      <td>20</td>\n",
       "      <td>청년</td>\n",
       "    </tr>\n",
       "    <tr>\n",
       "      <th>9</th>\n",
       "      <td>45</td>\n",
       "      <td>장년</td>\n",
       "    </tr>\n",
       "    <tr>\n",
       "      <th>10</th>\n",
       "      <td>65</td>\n",
       "      <td>노년</td>\n",
       "    </tr>\n",
       "    <tr>\n",
       "      <th>11</th>\n",
       "      <td>12</td>\n",
       "      <td>미성년자</td>\n",
       "    </tr>\n",
       "    <tr>\n",
       "      <th>12</th>\n",
       "      <td>38</td>\n",
       "      <td>장년</td>\n",
       "    </tr>\n",
       "    <tr>\n",
       "      <th>13</th>\n",
       "      <td>99</td>\n",
       "      <td>노년</td>\n",
       "    </tr>\n",
       "    <tr>\n",
       "      <th>14</th>\n",
       "      <td>3</td>\n",
       "      <td>미성년자</td>\n",
       "    </tr>\n",
       "    <tr>\n",
       "      <th>15</th>\n",
       "      <td>51</td>\n",
       "      <td>장년</td>\n",
       "    </tr>\n",
       "    <tr>\n",
       "      <th>16</th>\n",
       "      <td>51</td>\n",
       "      <td>장년</td>\n",
       "    </tr>\n",
       "    <tr>\n",
       "      <th>17</th>\n",
       "      <td>31</td>\n",
       "      <td>중년</td>\n",
       "    </tr>\n",
       "    <tr>\n",
       "      <th>18</th>\n",
       "      <td>100</td>\n",
       "      <td>NaN</td>\n",
       "    </tr>\n",
       "    <tr>\n",
       "      <th>19</th>\n",
       "      <td>20</td>\n",
       "      <td>청년</td>\n",
       "    </tr>\n",
       "    <tr>\n",
       "      <th>20</th>\n",
       "      <td>21</td>\n",
       "      <td>청년</td>\n",
       "    </tr>\n",
       "    <tr>\n",
       "      <th>21</th>\n",
       "      <td>46</td>\n",
       "      <td>장년</td>\n",
       "    </tr>\n",
       "    <tr>\n",
       "      <th>22</th>\n",
       "      <td>55</td>\n",
       "      <td>장년</td>\n",
       "    </tr>\n",
       "  </tbody>\n",
       "</table>\n",
       "</div>"
      ],
      "text/plain": [
       "     나이   연령대\n",
       "0     0   NaN\n",
       "1     2  미성년자\n",
       "2    10  미성년자\n",
       "3    21    청년\n",
       "4    23    청년\n",
       "5    38    장년\n",
       "6    31    중년\n",
       "7    61    노년\n",
       "8    20    청년\n",
       "9    45    장년\n",
       "10   65    노년\n",
       "11   12  미성년자\n",
       "12   38    장년\n",
       "13   99    노년\n",
       "14    3  미성년자\n",
       "15   51    장년\n",
       "16   51    장년\n",
       "17   31    중년\n",
       "18  100   NaN\n",
       "19   20    청년\n",
       "20   21    청년\n",
       "21   46    장년\n",
       "22   55    장년"
      ]
     },
     "execution_count": 138,
     "metadata": {},
     "output_type": "execute_result"
    }
   ],
   "source": [
    "# 연령대 컬럼 추가\n",
    "age['연령대'] = cats"
   ]
  },
  {
   "cell_type": "code",
   "execution_count": 139,
   "id": "33984dfd",
   "metadata": {},
   "outputs": [
    {
     "data": {
      "text/html": [
       "<div>\n",
       "<style scoped>\n",
       "    .dataframe tbody tr th:only-of-type {\n",
       "        vertical-align: middle;\n",
       "    }\n",
       "\n",
       "    .dataframe tbody tr th {\n",
       "        vertical-align: top;\n",
       "    }\n",
       "\n",
       "    .dataframe thead th {\n",
       "        text-align: right;\n",
       "    }\n",
       "</style>\n",
       "<table border=\"1\" class=\"dataframe\">\n",
       "  <thead>\n",
       "    <tr style=\"text-align: right;\">\n",
       "      <th></th>\n",
       "      <th>나이</th>\n",
       "      <th>연령대</th>\n",
       "    </tr>\n",
       "  </thead>\n",
       "  <tbody>\n",
       "    <tr>\n",
       "      <th>0</th>\n",
       "      <td>0</td>\n",
       "      <td>NaN</td>\n",
       "    </tr>\n",
       "    <tr>\n",
       "      <th>1</th>\n",
       "      <td>2</td>\n",
       "      <td>미성년자</td>\n",
       "    </tr>\n",
       "    <tr>\n",
       "      <th>2</th>\n",
       "      <td>10</td>\n",
       "      <td>미성년자</td>\n",
       "    </tr>\n",
       "    <tr>\n",
       "      <th>3</th>\n",
       "      <td>21</td>\n",
       "      <td>청년</td>\n",
       "    </tr>\n",
       "    <tr>\n",
       "      <th>4</th>\n",
       "      <td>23</td>\n",
       "      <td>청년</td>\n",
       "    </tr>\n",
       "    <tr>\n",
       "      <th>5</th>\n",
       "      <td>38</td>\n",
       "      <td>장년</td>\n",
       "    </tr>\n",
       "    <tr>\n",
       "      <th>6</th>\n",
       "      <td>31</td>\n",
       "      <td>중년</td>\n",
       "    </tr>\n",
       "    <tr>\n",
       "      <th>7</th>\n",
       "      <td>61</td>\n",
       "      <td>노년</td>\n",
       "    </tr>\n",
       "    <tr>\n",
       "      <th>8</th>\n",
       "      <td>20</td>\n",
       "      <td>청년</td>\n",
       "    </tr>\n",
       "    <tr>\n",
       "      <th>9</th>\n",
       "      <td>45</td>\n",
       "      <td>장년</td>\n",
       "    </tr>\n",
       "    <tr>\n",
       "      <th>10</th>\n",
       "      <td>65</td>\n",
       "      <td>노년</td>\n",
       "    </tr>\n",
       "    <tr>\n",
       "      <th>11</th>\n",
       "      <td>12</td>\n",
       "      <td>미성년자</td>\n",
       "    </tr>\n",
       "    <tr>\n",
       "      <th>12</th>\n",
       "      <td>38</td>\n",
       "      <td>장년</td>\n",
       "    </tr>\n",
       "    <tr>\n",
       "      <th>13</th>\n",
       "      <td>99</td>\n",
       "      <td>노년</td>\n",
       "    </tr>\n",
       "    <tr>\n",
       "      <th>14</th>\n",
       "      <td>3</td>\n",
       "      <td>미성년자</td>\n",
       "    </tr>\n",
       "    <tr>\n",
       "      <th>15</th>\n",
       "      <td>51</td>\n",
       "      <td>장년</td>\n",
       "    </tr>\n",
       "    <tr>\n",
       "      <th>16</th>\n",
       "      <td>51</td>\n",
       "      <td>장년</td>\n",
       "    </tr>\n",
       "    <tr>\n",
       "      <th>17</th>\n",
       "      <td>31</td>\n",
       "      <td>중년</td>\n",
       "    </tr>\n",
       "    <tr>\n",
       "      <th>18</th>\n",
       "      <td>100</td>\n",
       "      <td>NaN</td>\n",
       "    </tr>\n",
       "    <tr>\n",
       "      <th>19</th>\n",
       "      <td>20</td>\n",
       "      <td>청년</td>\n",
       "    </tr>\n",
       "    <tr>\n",
       "      <th>20</th>\n",
       "      <td>21</td>\n",
       "      <td>청년</td>\n",
       "    </tr>\n",
       "    <tr>\n",
       "      <th>21</th>\n",
       "      <td>46</td>\n",
       "      <td>장년</td>\n",
       "    </tr>\n",
       "    <tr>\n",
       "      <th>22</th>\n",
       "      <td>55</td>\n",
       "      <td>장년</td>\n",
       "    </tr>\n",
       "  </tbody>\n",
       "</table>\n",
       "</div>"
      ],
      "text/plain": [
       "     나이   연령대\n",
       "0     0   NaN\n",
       "1     2  미성년자\n",
       "2    10  미성년자\n",
       "3    21    청년\n",
       "4    23    청년\n",
       "5    38    장년\n",
       "6    31    중년\n",
       "7    61    노년\n",
       "8    20    청년\n",
       "9    45    장년\n",
       "10   65    노년\n",
       "11   12  미성년자\n",
       "12   38    장년\n",
       "13   99    노년\n",
       "14    3  미성년자\n",
       "15   51    장년\n",
       "16   51    장년\n",
       "17   31    중년\n",
       "18  100   NaN\n",
       "19   20    청년\n",
       "20   21    청년\n",
       "21   46    장년\n",
       "22   55    장년"
      ]
     },
     "execution_count": 139,
     "metadata": {},
     "output_type": "execute_result"
    }
   ],
   "source": [
    "age"
   ]
  },
  {
   "cell_type": "code",
   "execution_count": null,
   "id": "bd59d431",
   "metadata": {},
   "outputs": [],
   "source": []
  },
  {
   "cell_type": "code",
   "execution_count": null,
   "id": "667c1a68",
   "metadata": {},
   "outputs": [],
   "source": []
  },
  {
   "cell_type": "code",
   "execution_count": null,
   "id": "04ad15d4",
   "metadata": {},
   "outputs": [],
   "source": []
  },
  {
   "cell_type": "code",
   "execution_count": null,
   "id": "2560b8fa",
   "metadata": {},
   "outputs": [],
   "source": []
  },
  {
   "cell_type": "code",
   "execution_count": null,
   "id": "3e8303c6",
   "metadata": {},
   "outputs": [],
   "source": []
  }
 ],
 "metadata": {
  "kernelspec": {
   "display_name": "Python 3 (ipykernel)",
   "language": "python",
   "name": "python3"
  },
  "language_info": {
   "codemirror_mode": {
    "name": "ipython",
    "version": 3
   },
   "file_extension": ".py",
   "mimetype": "text/x-python",
   "name": "python",
   "nbconvert_exporter": "python",
   "pygments_lexer": "ipython3",
   "version": "3.9.12"
  }
 },
 "nbformat": 4,
 "nbformat_minor": 5
}
