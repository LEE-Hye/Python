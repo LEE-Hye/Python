{
 "cells": [
  {
   "cell_type": "markdown",
   "id": "7eda1cc4",
   "metadata": {},
   "source": [
    "# 함수\n",
    "- 하나의 특별한 목적의 작업을 수행하기 위해서 독립적으로 설계된 코드의 집합"
   ]
  },
  {
   "cell_type": "markdown",
   "id": "530e48c6",
   "metadata": {},
   "source": [
    "### 함수를 사용하는 이유\n",
    "- 반복적인 프로그래밍을 피할 수 있다.\n",
    "- 모듈화로 인해 전체적인 코드의 가독성이 좋아진다.\n",
    "- 프르그램에 문제가 발생하거나, 기능의 변경이 필요할 때에도 손쉽게 유지보수가 가능하다."
   ]
  },
  {
   "cell_type": "code",
   "execution_count": 1,
   "id": "a6526787",
   "metadata": {},
   "outputs": [],
   "source": [
    "# 함수 예제\n",
    "# 두 수를 입력 받아서 뺀 결과를 return(돌려주는)하는 함수를 정의해보자\n",
    "\n",
    "def number_minus(num1, num2):\n",
    "    result = 0\n",
    "    if num1 > num2:\n",
    "        result = num1 - num2\n",
    "    else:\n",
    "        result = num2 - num1\n",
    "    return result"
   ]
  },
  {
   "cell_type": "code",
   "execution_count": 4,
   "id": "315056ea",
   "metadata": {},
   "outputs": [
    {
     "name": "stdout",
     "output_type": "stream",
     "text": [
      "첫 번째 정수 입력 >> 1\n",
      "두 번째 정수 입력 >> 5\n"
     ]
    },
    {
     "data": {
      "text/plain": [
       "4"
      ]
     },
     "execution_count": 4,
     "metadata": {},
     "output_type": "execute_result"
    }
   ],
   "source": [
    "# 함수 사용하기(가져오기)\n",
    "\n",
    "num1 = int(input(\"첫 번째 정수 입력 >> \"))\n",
    "num2 = int(input(\"두 번째 정수 입력 >> \"))\n",
    "number_minus(num1, num2)"
   ]
  },
  {
   "cell_type": "code",
   "execution_count": 17,
   "id": "14dbb72a",
   "metadata": {},
   "outputs": [],
   "source": [
    "# 함수 예제\n",
    "# 문자열을 입력 받아 'ㅋ'을 제거하고 return(돌려주는)하는 함수를 정의해보자\n",
    "\n",
    "def s_replace(s):\n",
    "    result = s.replace('ㅋ','')\n",
    "    return result"
   ]
  },
  {
   "cell_type": "code",
   "execution_count": 19,
   "id": "17171c64",
   "metadata": {},
   "outputs": [
    {
     "name": "stdout",
     "output_type": "stream",
     "text": [
      "문자열 입력 >> 안녕 ㅋㅋ하셉 ㅋㅋ\n"
     ]
    },
    {
     "data": {
      "text/plain": [
       "'안녕 하셉 '"
      ]
     },
     "execution_count": 19,
     "metadata": {},
     "output_type": "execute_result"
    }
   ],
   "source": [
    "s = input(\"문자열 입력 >> \")\n",
    "s_replace(s)"
   ]
  },
  {
   "cell_type": "code",
   "execution_count": null,
   "id": "d7a94f88",
   "metadata": {},
   "outputs": [],
   "source": []
  },
  {
   "cell_type": "code",
   "execution_count": 30,
   "id": "15fd7d55",
   "metadata": {},
   "outputs": [],
   "source": [
    "# 함수 예제\n",
    "# 두 수를 입력 받아서 원하는 연산을 수행하는 함수를 정의하세요\n",
    "\n",
    "def cal(num1, num2, op):\n",
    "    result = 0\n",
    "    if(op=='+'):\n",
    "        result = num1 + num2\n",
    "    elif(op=='-'):\n",
    "        result = num1 - num2 if num1 > num2 else num2 - num1\n",
    "    else:\n",
    "        result = \"다시 입력해주세요\"\n",
    "    return result"
   ]
  },
  {
   "cell_type": "code",
   "execution_count": 33,
   "id": "e720d129",
   "metadata": {},
   "outputs": [
    {
     "name": "stdout",
     "output_type": "stream",
     "text": [
      "첫 번째 정수 입력 >> 4\n",
      "두 번째 정수 입력 >> 2\n",
      "연산자 입력(+,-) >> +\n",
      "결과 : 6\n"
     ]
    }
   ],
   "source": [
    "num1 = int(input(\"첫 번째 정수 입력 >> \"))\n",
    "num2 = int(input(\"두 번째 정수 입력 >> \"))\n",
    "op = input(\"연산자 입력(+,-) >> \")\n",
    "\n",
    "result = cal(num1, num2, op)\n",
    "print(f\"결과 : {result}\")"
   ]
  },
  {
   "cell_type": "code",
   "execution_count": null,
   "id": "c9a03e0a",
   "metadata": {},
   "outputs": [],
   "source": [
    "# 주석"
   ]
  },
  {
   "cell_type": "markdown",
   "id": "705be51a",
   "metadata": {},
   "source": [
    "### 주석을 위한 공간"
   ]
  },
  {
   "cell_type": "code",
   "execution_count": 34,
   "id": "235c90e5",
   "metadata": {},
   "outputs": [],
   "source": [
    "# 함수에서 사용하는 속성을 알아내는 방법\n",
    "# 함수() --> 소괄호 안에 커서를 둔 채로 shift + tab키를 누르면 설명이 나온다\n",
    "\n",
    "# 독스트링(docstring) : 함수의 설명을 작성하는 공간(함수만의 주석)\n",
    "def cal(num1, num2, op):\n",
    "    '''덧셈과 뺄셈을 계산하는 함수'''\n",
    "    result = 0\n",
    "    if(op=='+'):\n",
    "        result = num1 + num2\n",
    "    elif(op=='-'):\n",
    "        result = num1 - num2 if num1 > num2 else num2 - num1\n",
    "    else:\n",
    "        result = \"다시 입력해주세요\"\n",
    "    return result"
   ]
  },
  {
   "cell_type": "code",
   "execution_count": null,
   "id": "eeea075a",
   "metadata": {},
   "outputs": [],
   "source": []
  },
  {
   "cell_type": "code",
   "execution_count": 77,
   "id": "12dbcea2",
   "metadata": {},
   "outputs": [],
   "source": [
    "# 함수 예제\n",
    "# 첫 번째 약수를 구하는 함수를 정의하시오\n",
    "# 함수 정의 시 return(돌려주는)없는 경우\n",
    "\n",
    "def divisor(num):\n",
    "    '''약수를 구하는 함수'''\n",
    "    for i in range(1,num+1):\n",
    "        if num % i ==0:\n",
    "            print(i, end=' ')\n",
    "    print()"
   ]
  },
  {
   "cell_type": "code",
   "execution_count": 78,
   "id": "8a72b7bd",
   "metadata": {},
   "outputs": [
    {
     "name": "stdout",
     "output_type": "stream",
     "text": [
      "1 2 5 10 \n",
      "1 2 4 8 16 32 \n",
      "1 2 4 5 10 20 25 50 100 \n"
     ]
    }
   ],
   "source": [
    "divisor(10)\n",
    "divisor(32)\n",
    "divisor(100)"
   ]
  },
  {
   "cell_type": "code",
   "execution_count": 58,
   "id": "9b6cecab",
   "metadata": {},
   "outputs": [],
   "source": [
    "# 두 번째 약수를 구하는 함수를 정의하시오\n",
    "# 함수 정의 시 return(돌려주는)있는 경우\n",
    "def divisor2(num):\n",
    "    '''리스트를 이용한 약수를 구하는 함수'''\n",
    "    div_list =[]\n",
    "    \n",
    "    for i in range(1,num+1):\n",
    "        if num % i ==0:\n",
    "            div_list.append(i)\n",
    "    return div_list"
   ]
  },
  {
   "cell_type": "code",
   "execution_count": 61,
   "id": "8fec96d9",
   "metadata": {
    "scrolled": true
   },
   "outputs": [
    {
     "data": {
      "text/plain": [
       "[1, 2, 5, 10]"
      ]
     },
     "execution_count": 61,
     "metadata": {},
     "output_type": "execute_result"
    }
   ],
   "source": [
    "divisor(10)"
   ]
  },
  {
   "cell_type": "code",
   "execution_count": null,
   "id": "8ea76a76",
   "metadata": {},
   "outputs": [],
   "source": []
  },
  {
   "cell_type": "code",
   "execution_count": 83,
   "id": "5a5f8f5f",
   "metadata": {},
   "outputs": [],
   "source": [
    "# 함수 - 가변 매개변서(*)\n",
    "# 함수 호출 시 몇 개의 인수가 전달될지 알 수 없다면, 사용자가 직접 매개변수의 개수를 정할 수 있도록 선언\n",
    "\n",
    "# 전달된 모든 인수를 튜플() 형태로 저장해보자\n",
    "def add(*args):\n",
    "    '''전달된 모든 인수 튜플로 저장하는 함수'''\n",
    "    print(args)"
   ]
  },
  {
   "cell_type": "code",
   "execution_count": 84,
   "id": "aaf5bde5",
   "metadata": {},
   "outputs": [
    {
     "name": "stdout",
     "output_type": "stream",
     "text": [
      "(4, 44, 2, 12, 3, 2, 0)\n"
     ]
    }
   ],
   "source": [
    "add(4,44,2,12,3,2,0)"
   ]
  },
  {
   "cell_type": "code",
   "execution_count": 85,
   "id": "d3b7973e",
   "metadata": {},
   "outputs": [],
   "source": [
    "# 전달된 모든 인수를 튜플() 형태로 저장해보자\n",
    "def add(*args):\n",
    "    '''전달된 모든 인수 합계 구해주는 함수'''\n",
    "    result = 0\n",
    "    result = sum(args)\n",
    "    return result"
   ]
  },
  {
   "cell_type": "code",
   "execution_count": 86,
   "id": "19af04c8",
   "metadata": {},
   "outputs": [
    {
     "data": {
      "text/plain": [
       "50"
      ]
     },
     "execution_count": 86,
     "metadata": {},
     "output_type": "execute_result"
    }
   ],
   "source": [
    "add(5,5,5,5,5,5,5,5,5,5)"
   ]
  }
 ],
 "metadata": {
  "kernelspec": {
   "display_name": "Python 3 (ipykernel)",
   "language": "python",
   "name": "python3"
  },
  "language_info": {
   "codemirror_mode": {
    "name": "ipython",
    "version": 3
   },
   "file_extension": ".py",
   "mimetype": "text/x-python",
   "name": "python",
   "nbconvert_exporter": "python",
   "pygments_lexer": "ipython3",
   "version": "3.9.12"
  }
 },
 "nbformat": 4,
 "nbformat_minor": 5
}
