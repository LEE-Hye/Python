{
 "cells": [
  {
   "cell_type": "markdown",
   "id": "3e09c08d",
   "metadata": {},
   "source": [
    "# 반복문\n",
    "- 프로그램 내에서 똑같은 명령을 일정 횟수만큼 반복적으로 수행하도록 제어하는 명령문\n",
    "- 반복문 종류에는 while문, for문이 있다\n",
    "    - while문 : 반복 횟수가 명확하지 않을 때(모를 때)\n",
    "    - for문 : 반복 횟수가 명확할 때(알 때)"
   ]
  },
  {
   "cell_type": "code",
   "execution_count": null,
   "id": "a35806de",
   "metadata": {},
   "outputs": [],
   "source": []
  },
  {
   "cell_type": "code",
   "execution_count": 72,
   "id": "71a2fc3b",
   "metadata": {
    "collapsed": true
   },
   "outputs": [
    {
     "name": "stdout",
     "output_type": "stream",
     "text": [
      "파이썬 최고!\n",
      "파이썬 최고!\n",
      "파이썬 최고!\n",
      "파이썬 최고!\n",
      "파이썬 최고!\n",
      "파이썬 최고!\n",
      "파이썬 최고!\n",
      "파이썬 최고!\n",
      "파이썬 최고!\n",
      "파이썬 최고!\n"
     ]
    }
   ],
   "source": [
    "# while문 예제\n",
    "\n",
    "# while문을 사용해서 \"파이썬 최고!\"를 12번 출력하세요\n",
    "\n",
    "num = 0\n",
    "\n",
    "while num < 10:\n",
    "    print(\"파이썬 최고!\")\n",
    "    num += 1"
   ]
  },
  {
   "cell_type": "code",
   "execution_count": 73,
   "id": "25bac55c",
   "metadata": {},
   "outputs": [
    {
     "name": "stdout",
     "output_type": "stream",
     "text": [
      "무한루프\n"
     ]
    }
   ],
   "source": [
    "# while문 - break\n",
    "# 반복문을 나가는 기능\n",
    "\n",
    "while True:\n",
    "    print(\"무한루프\")\n",
    "    break"
   ]
  },
  {
   "cell_type": "code",
   "execution_count": 75,
   "id": "07ac78f3",
   "metadata": {},
   "outputs": [
    {
     "name": "stdout",
     "output_type": "stream",
     "text": [
      "1\n",
      "2\n",
      "3\n"
     ]
    }
   ],
   "source": [
    "number = 1\n",
    "\n",
    "while True:\n",
    "    print(number)\n",
    "    number += 1\n",
    "    if number > 3:\n",
    "        break"
   ]
  },
  {
   "cell_type": "code",
   "execution_count": 81,
   "id": "ea26d9ea",
   "metadata": {},
   "outputs": [
    {
     "name": "stdout",
     "output_type": "stream",
     "text": [
      "첫번째 정수를 입력하세요 : 12\n",
      "두번째 정수를 입력하세요 : 2\n",
      "두 정수의 합 : 14\n",
      "\n",
      "첫번째 정수를 입력하세요 : 0\n",
      "두번째 정수를 입력하세요 : 45\n",
      "두 정수의 합 : 45\n",
      "\n",
      "첫번째 정수를 입력하세요 : 0\n",
      "두번째 정수를 입력하세요 : 0\n",
      "프로그램이 종료되었습니다.\n"
     ]
    }
   ],
   "source": [
    "# while문 예제\n",
    "# 두개의 정수를 입력 받아서 더하는 코드를 작성해보자(단, 두개의 정수가 0이 들어올 때 까지 반복)\n",
    "\n",
    "while True:\n",
    "    num1 = int(input(\"첫번째 정수를 입력하세요 : \"))\n",
    "    num2 = int(input(\"두번째 정수를 입력하세요 : \"))\n",
    "    if num1==0 and num2 ==0:\n",
    "        break\n",
    "    print(f\"두 정수의 합 : {num1 + num2}\")\n",
    "    print()\n",
    "\n",
    "\n",
    "print(\"프로그램이 종료되었습니다.\")\n",
    "    "
   ]
  },
  {
   "cell_type": "code",
   "execution_count": null,
   "id": "582479c3",
   "metadata": {},
   "outputs": [],
   "source": []
  },
  {
   "cell_type": "code",
   "execution_count": null,
   "id": "24091e33",
   "metadata": {},
   "outputs": [],
   "source": []
  },
  {
   "cell_type": "code",
   "execution_count": 132,
   "id": "f834a17a",
   "metadata": {},
   "outputs": [
    {
     "data": {
      "text/plain": [
       "10"
      ]
     },
     "execution_count": 132,
     "metadata": {},
     "output_type": "execute_result"
    }
   ],
   "source": [
    "# random 라이브러리 사용\n",
    "\n",
    "# 라이브러리 import\n",
    "import random\n",
    "\n",
    "# random.randint(시작값, 끝값(포함o)) 사용\n",
    "# 1~10 사이에 숫자 랜덤 추출\n",
    "random.randint(1,10)"
   ]
  },
  {
   "cell_type": "code",
   "execution_count": 135,
   "id": "7a664387",
   "metadata": {},
   "outputs": [
    {
     "name": "stdout",
     "output_type": "stream",
     "text": [
      "숫자를 입력하세요 >> 13\n",
      "13보다 큰 수 입니다.\n",
      "숫자를 입력하세요 >> 25\n",
      "25보다 작은 수 입니다.\n",
      "숫자를 입력하세요 >> 22\n",
      "22보다 큰 수 입니다.\n",
      "숫자를 입력하세요 >> 23\n",
      "정답을 맞추셨습니다.\n"
     ]
    }
   ],
   "source": [
    "# while문 예제\n",
    "# 랜덤으로 1~50 사이의 숫자를 뽑으면 뽑은 숫자를 맞추는 up, down 게임\n",
    "\n",
    "ran = random.randint(1,50)\n",
    "\n",
    "while True:\n",
    "    num = int(input(\"숫자를 입력하세요 >> \"))\n",
    "    if num > ran:\n",
    "        print(f\"{num}보다 작은 수 입니다.\")\n",
    "    elif num < ran:\n",
    "        print(f\"{num}보다 큰 수 입니다.\")\n",
    "    else:\n",
    "        print(\"정답을 맞추셨습니다.\")\n",
    "        break"
   ]
  },
  {
   "cell_type": "code",
   "execution_count": null,
   "id": "0389214a",
   "metadata": {},
   "outputs": [],
   "source": []
  },
  {
   "cell_type": "markdown",
   "id": "e1d69928",
   "metadata": {},
   "source": [
    "### for문"
   ]
  },
  {
   "cell_type": "code",
   "execution_count": 136,
   "id": "a8155fa7",
   "metadata": {},
   "outputs": [
    {
     "name": "stdout",
     "output_type": "stream",
     "text": [
      "안\n",
      "녕\n",
      "하\n",
      "세\n",
      "요\n"
     ]
    }
   ],
   "source": [
    "# for문 예시\n",
    "\n",
    "# 인덱스 방을 하나하나 접근한다.\n",
    "hi = \"안녕하세요\"\n",
    "\n",
    "for i in hi:\n",
    "    print(i)"
   ]
  },
  {
   "cell_type": "code",
   "execution_count": 137,
   "id": "ffdba88a",
   "metadata": {},
   "outputs": [
    {
     "name": "stdout",
     "output_type": "stream",
     "text": [
      "햄버거\n",
      "치킨\n",
      "피자\n"
     ]
    }
   ],
   "source": [
    "tuple_food = (\"햄버거\",\"치킨\",\"피자\")\n",
    "\n",
    "for food in tuple_food:\n",
    "    print(food)"
   ]
  },
  {
   "cell_type": "code",
   "execution_count": 139,
   "id": "b8492663",
   "metadata": {},
   "outputs": [
    {
     "name": "stdout",
     "output_type": "stream",
     "text": [
      "1번 학생은 합격입니다.\n",
      "2번 학생은 불합격입니다.\n",
      "3번 학생은 합격입니다.\n",
      "4번 학생은 합격입니다.\n",
      "5번 학생은 불합격입니다.\n"
     ]
    }
   ],
   "source": [
    "# for문 예제\n",
    "# 5명에 대한 정보처리기사 자격증 시험 점수가 리스트에 담겨있습니다.\n",
    "# 이 때 각 점수가 합격 점수인지 불합격 점수인지 판별하여 출력하시오.(60점 이상 합격)\n",
    "\n",
    "score_list = [90,45,70,60,55]\n",
    "num=0\n",
    "\n",
    "for score in score_list:\n",
    "    if(score >= 60):\n",
    "        hap = \"합격\"\n",
    "    else:\n",
    "        hap = \"불합격\"\n",
    "    num += 1\n",
    "    print(f\"{num}번 학생은 {hap}입니다.\")"
   ]
  },
  {
   "cell_type": "markdown",
   "id": "5aec9b62",
   "metadata": {},
   "source": [
    "### range() 함수\n",
    "- 필요한 만큼의 숫자를 만들어내는 매우 유용한 기능\n",
    "- ragne(시작할 숫자, 종료할 숫자+1(포함x), 증가량)\n",
    "    - range(1, 10, 1) -> 1부터 9까지 1씩 증가하겠다는 코드\n",
    "    - range(1, 100, 3) -> 1부터 99까지 3식 증가하겠다는 코드\n",
    "    - range(10, 1, -1) -> 10부터 2까지 1씩 감소(-1씩 증가)"
   ]
  },
  {
   "cell_type": "code",
   "execution_count": 1,
   "id": "3335da15",
   "metadata": {},
   "outputs": [
    {
     "name": "stdout",
     "output_type": "stream",
     "text": [
      "1\n",
      "2\n",
      "3\n",
      "4\n",
      "5\n",
      "6\n",
      "7\n",
      "8\n",
      "9\n"
     ]
    }
   ],
   "source": [
    "# range() 함수 사용해보기\n",
    "\n",
    "for i in range(1, 10, 1):\n",
    "    print(i)"
   ]
  },
  {
   "cell_type": "code",
   "execution_count": 4,
   "id": "fbe675a2",
   "metadata": {},
   "outputs": [
    {
     "name": "stdout",
     "output_type": "stream",
     "text": [
      "1\t2\t3\t4\t5\t6\t7\t8\t9\t"
     ]
    }
   ],
   "source": [
    "# print() 함수에도 유용한 기능이 있다. --> end 속성\n",
    "\n",
    "for i in range(1, 10, 1):\n",
    "    print(i, end='\\t')"
   ]
  },
  {
   "attachments": {
    "image.png": {
     "image/png": "[encoded data removed]"
    }
   },
   "cell_type": "markdown",
   "id": "97d94f2a",
   "metadata": {},
   "source": [
    "![image.png](attachment:image.png)"
   ]
  },
  {
   "cell_type": "markdown",
   "id": "1f71276d",
   "metadata": {},
   "source": [
    "### range()함수 디폴트 값\n",
    "- range(기본값:0, 종료할 숫자+1(포함x), 기본값:+1)\n",
    "    - range(3, 10) --> 3부터 9까지 1씩 증가\n",
    "    - range(10) --> 0부터 9까지 1씩 증가"
   ]
  },
  {
   "cell_type": "code",
   "execution_count": 5,
   "id": "2584d571",
   "metadata": {},
   "outputs": [
    {
     "name": "stdout",
     "output_type": "stream",
     "text": [
      "3 4 5 6 7 8 9 "
     ]
    }
   ],
   "source": [
    "# range() 함수 사용\n",
    "\n",
    "for i in range(3, 10):\n",
    "    print(i, end=' ')"
   ]
  },
  {
   "cell_type": "code",
   "execution_count": 6,
   "id": "d5bd4820",
   "metadata": {
    "scrolled": true
   },
   "outputs": [
    {
     "name": "stdout",
     "output_type": "stream",
     "text": [
      "0 1 2 3 4 5 6 7 8 9 "
     ]
    }
   ],
   "source": [
    "for i in range(10):\n",
    "    print(i, end=' ')"
   ]
  },
  {
   "cell_type": "code",
   "execution_count": 8,
   "id": "1b5bf9d6",
   "metadata": {},
   "outputs": [
    {
     "name": "stdout",
     "output_type": "stream",
     "text": [
      "97 96 95 94 93 92 91 90 89 88 87 86 85 84 83 82 81 80 79 78 77 "
     ]
    }
   ],
   "source": [
    "# 1. for문을 이용하여 97부터 77까지 출력하시오\n",
    "\n",
    "for i in range(97, 76,-1):\n",
    "    print(i, end=' ')"
   ]
  },
  {
   "cell_type": "code",
   "execution_count": 10,
   "id": "52152d87",
   "metadata": {},
   "outputs": [
    {
     "name": "stdout",
     "output_type": "stream",
     "text": [
      "23 24 25 26 27 28 29 30 31 32 33 34 35 36 37 38 39 40 "
     ]
    }
   ],
   "source": [
    "# 2. for문을 이용하여 23부터 40까지 출력하시오\n",
    "for i in range(23, 41):\n",
    "    print(i, end=' ')"
   ]
  },
  {
   "cell_type": "code",
   "execution_count": 11,
   "id": "093ba14e",
   "metadata": {},
   "outputs": [],
   "source": [
    "# 리스트안에 리스트를 접근하기 위해서(인덱스 안에 인덱스)\n",
    "# for문으로 사용 할 변수를 추가적으로 사용해 줄 수 있다.\n",
    "\n",
    "list1 = [[1,2],[3,4],[5,6]]"
   ]
  },
  {
   "cell_type": "code",
   "execution_count": 12,
   "id": "77c1ad44",
   "metadata": {},
   "outputs": [
    {
     "name": "stdout",
     "output_type": "stream",
     "text": [
      "1 2\n",
      "3 4\n",
      "5 6\n"
     ]
    }
   ],
   "source": [
    "for i,j in list1:\n",
    "    print(i, j)"
   ]
  },
  {
   "cell_type": "code",
   "execution_count": 17,
   "id": "8e5f0d7a",
   "metadata": {},
   "outputs": [
    {
     "name": "stdout",
     "output_type": "stream",
     "text": [
      "첫 번째 정수를 입력해주세요 >> 10\n",
      "두 번째 정수를 입력해주세요 >> 30\n",
      "10 11 12 13 14 15 16 17 18 19 20 21 22 23 24 25 26 27 28 29 30 "
     ]
    }
   ],
   "source": [
    "# for문 예제\n",
    "# 두 개의 정수를 키보드로 입력 받아\n",
    "# 첫 번째 정수부터 두 번째 정수까지 출력되는 코드 작성하기\n",
    "\n",
    "start = int(input(\"첫 번째 정수를 입력해주세요 >> \"))\n",
    "end = int(input(\"두 번째 정수를 입력해주세요 >> \"))\n",
    "\n",
    "for i in range(start, end+1):\n",
    "    print(i, end=' ')"
   ]
  },
  {
   "cell_type": "code",
   "execution_count": 24,
   "id": "f599349b",
   "metadata": {},
   "outputs": [
    {
     "name": "stdout",
     "output_type": "stream",
     "text": [
      "1683\n"
     ]
    }
   ],
   "source": [
    "# for문 예제\n",
    "# 1. 1~100 사이에 숫자 중 3의 배수인 값들의 합을 구하는 코드(정답 1683)\n",
    "\n",
    "sum1 = 0\n",
    "\n",
    "for i in range(1, 101):\n",
    "    if(i % 3) == 0:\n",
    "        sum1+=i\n",
    "print(sum1)"
   ]
  },
  {
   "cell_type": "code",
   "execution_count": 27,
   "id": "6c2e470e",
   "metadata": {},
   "outputs": [
    {
     "name": "stdout",
     "output_type": "stream",
     "text": [
      "2 * 1 = 2\n",
      "2 * 2 = 4\n",
      "2 * 3 = 6\n",
      "2 * 4 = 8\n",
      "2 * 5 = 10\n",
      "2 * 6 = 12\n",
      "2 * 7 = 14\n",
      "2 * 8 = 16\n",
      "2 * 9 = 18\n"
     ]
    }
   ],
   "source": [
    "# 2. for문을 이용하여 구구단 2단을 출력하시오\n",
    "\n",
    "for i in range(1, 10):\n",
    "    print(f\"2 * {i} = {2 * i}\")"
   ]
  },
  {
   "cell_type": "code",
   "execution_count": 48,
   "id": "6826df4a",
   "metadata": {},
   "outputs": [
    {
     "name": "stdout",
     "output_type": "stream",
     "text": [
      "정수 입력 >> 32\n",
      "32의 약수 :  [1, 2, 4, 8, 16, 32]\n"
     ]
    }
   ],
   "source": [
    "# for문 예제\n",
    "# 숫자를 입력 받고 입력 받은 숫자의 약수를 구하시오\n",
    "# (약수란 어떤 수를 나누어서 떨어지게 하는 수)\n",
    "\n",
    "# 1. 첫 번째 방법(list)\n",
    "num = int(input(\"정수 입력 >> \"))\n",
    "list1 = []\n",
    "\n",
    "print(f\"{num}의 약수 : \", end=\" \")\n",
    "\n",
    "for i in range(1, num+1):\n",
    "    if num % i ==0:\n",
    "        list1.append(i)\n",
    "print(list1)"
   ]
  },
  {
   "cell_type": "code",
   "execution_count": 54,
   "id": "91f3c400",
   "metadata": {},
   "outputs": [
    {
     "name": "stdout",
     "output_type": "stream",
     "text": [
      "정수 입력 >> 32\n",
      "32의 약수 :  1 2 4 8 16 32 "
     ]
    }
   ],
   "source": [
    "# 2. 두 번째 방법(있는 그대로 출력하기)\n",
    "num = int(input('정수 입력 >> '))\n",
    "\n",
    "print(f'{num}의 약수 : ', end=' ')\n",
    "\n",
    "for i in range(1, num+1):\n",
    "    if num % i ==0:\n",
    "        print(i, end=' ')"
   ]
  },
  {
   "cell_type": "code",
   "execution_count": 90,
   "id": "b89da73f",
   "metadata": {},
   "outputs": [
    {
     "name": "stdout",
     "output_type": "stream",
     "text": [
      "Life is too short, You need python."
     ]
    }
   ],
   "source": [
    "# for문 예제\n",
    "# 암호문을 올바르게 해석하려면 '거꾸로' 읽어야 한다\n",
    "# 암호문을 해석하기 위한 반복문을 작성하시오(len()함수 이용)\n",
    "\n",
    "s = \".nohtyp deen uoY ,trohs oot si efiL\"\n",
    "\n",
    "# 해당 문자열에 길이부터 시작해서 감소한 상태\n",
    "for i in range(len(s),0,-1):\n",
    "    # 인덱싱(접근) 한건데 끝에것 부터 차곡차곡 뽑아온 상태(양수에서 감소)\n",
    "    print(s[i-1],end=\"\")"
   ]
  },
  {
   "cell_type": "code",
   "execution_count": 92,
   "id": "27b072df",
   "metadata": {},
   "outputs": [
    {
     "name": "stdout",
     "output_type": "stream",
     "text": [
      "Life is too short, You need python"
     ]
    }
   ],
   "source": [
    "s = \".nohtyp deen uoY ,trohs oot si efiL\"\n",
    "\n",
    "# 해당 문자열에 가장 끝 인덱스부터 시작해서 음수가 증가한 상태\n",
    "for i in range(-1, -len(s),-1):\n",
    "    # 인덱싱(접근) 할건데 끝에서 왔기 때문에 그대로 뽑아온 상태\n",
    "    print(s[i],end=\"\")"
   ]
  },
  {
   "cell_type": "code",
   "execution_count": 114,
   "id": "a73cdc39",
   "metadata": {
    "scrolled": false
   },
   "outputs": [
    {
     "name": "stdout",
     "output_type": "stream",
     "text": [
      "2*1 = 2\t2*2 = 4\t2*3 = 6\t2*4 = 8\t2*5 = 10\t2*6 = 12\t2*7 = 14\t2*8 = 16\t2*9 = 18\t\n",
      "3*1 = 3\t3*2 = 6\t3*3 = 9\t3*4 = 12\t3*5 = 15\t3*6 = 18\t3*7 = 21\t3*8 = 24\t3*9 = 27\t\n",
      "4*1 = 4\t4*2 = 8\t4*3 = 12\t4*4 = 16\t4*5 = 20\t4*6 = 24\t4*7 = 28\t4*8 = 32\t4*9 = 36\t\n",
      "5*1 = 5\t5*2 = 10\t5*3 = 15\t5*4 = 20\t5*5 = 25\t5*6 = 30\t5*7 = 35\t5*8 = 40\t5*9 = 45\t\n",
      "6*1 = 6\t6*2 = 12\t6*3 = 18\t6*4 = 24\t6*5 = 30\t6*6 = 36\t6*7 = 42\t6*8 = 48\t6*9 = 54\t\n",
      "7*1 = 7\t7*2 = 14\t7*3 = 21\t7*4 = 28\t7*5 = 35\t7*6 = 42\t7*7 = 49\t7*8 = 56\t7*9 = 63\t\n",
      "8*1 = 8\t8*2 = 16\t8*3 = 24\t8*4 = 32\t8*5 = 40\t8*6 = 48\t8*7 = 56\t8*8 = 64\t8*9 = 72\t\n",
      "9*1 = 9\t9*2 = 18\t9*3 = 27\t9*4 = 36\t9*5 = 45\t9*6 = 54\t9*7 = 63\t9*8 = 72\t9*9 = 81\t\n"
     ]
    }
   ],
   "source": [
    "# for문 예제\n",
    "# 구구단 2단부터 9단까지 출력하기(가로방향)\n",
    "\n",
    "for i in range(2, 10):\n",
    "    for j in range(1, 10):\n",
    "            print(f\"{i}*{j} = {i*j}\", end='\\t')\n",
    "    print()"
   ]
  },
  {
   "cell_type": "code",
   "execution_count": 124,
   "id": "fefa6eef",
   "metadata": {},
   "outputs": [
    {
     "name": "stdout",
     "output_type": "stream",
     "text": [
      "2*1 = 2\t3*1 = 3\t4*1 = 4\t5*1 = 5\t6*1 = 6\t7*1 = 7\t8*1 = 8\t9*1 = 9\t\n",
      "2*2 = 4\t3*2 = 6\t4*2 = 8\t5*2 = 10\t6*2 = 12\t7*2 = 14\t8*2 = 16\t9*2 = 18\t\n",
      "2*3 = 6\t3*3 = 9\t4*3 = 12\t5*3 = 15\t6*3 = 18\t7*3 = 21\t8*3 = 24\t9*3 = 27\t\n",
      "2*4 = 8\t3*4 = 12\t4*4 = 16\t5*4 = 20\t6*4 = 24\t7*4 = 28\t8*4 = 32\t9*4 = 36\t\n",
      "2*5 = 10\t3*5 = 15\t4*5 = 20\t5*5 = 25\t6*5 = 30\t7*5 = 35\t8*5 = 40\t9*5 = 45\t\n",
      "2*6 = 12\t3*6 = 18\t4*6 = 24\t5*6 = 30\t6*6 = 36\t7*6 = 42\t8*6 = 48\t9*6 = 54\t\n",
      "2*7 = 14\t3*7 = 21\t4*7 = 28\t5*7 = 35\t6*7 = 42\t7*7 = 49\t8*7 = 56\t9*7 = 63\t\n",
      "2*8 = 16\t3*8 = 24\t4*8 = 32\t5*8 = 40\t6*8 = 48\t7*8 = 56\t8*8 = 64\t9*8 = 72\t\n",
      "2*9 = 18\t3*9 = 27\t4*9 = 36\t5*9 = 45\t6*9 = 54\t7*9 = 63\t8*9 = 72\t9*9 = 81\t\n"
     ]
    }
   ],
   "source": [
    "# for문 예제\n",
    "# 구구단 2단부터 9단까지 출력하기(세로방향)\n",
    "\n",
    "for i in range(1, 10):\n",
    "    for j in range(2, 10):\n",
    "            print(f\"{j}*{i} = {i*j}\", end='\\t')\n",
    "    print()"
   ]
  },
  {
   "cell_type": "code",
   "execution_count": 123,
   "id": "03ad7c32",
   "metadata": {},
   "outputs": [
    {
     "name": "stdout",
     "output_type": "stream",
     "text": [
      "짝수 2개 , 홀수 7개\n"
     ]
    }
   ],
   "source": [
    "# for문 마지막 예제\n",
    "# 짝수와 홀수의 개수 출력하기\n",
    "\n",
    "list1 = [1,30,7,9,17,3,5,23,44]\n",
    "jjack = 0\n",
    "hol = 0\n",
    "\n",
    "for i in list1:\n",
    "    if i % 2 == 0:\n",
    "        jjack += 1\n",
    "    else:\n",
    "        hol += 1\n",
    "print(f\"짝수 {jjack}개 , 홀수 {hol}개\")"
   ]
  }
 ],
 "metadata": {
  "kernelspec": {
   "display_name": "Python 3 (ipykernel)",
   "language": "python",
   "name": "python3"
  },
  "language_info": {
   "codemirror_mode": {
    "name": "ipython",
    "version": 3
   },
   "file_extension": ".py",
   "mimetype": "text/x-python",
   "name": "python",
   "nbconvert_exporter": "python",
   "pygments_lexer": "ipython3",
   "version": "3.9.12"
  }
 },
 "nbformat": 4,
 "nbformat_minor": 5
}
